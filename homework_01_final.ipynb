{
  "cells": [
    {
      "cell_type": "markdown",
      "metadata": {
        "id": "view-in-github",
        "colab_type": "text"
      },
      "source": [
        "<a href=\"https://colab.research.google.com/github/Shaunak-Mukherjee/ME539-Scientific-ML/blob/main/Shaunak_Mukherjee_ME539_homework_01_final.ipynb\" target=\"_parent\"><img src=\"https://colab.research.google.com/assets/colab-badge.svg\" alt=\"Open In Colab\"/></a>"
      ]
    },
    {
      "cell_type": "markdown",
      "metadata": {
        "id": "doJGIwVknYoO"
      },
      "source": [
        "# Homework 1\n",
        "\n",
        "## References\n",
        "\n",
        "+ Lectures 1 through 4 (inclusive).\n",
        "\n",
        "\n",
        "## Instructions\n",
        "\n",
        "+ Type your name and email in the \"Student details\" section below.\n",
        "+ Develop the code and generate the figures you need to solve the problems using this notebook.\n",
        "+ For the answers that require a mathematical proof or derivation you should type them using latex. If you have never written latex before and you find it exceedingly difficult, we will likely accept handwritten solutions.\n",
        "+ The total homework points are 100. Please note that the problems are not weighed equally."
      ]
    },
    {
      "cell_type": "code",
      "execution_count": null,
      "metadata": {
        "tags": [
          "hide-input"
        ],
        "id": "zAUWUFZEnYoT"
      },
      "outputs": [],
      "source": [
        "import matplotlib.pyplot as plt\n",
        "%matplotlib inline\n",
        "import matplotlib_inline\n",
        "matplotlib_inline.backend_inline.set_matplotlib_formats('svg')\n",
        "import seaborn as sns\n",
        "sns.set_context(\"paper\")\n",
        "sns.set_style(\"ticks\")\n",
        "\n",
        "import numpy as np\n",
        "import scipy\n",
        "import scipy.stats as st\n",
        "import urllib.request\n",
        "import os\n",
        "\n",
        "def download(\n",
        "    url : str,\n",
        "    local_filename : str = None\n",
        "):\n",
        "    \"\"\"Download a file from a url.\n",
        "\n",
        "    Arguments\n",
        "    url            -- The url we want to download.\n",
        "    local_filename -- The filemame to write on. If not\n",
        "                      specified\n",
        "    \"\"\"\n",
        "    if local_filename is None:\n",
        "        local_filename = os.path.basename(url)\n",
        "    urllib.request.urlretrieve(url, local_filename)"
      ]
    },
    {
      "cell_type": "markdown",
      "metadata": {
        "id": "j9n1k1DfnYoV"
      },
      "source": [
        "## Student details\n",
        "\n",
        "+ **First Name: Shaunak**\n",
        "+ **Last Name: Mukherjee**\n",
        "+ **Email: mukher86@purdue.edu**\n",
        "+ **Used generative AI to complete this assignment (Yes/No):No**\n",
        "+ **Which generative AI tool did you use (if applicable)?:NA**"
      ]
    },
    {
      "cell_type": "markdown",
      "metadata": {
        "id": "pfrd-uV9nYoW"
      },
      "source": [
        "## Problem 1\n",
        "\n",
        "Disclaimer: This example is a modified version of the one found in a 2013 lecture on Bayesian Scientific Computing taught by Prof. Nicholas Zabaras.\n",
        "I am not sure where the original problem is coming from.\n",
        "\n",
        "We are tasked with assessing the usefulness of a tuberculosis test.\n",
        "The prior information I is:\n",
        "\n",
        "> The percentage of the population infected by tuberculosis is 0.4\\%.\n",
        "We have run several experiments and determined that:\n",
        "+ If a tested patient has the disease, then 80\\% of the time the test comes out positive.\n",
        "+ If a tested patient does not have the disease, then 90\\% of the time the test comes out negative.\n",
        "\n",
        "To facilitate your analysis, consider the following logical sentences concerning a patient:\n",
        "\n",
        "> A: The patient is tested and the test is positive.\n",
        "\n",
        "> B: The patient has tuberculosis.\n",
        "\n",
        "A. Find the probability that the patient has tuberculosis (before looking at the result of the test), i.e., $p(B|I)$. This is known as the base rate or the prior probability.<br>\n",
        "**Answer:**\n",
        "<br>\n",
        "<br>\n",
        "\n",
        "$p(B | I)$ = 0.004 Here, B is an event here  0.4% i.e. 0.004, patients who have tuberculosis within I:\n"
      ]
    },
    {
      "cell_type": "markdown",
      "metadata": {
        "id": "AE9JDKMMnYoW"
      },
      "source": [
        "B. Find the probability that the test is positive given that the patient has tuberculosis, i.e., $p(A|B,I)$.<br>\n",
        "**Answer:**\n",
        "<br>\n",
        "<br>\n",
        "$p(A|B,I)$ = 0.8 or 80% i.e. A patient is tested and test is positive and B patient has Tuberculosis\n"
      ]
    },
    {
      "cell_type": "markdown",
      "metadata": {
        "id": "e0uob8gCnYoX"
      },
      "source": [
        "C. Find the probability that the test is positive given that the patient does not have tuberculosis, i.e., $p(A|\\neg B, I)$.<br>\n",
        "**Answer:**\n",
        "\n",
        "<br>\n",
        "$p(A|\\neg B, I)$ = 0.1 or 10% i.e. Tested and positive but does NOT have tuberculosis\n",
        "\n",
        "\n",
        "\n"
      ]
    },
    {
      "cell_type": "markdown",
      "metadata": {
        "id": "Z8ILjxoLnYoX"
      },
      "source": [
        "D. Find the probability that a patient that tested positive has tuberculosis, i.e., $p(B|A,I)$.<br>\n",
        "**Answer:**\n",
        "<br>\n",
        "<br>\n",
        "Using Bayer Theorem\n",
        "$p(B|A,I)$ = $(p(A | B, I).p(B | I)) / p(A)$\n",
        "where $p(A) = (p(A | B, I) .p(B | I) + p(A|\\neg B, I).\n",
        "p(\\neg B ,I))$\n",
        "\n",
        "$p(B|A,I)$ = (0.80 x 0.004) / ((0.004 x 0.80) + (0.10 x 0.996)) = 0.0032/0.1028 = 0.03113 or ~ 3.11% (Ans)\n"
      ]
    },
    {
      "cell_type": "markdown",
      "metadata": {
        "id": "f03H5L3qnYoY"
      },
      "source": [
        "E. Find the probability that a patient that tested negative has tuberculosis, i.e., $p(B|\\neg A, I)$. Does the test change our prior state of knowledge about about the patient? Is the test useful?<br>\n",
        "**Answer:**\n",
        "<br>\n",
        "<br>\n",
        "Using Bayer Theorem, same way,\n",
        "$p(B|\\neg A, I)$ = $(p(\\neg A | B, I) . p(B | I)) / p(\\neg A)$\n",
        "where $p(\\neg A) = (p\\neg A | B, I). p(B | I) + p(\\neg A|\\neg B, I) .\n",
        "p(\\neg B ,I))$\n",
        "\n",
        "$p(\\neg A)$ = (1.00-0.8) x (0.004) + (1.000-0.004) x (0.9) = 0.8972\n",
        "Hence, $p(B|\\neg A, I)$ = (1.00-0.8) x 0.004 /  0.8972 = 0.0008 /0.8972 = 0.00089 or 0.089%\n",
        "\n",
        "*   the probability of tuberculosis given was 0.4%, but after this test where the probability that patients tested negative and have tuberculosis is 0.089% for patients having tuberculosis, changes the prior knowledge of the probability of affected patients.\n",
        "*   Yes the test is useful, a extremely low probability $< 0.1%$ of having tuberculosis after the negative test indicates one probably dont have tuberculosis due to lack of test accuracy of the test. Kind of sanity check I would say. One should still improve the accuracy of the negative test.\n",
        "\n",
        "\n"
      ]
    },
    {
      "cell_type": "markdown",
      "metadata": {
        "id": "YTCJKcZUnYoY"
      },
      "source": [
        "F. What would a good test look like? Find values for\n",
        "\n",
        "$$\n",
        "p(A|B,I)= p(\\text{test is positive} |\\text{has tuberculosis},I),\n",
        "$$\n",
        "\n",
        "and\n",
        "\n",
        "$$\n",
        "p(A| \\neg B, I) = p(\\text{test is positive}|\\text{does not have tuberculosis}, I),\n",
        "$$\n",
        "\n",
        "so that\n",
        "\n",
        "$$\n",
        "p(B|A, I) = p(\\text{has tuberculosis}|\\text{test is positive}, I) = 0.99.\n",
        "$$\n",
        "\n",
        "There are more than one solutions. How would you pick a good one? Thinking in this way can help you set goals if you work in R\\&D. If you have time, try to figure out whether or not there exists such an accurate test for tuberculosis<br>\n",
        "**Answer:**\n",
        "<br>\n",
        "<br>\n",
        "p(B|A, I) = p(\\text{has tuberculosis}|\\text{test is positive}, I) = 0.99.\n",
        "\n",
        "We have solved this earlier.\n",
        "$p(B|A,I)$ = $(p(A | B, I).p(B | I)) / p(A)$\n",
        "where $p(A) = (p(A | B, I) .p(B | I) + p(A|\\neg B, I).\n",
        "p(\\neg B ,I))$\n",
        "\n",
        "Let  $p(A | B, I) = x$, & $p(A|\\neg B, I) = y$\n",
        "\n",
        "Plug in rest in expression above we get,\n",
        "$p(B|A,I)$ = $x$ * 0.004 / (( $x$ * 0.004) + ($y$ * 0.996)) = 0.99\n",
        "<br>\n",
        "or,\n",
        "0.99 * (( $x$ * 0.004) + ($y$ * 0.996)) = $x$ * 0.004\n",
        "<br>\n",
        "or, y = 0.00004 * $x$/ 0.98604 = 0.00004 *$x$\n",
        "\n",
        "or $p(A|\\neg B, I)$ = 0.00004 * $p(A | B, I)$\n",
        "\n",
        "To pick good one we should consider a test which will have high max probability of detection of positive cases $p(A∣B,I)$  and low probability of detection of false positive cases $p(A|\\neg B, I)$,\n",
        "So, if we choose $p(A∣B,I)$ = 0.99, $p(A|\\neg B, I)$ = 0.00004 or 0.004%. I am being realistic here with 99% disease detectability. 100% detectibility is not realized in practice due to many extrenal variables and factors.\n",
        "\n",
        "According to web MD https://www.webmd.com/lung/tests-tuberculosis most accurate TB test is TB skin test.\n",
        "Based on data I found in link here- https://www.questhealth.com/articles/tuberculosis-blood-test-vs-skin-test.html\n",
        "\n",
        "Sensitivity of 79% and specificity of 97% with specificity being as low as 59% in BCG-vaccinated patients (high false positive).\n",
        "This means the specificity also depends on many other factors."
      ]
    },
    {
      "cell_type": "markdown",
      "metadata": {
        "id": "hjjeMaPWnYoZ"
      },
      "source": [
        "## Problem 2 - Practice with discrete random variables\n",
        "\n",
        "Consider the Categorical random variable:\n",
        "\n",
        "$$\n",
        "X \\sim \\operatorname{Categorical}(0.3, 0.1, 0.2, 0.4),\n",
        "$$\n",
        "\n",
        "taking values in $\\{0,1,2,3\\}$. Find the following (you may use ``scipy.stats.rv_discrete`` or do it by hand):"
      ]
    },
    {
      "cell_type": "markdown",
      "metadata": {
        "id": "KWl7qxADnYoZ"
      },
      "source": [
        "A. The expectation $\\mathbb{E}[X]$.\n",
        "\n",
        "**Answer:**\n",
        "<br><br>"
      ]
    },
    {
      "cell_type": "code",
      "execution_count": null,
      "metadata": {
        "id": "xVHnka6MnYoZ",
        "colab": {
          "base_uri": "https://localhost:8080/"
        },
        "outputId": "347104f9-95a2-4b54-a1e0-26e9dfe26362"
      },
      "outputs": [
        {
          "output_type": "stream",
          "name": "stdout",
          "text": [
            "The Expectation E[X] is: 1.700\n"
          ]
        }
      ],
      "source": [
        "import numpy as np\n",
        "\n",
        "# Implemented expect function\n",
        "def expect_X(x, p):\n",
        "\n",
        "  x = np.array(x)\n",
        "  p = np.array(p)\n",
        "  E_X = np.sum(x * p)\n",
        "  return E_X\n",
        "\n",
        "# Given in problem 2\n",
        "x = [0, 1, 2, 3]\n",
        "p = [0.3, 0.1, 0.2, 0.4]\n",
        "\n",
        "E_X = expect_X(x, p)\n",
        "print(f\"The Expectation E[X] is: {E_X:.3f}\")"
      ]
    },
    {
      "cell_type": "markdown",
      "metadata": {
        "id": "JTTotxhpnYoa"
      },
      "source": [
        "B. The variance $\\mathbb{V}[X]$.\n",
        "\n",
        "**Answer:**\n",
        "<br><br>"
      ]
    },
    {
      "cell_type": "code",
      "execution_count": null,
      "metadata": {
        "id": "--GLutK9nYoa",
        "colab": {
          "base_uri": "https://localhost:8080/"
        },
        "outputId": "6dbe88e5-70e4-46d6-b615-ca29883fb977"
      },
      "outputs": [
        {
          "output_type": "stream",
          "name": "stdout",
          "text": [
            "The Variance V[X] is: 1.610\n"
          ]
        }
      ],
      "source": [
        "import numpy as np\n",
        "\n",
        "# Implemented variance function\n",
        "def variance_X(x,p):\n",
        "  x = np.array(x)\n",
        "  p = np.array(p)\n",
        "  E_X = np.sum(x * p)\n",
        "  E_X_sq = np.sum((x ** 2) * p)\n",
        "  V_X = E_X_sq - (E_X ** 2)\n",
        "  return V_X\n",
        "\n",
        "# Given in problem 2\n",
        "x = [0, 1, 2, 3]\n",
        "p = [0.3, 0.1, 0.2, 0.4]\n",
        "\n",
        "V_X = variance_X(x, p)\n",
        "print(f\"The Variance V[X] is: {V_X:.3f}\")"
      ]
    },
    {
      "cell_type": "markdown",
      "metadata": {
        "id": "Rt3nCUYGnYoa"
      },
      "source": [
        "C. Plot the probability mass function of $X$."
      ]
    },
    {
      "cell_type": "code",
      "execution_count": null,
      "metadata": {
        "id": "ZEEfUZcxnYoa",
        "colab": {
          "base_uri": "https://localhost:8080/",
          "height": 394
        },
        "outputId": "46352808-e7fc-4875-ca23-8657503177a3"
      },
      "outputs": [
        {
          "output_type": "display_data",
          "data": {
            "text/plain": [
              "<Figure size 400x400 with 1 Axes>"
            ],
            "image/svg+xml": "<?xml version=\"1.0\" encoding=\"utf-8\" standalone=\"no\"?>\n<!DOCTYPE svg PUBLIC \"-//W3C//DTD SVG 1.1//EN\"\n  \"http://www.w3.org/Graphics/SVG/1.1/DTD/svg11.dtd\">\n<svg xmlns:xlink=\"http://www.w3.org/1999/xlink\" width=\"278.80575pt\" height=\"279.56225pt\" viewBox=\"0 0 278.80575 279.56225\" xmlns=\"http://www.w3.org/2000/svg\" version=\"1.1\">\n <metadata>\n  <rdf:RDF xmlns:dc=\"http://purl.org/dc/elements/1.1/\" xmlns:cc=\"http://creativecommons.org/ns#\" xmlns:rdf=\"http://www.w3.org/1999/02/22-rdf-syntax-ns#\">\n   <cc:Work>\n    <dc:type rdf:resource=\"http://purl.org/dc/dcmitype/StillImage\"/>\n    <dc:date>2024-06-18T15:33:32.481956</dc:date>\n    <dc:format>image/svg+xml</dc:format>\n    <dc:creator>\n     <cc:Agent>\n      <dc:title>Matplotlib v3.7.1, https://matplotlib.org/</dc:title>\n     </cc:Agent>\n    </dc:creator>\n   </cc:Work>\n  </rdf:RDF>\n </metadata>\n <defs>\n  <style type=\"text/css\">*{stroke-linejoin: round; stroke-linecap: butt}</style>\n </defs>\n <g id=\"figure_1\">\n  <g id=\"patch_1\">\n   <path d=\"M 0 279.56225 \nL 278.80575 279.56225 \nL 278.80575 0 \nL 0 0 \nz\n\" style=\"fill: #ffffff\"/>\n  </g>\n  <g id=\"axes_1\">\n   <g id=\"patch_2\">\n    <path d=\"M 48.40575 242.2545 \nL 271.60575 242.2545 \nL 271.60575 20.4945 \nL 48.40575 20.4945 \nz\n\" style=\"fill: #ffffff\"/>\n   </g>\n   <g id=\"matplotlib.axis_1\">\n    <g id=\"xtick_1\">\n     <g id=\"line2d_1\">\n      <defs>\n       <path id=\"ma5fddf4640\" d=\"M 0 0 \nL 0 4.8 \n\" style=\"stroke: #262626\"/>\n      </defs>\n      <g>\n       <use xlink:href=\"#ma5fddf4640\" x=\"79.910056\" y=\"242.2545\" style=\"fill: #262626; stroke: #262626\"/>\n      </g>\n     </g>\n     <g id=\"text_1\">\n      <!-- 0 -->\n      <g style=\"fill: #262626\" transform=\"translate(77.110556 257.241125) scale(0.088 -0.088)\">\n       <defs>\n        <path id=\"DejaVuSans-30\" d=\"M 2034 4250 \nQ 1547 4250 1301 3770 \nQ 1056 3291 1056 2328 \nQ 1056 1369 1301 889 \nQ 1547 409 2034 409 \nQ 2525 409 2770 889 \nQ 3016 1369 3016 2328 \nQ 3016 3291 2770 3770 \nQ 2525 4250 2034 4250 \nz\nM 2034 4750 \nQ 2819 4750 3233 4129 \nQ 3647 3509 3647 2328 \nQ 3647 1150 3233 529 \nQ 2819 -91 2034 -91 \nQ 1250 -91 836 529 \nQ 422 1150 422 2328 \nQ 422 3509 836 4129 \nQ 1250 4750 2034 4750 \nz\n\" transform=\"scale(0.015625)\"/>\n       </defs>\n       <use xlink:href=\"#DejaVuSans-30\"/>\n      </g>\n     </g>\n    </g>\n    <g id=\"xtick_2\">\n     <g id=\"line2d_2\">\n      <g>\n       <use xlink:href=\"#ma5fddf4640\" x=\"133.307185\" y=\"242.2545\" style=\"fill: #262626; stroke: #262626\"/>\n      </g>\n     </g>\n     <g id=\"text_2\">\n      <!-- 1 -->\n      <g style=\"fill: #262626\" transform=\"translate(130.507685 257.241125) scale(0.088 -0.088)\">\n       <defs>\n        <path id=\"DejaVuSans-31\" d=\"M 794 531 \nL 1825 531 \nL 1825 4091 \nL 703 3866 \nL 703 4441 \nL 1819 4666 \nL 2450 4666 \nL 2450 531 \nL 3481 531 \nL 3481 0 \nL 794 0 \nL 794 531 \nz\n\" transform=\"scale(0.015625)\"/>\n       </defs>\n       <use xlink:href=\"#DejaVuSans-31\"/>\n      </g>\n     </g>\n    </g>\n    <g id=\"xtick_3\">\n     <g id=\"line2d_3\">\n      <g>\n       <use xlink:href=\"#ma5fddf4640\" x=\"186.704315\" y=\"242.2545\" style=\"fill: #262626; stroke: #262626\"/>\n      </g>\n     </g>\n     <g id=\"text_3\">\n      <!-- 2 -->\n      <g style=\"fill: #262626\" transform=\"translate(183.904815 257.241125) scale(0.088 -0.088)\">\n       <defs>\n        <path id=\"DejaVuSans-32\" d=\"M 1228 531 \nL 3431 531 \nL 3431 0 \nL 469 0 \nL 469 531 \nQ 828 903 1448 1529 \nQ 2069 2156 2228 2338 \nQ 2531 2678 2651 2914 \nQ 2772 3150 2772 3378 \nQ 2772 3750 2511 3984 \nQ 2250 4219 1831 4219 \nQ 1534 4219 1204 4116 \nQ 875 4013 500 3803 \nL 500 4441 \nQ 881 4594 1212 4672 \nQ 1544 4750 1819 4750 \nQ 2544 4750 2975 4387 \nQ 3406 4025 3406 3419 \nQ 3406 3131 3298 2873 \nQ 3191 2616 2906 2266 \nQ 2828 2175 2409 1742 \nQ 1991 1309 1228 531 \nz\n\" transform=\"scale(0.015625)\"/>\n       </defs>\n       <use xlink:href=\"#DejaVuSans-32\"/>\n      </g>\n     </g>\n    </g>\n    <g id=\"xtick_4\">\n     <g id=\"line2d_4\">\n      <g>\n       <use xlink:href=\"#ma5fddf4640\" x=\"240.101444\" y=\"242.2545\" style=\"fill: #262626; stroke: #262626\"/>\n      </g>\n     </g>\n     <g id=\"text_4\">\n      <!-- 3 -->\n      <g style=\"fill: #262626\" transform=\"translate(237.301944 257.241125) scale(0.088 -0.088)\">\n       <defs>\n        <path id=\"DejaVuSans-33\" d=\"M 2597 2516 \nQ 3050 2419 3304 2112 \nQ 3559 1806 3559 1356 \nQ 3559 666 3084 287 \nQ 2609 -91 1734 -91 \nQ 1441 -91 1130 -33 \nQ 819 25 488 141 \nL 488 750 \nQ 750 597 1062 519 \nQ 1375 441 1716 441 \nQ 2309 441 2620 675 \nQ 2931 909 2931 1356 \nQ 2931 1769 2642 2001 \nQ 2353 2234 1838 2234 \nL 1294 2234 \nL 1294 2753 \nL 1863 2753 \nQ 2328 2753 2575 2939 \nQ 2822 3125 2822 3475 \nQ 2822 3834 2567 4026 \nQ 2313 4219 1838 4219 \nQ 1578 4219 1281 4162 \nQ 984 4106 628 3988 \nL 628 4550 \nQ 988 4650 1302 4700 \nQ 1616 4750 1894 4750 \nQ 2613 4750 3031 4423 \nQ 3450 4097 3450 3541 \nQ 3450 3153 3228 2886 \nQ 3006 2619 2597 2516 \nz\n\" transform=\"scale(0.015625)\"/>\n       </defs>\n       <use xlink:href=\"#DejaVuSans-33\"/>\n      </g>\n     </g>\n    </g>\n    <g id=\"text_5\">\n     <!-- $x$- -&gt; -->\n     <g style=\"fill: #262626\" transform=\"translate(149.63775 270.36575) scale(0.096 -0.096)\">\n      <defs>\n       <path id=\"DejaVuSans-Oblique-78\" d=\"M 3841 3500 \nL 2234 1784 \nL 3219 0 \nL 2559 0 \nL 1819 1388 \nL 531 0 \nL -166 0 \nL 1556 1844 \nL 641 3500 \nL 1300 3500 \nL 1972 2234 \nL 3144 3500 \nL 3841 3500 \nz\n\" transform=\"scale(0.015625)\"/>\n       <path id=\"DejaVuSans-2d\" d=\"M 313 2009 \nL 1997 2009 \nL 1997 1497 \nL 313 1497 \nL 313 2009 \nz\n\" transform=\"scale(0.015625)\"/>\n       <path id=\"DejaVuSans-3e\" d=\"M 678 3150 \nL 678 3719 \nL 4684 2266 \nL 4684 1747 \nL 678 294 \nL 678 863 \nL 3897 2003 \nL 678 3150 \nz\n\" transform=\"scale(0.015625)\"/>\n      </defs>\n      <use xlink:href=\"#DejaVuSans-Oblique-78\" transform=\"translate(0 0.890625)\"/>\n      <use xlink:href=\"#DejaVuSans-2d\" transform=\"translate(59.179688 0.890625)\"/>\n      <use xlink:href=\"#DejaVuSans-2d\" transform=\"translate(95.263672 0.890625)\"/>\n      <use xlink:href=\"#DejaVuSans-3e\" transform=\"translate(131.347656 0.890625)\"/>\n     </g>\n    </g>\n   </g>\n   <g id=\"matplotlib.axis_2\">\n    <g id=\"ytick_1\">\n     <g id=\"line2d_5\">\n      <defs>\n       <path id=\"m4db804ecf6\" d=\"M 0 0 \nL -4.8 0 \n\" style=\"stroke: #262626\"/>\n      </defs>\n      <g>\n       <use xlink:href=\"#m4db804ecf6\" x=\"48.40575\" y=\"242.2545\" style=\"fill: #262626; stroke: #262626\"/>\n      </g>\n     </g>\n     <g id=\"text_6\">\n      <!-- 0.00 -->\n      <g style=\"fill: #262626\" transform=\"translate(20.512 245.597813) scale(0.088 -0.088)\">\n       <defs>\n        <path id=\"DejaVuSans-2e\" d=\"M 684 794 \nL 1344 794 \nL 1344 0 \nL 684 0 \nL 684 794 \nz\n\" transform=\"scale(0.015625)\"/>\n       </defs>\n       <use xlink:href=\"#DejaVuSans-30\"/>\n       <use xlink:href=\"#DejaVuSans-2e\" x=\"63.623047\"/>\n       <use xlink:href=\"#DejaVuSans-30\" x=\"95.410156\"/>\n       <use xlink:href=\"#DejaVuSans-30\" x=\"159.033203\"/>\n      </g>\n     </g>\n    </g>\n    <g id=\"ytick_2\">\n     <g id=\"line2d_6\">\n      <g>\n       <use xlink:href=\"#m4db804ecf6\" x=\"48.40575\" y=\"215.8545\" style=\"fill: #262626; stroke: #262626\"/>\n      </g>\n     </g>\n     <g id=\"text_7\">\n      <!-- 0.05 -->\n      <g style=\"fill: #262626\" transform=\"translate(20.512 219.197813) scale(0.088 -0.088)\">\n       <defs>\n        <path id=\"DejaVuSans-35\" d=\"M 691 4666 \nL 3169 4666 \nL 3169 4134 \nL 1269 4134 \nL 1269 2991 \nQ 1406 3038 1543 3061 \nQ 1681 3084 1819 3084 \nQ 2600 3084 3056 2656 \nQ 3513 2228 3513 1497 \nQ 3513 744 3044 326 \nQ 2575 -91 1722 -91 \nQ 1428 -91 1123 -41 \nQ 819 9 494 109 \nL 494 744 \nQ 775 591 1075 516 \nQ 1375 441 1709 441 \nQ 2250 441 2565 725 \nQ 2881 1009 2881 1497 \nQ 2881 1984 2565 2268 \nQ 2250 2553 1709 2553 \nQ 1456 2553 1204 2497 \nQ 953 2441 691 2322 \nL 691 4666 \nz\n\" transform=\"scale(0.015625)\"/>\n       </defs>\n       <use xlink:href=\"#DejaVuSans-30\"/>\n       <use xlink:href=\"#DejaVuSans-2e\" x=\"63.623047\"/>\n       <use xlink:href=\"#DejaVuSans-30\" x=\"95.410156\"/>\n       <use xlink:href=\"#DejaVuSans-35\" x=\"159.033203\"/>\n      </g>\n     </g>\n    </g>\n    <g id=\"ytick_3\">\n     <g id=\"line2d_7\">\n      <g>\n       <use xlink:href=\"#m4db804ecf6\" x=\"48.40575\" y=\"189.4545\" style=\"fill: #262626; stroke: #262626\"/>\n      </g>\n     </g>\n     <g id=\"text_8\">\n      <!-- 0.10 -->\n      <g style=\"fill: #262626\" transform=\"translate(20.512 192.797813) scale(0.088 -0.088)\">\n       <use xlink:href=\"#DejaVuSans-30\"/>\n       <use xlink:href=\"#DejaVuSans-2e\" x=\"63.623047\"/>\n       <use xlink:href=\"#DejaVuSans-31\" x=\"95.410156\"/>\n       <use xlink:href=\"#DejaVuSans-30\" x=\"159.033203\"/>\n      </g>\n     </g>\n    </g>\n    <g id=\"ytick_4\">\n     <g id=\"line2d_8\">\n      <g>\n       <use xlink:href=\"#m4db804ecf6\" x=\"48.40575\" y=\"163.0545\" style=\"fill: #262626; stroke: #262626\"/>\n      </g>\n     </g>\n     <g id=\"text_9\">\n      <!-- 0.15 -->\n      <g style=\"fill: #262626\" transform=\"translate(20.512 166.397813) scale(0.088 -0.088)\">\n       <use xlink:href=\"#DejaVuSans-30\"/>\n       <use xlink:href=\"#DejaVuSans-2e\" x=\"63.623047\"/>\n       <use xlink:href=\"#DejaVuSans-31\" x=\"95.410156\"/>\n       <use xlink:href=\"#DejaVuSans-35\" x=\"159.033203\"/>\n      </g>\n     </g>\n    </g>\n    <g id=\"ytick_5\">\n     <g id=\"line2d_9\">\n      <g>\n       <use xlink:href=\"#m4db804ecf6\" x=\"48.40575\" y=\"136.6545\" style=\"fill: #262626; stroke: #262626\"/>\n      </g>\n     </g>\n     <g id=\"text_10\">\n      <!-- 0.20 -->\n      <g style=\"fill: #262626\" transform=\"translate(20.512 139.997813) scale(0.088 -0.088)\">\n       <use xlink:href=\"#DejaVuSans-30\"/>\n       <use xlink:href=\"#DejaVuSans-2e\" x=\"63.623047\"/>\n       <use xlink:href=\"#DejaVuSans-32\" x=\"95.410156\"/>\n       <use xlink:href=\"#DejaVuSans-30\" x=\"159.033203\"/>\n      </g>\n     </g>\n    </g>\n    <g id=\"ytick_6\">\n     <g id=\"line2d_10\">\n      <g>\n       <use xlink:href=\"#m4db804ecf6\" x=\"48.40575\" y=\"110.2545\" style=\"fill: #262626; stroke: #262626\"/>\n      </g>\n     </g>\n     <g id=\"text_11\">\n      <!-- 0.25 -->\n      <g style=\"fill: #262626\" transform=\"translate(20.512 113.597813) scale(0.088 -0.088)\">\n       <use xlink:href=\"#DejaVuSans-30\"/>\n       <use xlink:href=\"#DejaVuSans-2e\" x=\"63.623047\"/>\n       <use xlink:href=\"#DejaVuSans-32\" x=\"95.410156\"/>\n       <use xlink:href=\"#DejaVuSans-35\" x=\"159.033203\"/>\n      </g>\n     </g>\n    </g>\n    <g id=\"ytick_7\">\n     <g id=\"line2d_11\">\n      <g>\n       <use xlink:href=\"#m4db804ecf6\" x=\"48.40575\" y=\"83.8545\" style=\"fill: #262626; stroke: #262626\"/>\n      </g>\n     </g>\n     <g id=\"text_12\">\n      <!-- 0.30 -->\n      <g style=\"fill: #262626\" transform=\"translate(20.512 87.197813) scale(0.088 -0.088)\">\n       <use xlink:href=\"#DejaVuSans-30\"/>\n       <use xlink:href=\"#DejaVuSans-2e\" x=\"63.623047\"/>\n       <use xlink:href=\"#DejaVuSans-33\" x=\"95.410156\"/>\n       <use xlink:href=\"#DejaVuSans-30\" x=\"159.033203\"/>\n      </g>\n     </g>\n    </g>\n    <g id=\"ytick_8\">\n     <g id=\"line2d_12\">\n      <g>\n       <use xlink:href=\"#m4db804ecf6\" x=\"48.40575\" y=\"57.4545\" style=\"fill: #262626; stroke: #262626\"/>\n      </g>\n     </g>\n     <g id=\"text_13\">\n      <!-- 0.35 -->\n      <g style=\"fill: #262626\" transform=\"translate(20.512 60.797813) scale(0.088 -0.088)\">\n       <use xlink:href=\"#DejaVuSans-30\"/>\n       <use xlink:href=\"#DejaVuSans-2e\" x=\"63.623047\"/>\n       <use xlink:href=\"#DejaVuSans-33\" x=\"95.410156\"/>\n       <use xlink:href=\"#DejaVuSans-35\" x=\"159.033203\"/>\n      </g>\n     </g>\n    </g>\n    <g id=\"ytick_9\">\n     <g id=\"line2d_13\">\n      <g>\n       <use xlink:href=\"#m4db804ecf6\" x=\"48.40575\" y=\"31.0545\" style=\"fill: #262626; stroke: #262626\"/>\n      </g>\n     </g>\n     <g id=\"text_14\">\n      <!-- 0.40 -->\n      <g style=\"fill: #262626\" transform=\"translate(20.512 34.397813) scale(0.088 -0.088)\">\n       <defs>\n        <path id=\"DejaVuSans-34\" d=\"M 2419 4116 \nL 825 1625 \nL 2419 1625 \nL 2419 4116 \nz\nM 2253 4666 \nL 3047 4666 \nL 3047 1625 \nL 3713 1625 \nL 3713 1100 \nL 3047 1100 \nL 3047 0 \nL 2419 0 \nL 2419 1100 \nL 313 1100 \nL 313 1709 \nL 2253 4666 \nz\n\" transform=\"scale(0.015625)\"/>\n       </defs>\n       <use xlink:href=\"#DejaVuSans-30\"/>\n       <use xlink:href=\"#DejaVuSans-2e\" x=\"63.623047\"/>\n       <use xlink:href=\"#DejaVuSans-34\" x=\"95.410156\"/>\n       <use xlink:href=\"#DejaVuSans-30\" x=\"159.033203\"/>\n      </g>\n     </g>\n    </g>\n    <g id=\"text_15\">\n     <!-- $p(x)$- -&gt; -->\n     <g style=\"fill: #262626\" transform=\"translate(14.496 148.5105) rotate(-90) scale(0.096 -0.096)\">\n      <defs>\n       <path id=\"DejaVuSans-Oblique-70\" d=\"M 3175 2156 \nQ 3175 2616 2975 2859 \nQ 2775 3103 2400 3103 \nQ 2144 3103 1911 2972 \nQ 1678 2841 1497 2591 \nQ 1319 2344 1212 1994 \nQ 1106 1644 1106 1300 \nQ 1106 863 1306 627 \nQ 1506 391 1875 391 \nQ 2147 391 2380 519 \nQ 2613 647 2778 891 \nQ 2956 1147 3065 1494 \nQ 3175 1841 3175 2156 \nz\nM 1394 2969 \nQ 1625 3272 1939 3428 \nQ 2253 3584 2638 3584 \nQ 3175 3584 3472 3232 \nQ 3769 2881 3769 2247 \nQ 3769 1728 3584 1258 \nQ 3400 788 3053 416 \nQ 2822 169 2531 39 \nQ 2241 -91 1919 -91 \nQ 1547 -91 1294 64 \nQ 1041 219 916 525 \nL 556 -1331 \nL -19 -1331 \nL 922 3500 \nL 1497 3500 \nL 1394 2969 \nz\n\" transform=\"scale(0.015625)\"/>\n       <path id=\"DejaVuSans-28\" d=\"M 1984 4856 \nQ 1566 4138 1362 3434 \nQ 1159 2731 1159 2009 \nQ 1159 1288 1364 580 \nQ 1569 -128 1984 -844 \nL 1484 -844 \nQ 1016 -109 783 600 \nQ 550 1309 550 2009 \nQ 550 2706 781 3412 \nQ 1013 4119 1484 4856 \nL 1984 4856 \nz\n\" transform=\"scale(0.015625)\"/>\n       <path id=\"DejaVuSans-29\" d=\"M 513 4856 \nL 1013 4856 \nQ 1481 4119 1714 3412 \nQ 1947 2706 1947 2009 \nQ 1947 1309 1714 600 \nQ 1481 -109 1013 -844 \nL 513 -844 \nQ 928 -128 1133 580 \nQ 1338 1288 1338 2009 \nQ 1338 2731 1133 3434 \nQ 928 4138 513 4856 \nz\n\" transform=\"scale(0.015625)\"/>\n      </defs>\n      <use xlink:href=\"#DejaVuSans-Oblique-70\" transform=\"translate(0 0.125)\"/>\n      <use xlink:href=\"#DejaVuSans-28\" transform=\"translate(63.476562 0.125)\"/>\n      <use xlink:href=\"#DejaVuSans-Oblique-78\" transform=\"translate(102.490234 0.125)\"/>\n      <use xlink:href=\"#DejaVuSans-29\" transform=\"translate(161.669922 0.125)\"/>\n      <use xlink:href=\"#DejaVuSans-2d\" transform=\"translate(200.683594 0.125)\"/>\n      <use xlink:href=\"#DejaVuSans-2d\" transform=\"translate(236.767578 0.125)\"/>\n      <use xlink:href=\"#DejaVuSans-3e\" transform=\"translate(272.851562 0.125)\"/>\n     </g>\n    </g>\n   </g>\n   <g id=\"patch_3\">\n    <path d=\"M 58.551205 242.2545 \nL 101.268908 242.2545 \nL 101.268908 83.8545 \nL 58.551205 83.8545 \nz\n\" clip-path=\"url(#p2754e5c400)\" style=\"fill: #90ee90; stroke: #000000; stroke-width: 0.8; stroke-linejoin: miter\"/>\n   </g>\n   <g id=\"patch_4\">\n    <path d=\"M 111.948334 242.2545 \nL 154.666037 242.2545 \nL 154.666037 189.4545 \nL 111.948334 189.4545 \nz\n\" clip-path=\"url(#p2754e5c400)\" style=\"fill: #90ee90; stroke: #000000; stroke-width: 0.8; stroke-linejoin: miter\"/>\n   </g>\n   <g id=\"patch_5\">\n    <path d=\"M 165.345463 242.2545 \nL 208.063166 242.2545 \nL 208.063166 136.6545 \nL 165.345463 136.6545 \nz\n\" clip-path=\"url(#p2754e5c400)\" style=\"fill: #90ee90; stroke: #000000; stroke-width: 0.8; stroke-linejoin: miter\"/>\n   </g>\n   <g id=\"patch_6\">\n    <path d=\"M 218.742592 242.2545 \nL 261.460295 242.2545 \nL 261.460295 31.0545 \nL 218.742592 31.0545 \nz\n\" clip-path=\"url(#p2754e5c400)\" style=\"fill: #90ee90; stroke: #000000; stroke-width: 0.8; stroke-linejoin: miter\"/>\n   </g>\n   <g id=\"patch_7\">\n    <path d=\"M 48.40575 242.2545 \nL 48.40575 20.4945 \n\" style=\"fill: none; stroke: #262626; stroke-linejoin: miter; stroke-linecap: square\"/>\n   </g>\n   <g id=\"patch_8\">\n    <path d=\"M 271.60575 242.2545 \nL 271.60575 20.4945 \n\" style=\"fill: none; stroke: #262626; stroke-linejoin: miter; stroke-linecap: square\"/>\n   </g>\n   <g id=\"patch_9\">\n    <path d=\"M 48.40575 242.2545 \nL 271.60575 242.2545 \n\" style=\"fill: none; stroke: #262626; stroke-linejoin: miter; stroke-linecap: square\"/>\n   </g>\n   <g id=\"patch_10\">\n    <path d=\"M 48.40575 20.4945 \nL 271.60575 20.4945 \n\" style=\"fill: none; stroke: #262626; stroke-linejoin: miter; stroke-linecap: square\"/>\n   </g>\n   <g id=\"text_16\">\n    <!-- Plot of probability mass function of X -->\n    <g style=\"fill: #262626\" transform=\"translate(71.43075 14.4945) scale(0.096 -0.096)\">\n     <defs>\n      <path id=\"DejaVuSans-50\" d=\"M 1259 4147 \nL 1259 2394 \nL 2053 2394 \nQ 2494 2394 2734 2622 \nQ 2975 2850 2975 3272 \nQ 2975 3691 2734 3919 \nQ 2494 4147 2053 4147 \nL 1259 4147 \nz\nM 628 4666 \nL 2053 4666 \nQ 2838 4666 3239 4311 \nQ 3641 3956 3641 3272 \nQ 3641 2581 3239 2228 \nQ 2838 1875 2053 1875 \nL 1259 1875 \nL 1259 0 \nL 628 0 \nL 628 4666 \nz\n\" transform=\"scale(0.015625)\"/>\n      <path id=\"DejaVuSans-6c\" d=\"M 603 4863 \nL 1178 4863 \nL 1178 0 \nL 603 0 \nL 603 4863 \nz\n\" transform=\"scale(0.015625)\"/>\n      <path id=\"DejaVuSans-6f\" d=\"M 1959 3097 \nQ 1497 3097 1228 2736 \nQ 959 2375 959 1747 \nQ 959 1119 1226 758 \nQ 1494 397 1959 397 \nQ 2419 397 2687 759 \nQ 2956 1122 2956 1747 \nQ 2956 2369 2687 2733 \nQ 2419 3097 1959 3097 \nz\nM 1959 3584 \nQ 2709 3584 3137 3096 \nQ 3566 2609 3566 1747 \nQ 3566 888 3137 398 \nQ 2709 -91 1959 -91 \nQ 1206 -91 779 398 \nQ 353 888 353 1747 \nQ 353 2609 779 3096 \nQ 1206 3584 1959 3584 \nz\n\" transform=\"scale(0.015625)\"/>\n      <path id=\"DejaVuSans-74\" d=\"M 1172 4494 \nL 1172 3500 \nL 2356 3500 \nL 2356 3053 \nL 1172 3053 \nL 1172 1153 \nQ 1172 725 1289 603 \nQ 1406 481 1766 481 \nL 2356 481 \nL 2356 0 \nL 1766 0 \nQ 1100 0 847 248 \nQ 594 497 594 1153 \nL 594 3053 \nL 172 3053 \nL 172 3500 \nL 594 3500 \nL 594 4494 \nL 1172 4494 \nz\n\" transform=\"scale(0.015625)\"/>\n      <path id=\"DejaVuSans-20\" transform=\"scale(0.015625)\"/>\n      <path id=\"DejaVuSans-66\" d=\"M 2375 4863 \nL 2375 4384 \nL 1825 4384 \nQ 1516 4384 1395 4259 \nQ 1275 4134 1275 3809 \nL 1275 3500 \nL 2222 3500 \nL 2222 3053 \nL 1275 3053 \nL 1275 0 \nL 697 0 \nL 697 3053 \nL 147 3053 \nL 147 3500 \nL 697 3500 \nL 697 3744 \nQ 697 4328 969 4595 \nQ 1241 4863 1831 4863 \nL 2375 4863 \nz\n\" transform=\"scale(0.015625)\"/>\n      <path id=\"DejaVuSans-70\" d=\"M 1159 525 \nL 1159 -1331 \nL 581 -1331 \nL 581 3500 \nL 1159 3500 \nL 1159 2969 \nQ 1341 3281 1617 3432 \nQ 1894 3584 2278 3584 \nQ 2916 3584 3314 3078 \nQ 3713 2572 3713 1747 \nQ 3713 922 3314 415 \nQ 2916 -91 2278 -91 \nQ 1894 -91 1617 61 \nQ 1341 213 1159 525 \nz\nM 3116 1747 \nQ 3116 2381 2855 2742 \nQ 2594 3103 2138 3103 \nQ 1681 3103 1420 2742 \nQ 1159 2381 1159 1747 \nQ 1159 1113 1420 752 \nQ 1681 391 2138 391 \nQ 2594 391 2855 752 \nQ 3116 1113 3116 1747 \nz\n\" transform=\"scale(0.015625)\"/>\n      <path id=\"DejaVuSans-72\" d=\"M 2631 2963 \nQ 2534 3019 2420 3045 \nQ 2306 3072 2169 3072 \nQ 1681 3072 1420 2755 \nQ 1159 2438 1159 1844 \nL 1159 0 \nL 581 0 \nL 581 3500 \nL 1159 3500 \nL 1159 2956 \nQ 1341 3275 1631 3429 \nQ 1922 3584 2338 3584 \nQ 2397 3584 2469 3576 \nQ 2541 3569 2628 3553 \nL 2631 2963 \nz\n\" transform=\"scale(0.015625)\"/>\n      <path id=\"DejaVuSans-62\" d=\"M 3116 1747 \nQ 3116 2381 2855 2742 \nQ 2594 3103 2138 3103 \nQ 1681 3103 1420 2742 \nQ 1159 2381 1159 1747 \nQ 1159 1113 1420 752 \nQ 1681 391 2138 391 \nQ 2594 391 2855 752 \nQ 3116 1113 3116 1747 \nz\nM 1159 2969 \nQ 1341 3281 1617 3432 \nQ 1894 3584 2278 3584 \nQ 2916 3584 3314 3078 \nQ 3713 2572 3713 1747 \nQ 3713 922 3314 415 \nQ 2916 -91 2278 -91 \nQ 1894 -91 1617 61 \nQ 1341 213 1159 525 \nL 1159 0 \nL 581 0 \nL 581 4863 \nL 1159 4863 \nL 1159 2969 \nz\n\" transform=\"scale(0.015625)\"/>\n      <path id=\"DejaVuSans-61\" d=\"M 2194 1759 \nQ 1497 1759 1228 1600 \nQ 959 1441 959 1056 \nQ 959 750 1161 570 \nQ 1363 391 1709 391 \nQ 2188 391 2477 730 \nQ 2766 1069 2766 1631 \nL 2766 1759 \nL 2194 1759 \nz\nM 3341 1997 \nL 3341 0 \nL 2766 0 \nL 2766 531 \nQ 2569 213 2275 61 \nQ 1981 -91 1556 -91 \nQ 1019 -91 701 211 \nQ 384 513 384 1019 \nQ 384 1609 779 1909 \nQ 1175 2209 1959 2209 \nL 2766 2209 \nL 2766 2266 \nQ 2766 2663 2505 2880 \nQ 2244 3097 1772 3097 \nQ 1472 3097 1187 3025 \nQ 903 2953 641 2809 \nL 641 3341 \nQ 956 3463 1253 3523 \nQ 1550 3584 1831 3584 \nQ 2591 3584 2966 3190 \nQ 3341 2797 3341 1997 \nz\n\" transform=\"scale(0.015625)\"/>\n      <path id=\"DejaVuSans-69\" d=\"M 603 3500 \nL 1178 3500 \nL 1178 0 \nL 603 0 \nL 603 3500 \nz\nM 603 4863 \nL 1178 4863 \nL 1178 4134 \nL 603 4134 \nL 603 4863 \nz\n\" transform=\"scale(0.015625)\"/>\n      <path id=\"DejaVuSans-79\" d=\"M 2059 -325 \nQ 1816 -950 1584 -1140 \nQ 1353 -1331 966 -1331 \nL 506 -1331 \nL 506 -850 \nL 844 -850 \nQ 1081 -850 1212 -737 \nQ 1344 -625 1503 -206 \nL 1606 56 \nL 191 3500 \nL 800 3500 \nL 1894 763 \nL 2988 3500 \nL 3597 3500 \nL 2059 -325 \nz\n\" transform=\"scale(0.015625)\"/>\n      <path id=\"DejaVuSans-6d\" d=\"M 3328 2828 \nQ 3544 3216 3844 3400 \nQ 4144 3584 4550 3584 \nQ 5097 3584 5394 3201 \nQ 5691 2819 5691 2113 \nL 5691 0 \nL 5113 0 \nL 5113 2094 \nQ 5113 2597 4934 2840 \nQ 4756 3084 4391 3084 \nQ 3944 3084 3684 2787 \nQ 3425 2491 3425 1978 \nL 3425 0 \nL 2847 0 \nL 2847 2094 \nQ 2847 2600 2669 2842 \nQ 2491 3084 2119 3084 \nQ 1678 3084 1418 2786 \nQ 1159 2488 1159 1978 \nL 1159 0 \nL 581 0 \nL 581 3500 \nL 1159 3500 \nL 1159 2956 \nQ 1356 3278 1631 3431 \nQ 1906 3584 2284 3584 \nQ 2666 3584 2933 3390 \nQ 3200 3197 3328 2828 \nz\n\" transform=\"scale(0.015625)\"/>\n      <path id=\"DejaVuSans-73\" d=\"M 2834 3397 \nL 2834 2853 \nQ 2591 2978 2328 3040 \nQ 2066 3103 1784 3103 \nQ 1356 3103 1142 2972 \nQ 928 2841 928 2578 \nQ 928 2378 1081 2264 \nQ 1234 2150 1697 2047 \nL 1894 2003 \nQ 2506 1872 2764 1633 \nQ 3022 1394 3022 966 \nQ 3022 478 2636 193 \nQ 2250 -91 1575 -91 \nQ 1294 -91 989 -36 \nQ 684 19 347 128 \nL 347 722 \nQ 666 556 975 473 \nQ 1284 391 1588 391 \nQ 1994 391 2212 530 \nQ 2431 669 2431 922 \nQ 2431 1156 2273 1281 \nQ 2116 1406 1581 1522 \nL 1381 1569 \nQ 847 1681 609 1914 \nQ 372 2147 372 2553 \nQ 372 3047 722 3315 \nQ 1072 3584 1716 3584 \nQ 2034 3584 2315 3537 \nQ 2597 3491 2834 3397 \nz\n\" transform=\"scale(0.015625)\"/>\n      <path id=\"DejaVuSans-75\" d=\"M 544 1381 \nL 544 3500 \nL 1119 3500 \nL 1119 1403 \nQ 1119 906 1312 657 \nQ 1506 409 1894 409 \nQ 2359 409 2629 706 \nQ 2900 1003 2900 1516 \nL 2900 3500 \nL 3475 3500 \nL 3475 0 \nL 2900 0 \nL 2900 538 \nQ 2691 219 2414 64 \nQ 2138 -91 1772 -91 \nQ 1169 -91 856 284 \nQ 544 659 544 1381 \nz\nM 1991 3584 \nL 1991 3584 \nz\n\" transform=\"scale(0.015625)\"/>\n      <path id=\"DejaVuSans-6e\" d=\"M 3513 2113 \nL 3513 0 \nL 2938 0 \nL 2938 2094 \nQ 2938 2591 2744 2837 \nQ 2550 3084 2163 3084 \nQ 1697 3084 1428 2787 \nQ 1159 2491 1159 1978 \nL 1159 0 \nL 581 0 \nL 581 3500 \nL 1159 3500 \nL 1159 2956 \nQ 1366 3272 1645 3428 \nQ 1925 3584 2291 3584 \nQ 2894 3584 3203 3211 \nQ 3513 2838 3513 2113 \nz\n\" transform=\"scale(0.015625)\"/>\n      <path id=\"DejaVuSans-63\" d=\"M 3122 3366 \nL 3122 2828 \nQ 2878 2963 2633 3030 \nQ 2388 3097 2138 3097 \nQ 1578 3097 1268 2742 \nQ 959 2388 959 1747 \nQ 959 1106 1268 751 \nQ 1578 397 2138 397 \nQ 2388 397 2633 464 \nQ 2878 531 3122 666 \nL 3122 134 \nQ 2881 22 2623 -34 \nQ 2366 -91 2075 -91 \nQ 1284 -91 818 406 \nQ 353 903 353 1747 \nQ 353 2603 823 3093 \nQ 1294 3584 2113 3584 \nQ 2378 3584 2631 3529 \nQ 2884 3475 3122 3366 \nz\n\" transform=\"scale(0.015625)\"/>\n      <path id=\"DejaVuSans-58\" d=\"M 403 4666 \nL 1081 4666 \nL 2241 2931 \nL 3406 4666 \nL 4084 4666 \nL 2584 2425 \nL 4184 0 \nL 3506 0 \nL 2194 1984 \nL 872 0 \nL 191 0 \nL 1856 2491 \nL 403 4666 \nz\n\" transform=\"scale(0.015625)\"/>\n     </defs>\n     <use xlink:href=\"#DejaVuSans-50\"/>\n     <use xlink:href=\"#DejaVuSans-6c\" x=\"60.302734\"/>\n     <use xlink:href=\"#DejaVuSans-6f\" x=\"88.085938\"/>\n     <use xlink:href=\"#DejaVuSans-74\" x=\"149.267578\"/>\n     <use xlink:href=\"#DejaVuSans-20\" x=\"188.476562\"/>\n     <use xlink:href=\"#DejaVuSans-6f\" x=\"220.263672\"/>\n     <use xlink:href=\"#DejaVuSans-66\" x=\"281.445312\"/>\n     <use xlink:href=\"#DejaVuSans-20\" x=\"316.650391\"/>\n     <use xlink:href=\"#DejaVuSans-70\" x=\"348.4375\"/>\n     <use xlink:href=\"#DejaVuSans-72\" x=\"411.914062\"/>\n     <use xlink:href=\"#DejaVuSans-6f\" x=\"450.777344\"/>\n     <use xlink:href=\"#DejaVuSans-62\" x=\"511.958984\"/>\n     <use xlink:href=\"#DejaVuSans-61\" x=\"575.435547\"/>\n     <use xlink:href=\"#DejaVuSans-62\" x=\"636.714844\"/>\n     <use xlink:href=\"#DejaVuSans-69\" x=\"700.191406\"/>\n     <use xlink:href=\"#DejaVuSans-6c\" x=\"727.974609\"/>\n     <use xlink:href=\"#DejaVuSans-69\" x=\"755.757812\"/>\n     <use xlink:href=\"#DejaVuSans-74\" x=\"783.541016\"/>\n     <use xlink:href=\"#DejaVuSans-79\" x=\"822.75\"/>\n     <use xlink:href=\"#DejaVuSans-20\" x=\"881.929688\"/>\n     <use xlink:href=\"#DejaVuSans-6d\" x=\"913.716797\"/>\n     <use xlink:href=\"#DejaVuSans-61\" x=\"1011.128906\"/>\n     <use xlink:href=\"#DejaVuSans-73\" x=\"1072.408203\"/>\n     <use xlink:href=\"#DejaVuSans-73\" x=\"1124.507812\"/>\n     <use xlink:href=\"#DejaVuSans-20\" x=\"1176.607422\"/>\n     <use xlink:href=\"#DejaVuSans-66\" x=\"1208.394531\"/>\n     <use xlink:href=\"#DejaVuSans-75\" x=\"1243.599609\"/>\n     <use xlink:href=\"#DejaVuSans-6e\" x=\"1306.978516\"/>\n     <use xlink:href=\"#DejaVuSans-63\" x=\"1370.357422\"/>\n     <use xlink:href=\"#DejaVuSans-74\" x=\"1425.337891\"/>\n     <use xlink:href=\"#DejaVuSans-69\" x=\"1464.546875\"/>\n     <use xlink:href=\"#DejaVuSans-6f\" x=\"1492.330078\"/>\n     <use xlink:href=\"#DejaVuSans-6e\" x=\"1553.511719\"/>\n     <use xlink:href=\"#DejaVuSans-20\" x=\"1616.890625\"/>\n     <use xlink:href=\"#DejaVuSans-6f\" x=\"1648.677734\"/>\n     <use xlink:href=\"#DejaVuSans-66\" x=\"1709.859375\"/>\n     <use xlink:href=\"#DejaVuSans-20\" x=\"1745.064453\"/>\n     <use xlink:href=\"#DejaVuSans-58\" x=\"1776.851562\"/>\n    </g>\n   </g>\n  </g>\n </g>\n <defs>\n  <clipPath id=\"p2754e5c400\">\n   <rect x=\"48.40575\" y=\"20.4945\" width=\"223.2\" height=\"221.76\"/>\n  </clipPath>\n </defs>\n</svg>\n"
          },
          "metadata": {}
        }
      ],
      "source": [
        "import numpy as np\n",
        "import matplotlib.pyplot as plt\n",
        "from scipy.stats import binom, poisson, rv_discrete\n",
        "import scipy.stats as st\n",
        "\n",
        "# Given in problem 2\n",
        "x = [0, 1, 2, 3]\n",
        "p = [0.3, 0.1, 0.2, 0.4]\n",
        "\n",
        "# Using class scipy.stats.rv_discrete from package\n",
        "X=st.rv_discrete(values=(x, p))\n",
        "\n",
        "# Plot settings added below\n",
        "plt.figure(figsize=(4, 4))\n",
        "plt.bar(x, X.pmf(x), color='lightgreen',edgecolor='black')\n",
        "plt.title('Plot of probability mass function of X')\n",
        "plt.xlabel('$x$-->')\n",
        "plt.ylabel('$p(x)$-->')\n",
        "plt.xticks(x)\n",
        "plt.grid(False)\n",
        "plt.show()"
      ]
    },
    {
      "cell_type": "markdown",
      "metadata": {
        "id": "WF8BWEcynYob"
      },
      "source": [
        "D. Find the probability that $X$ is in $\\{0, 2\\}$.\n",
        "\n",
        "**Answer:**\n"
      ]
    },
    {
      "cell_type": "code",
      "execution_count": null,
      "metadata": {
        "id": "h8gxlYi2nYob",
        "colab": {
          "base_uri": "https://localhost:8080/"
        },
        "outputId": "9d947ffe-0d72-416f-8161-f642ecb96db0"
      },
      "outputs": [
        {
          "output_type": "stream",
          "name": "stdout",
          "text": [
            " probability that  X  is in  (0, 2) is: 0.5\n"
          ]
        }
      ],
      "source": [
        "X=st.rv_discrete(values=(x, p))\n",
        "prob_0 = X.pmf(0)\n",
        "prob_2 = X.pmf(2)\n",
        "prob_in_set = prob_0 + prob_2\n",
        "print(f\" probability that  X  is in  {0,2} is: {prob_in_set}\")"
      ]
    },
    {
      "cell_type": "markdown",
      "metadata": {
        "id": "Eu3lpWLVnYob"
      },
      "source": [
        "E. Find $\\mathbb{E}[4X + 3]$.\n",
        "\n",
        "**Answer:**\n"
      ]
    },
    {
      "cell_type": "code",
      "execution_count": null,
      "metadata": {
        "id": "TOmDNFP3nYoc",
        "colab": {
          "base_uri": "https://localhost:8080/"
        },
        "outputId": "5123bcdc-43bf-49e0-ef7d-8e5fe97c9ef1"
      },
      "outputs": [
        {
          "output_type": "stream",
          "name": "stdout",
          "text": [
            "The Expectation E[4X+3] is: 9.800\n"
          ]
        }
      ],
      "source": [
        "# Implemented expectation function\n",
        "\n",
        "def expect_X(x, p):\n",
        "\n",
        "  x = np.array(x)\n",
        "  p = np.array(p)\n",
        "  E_X = np.sum(x * p)\n",
        "  return E_X\n",
        "\n",
        "# Given in problem 2\n",
        "x = [0, 1, 2, 3]\n",
        "p = [0.3, 0.1, 0.2, 0.4]\n",
        "\n",
        "E_X = expect_X(x, p)\n",
        "E_4X_plus_3 = 4 * E_X + 3\n",
        "\n",
        "print(f\"The Expectation E[4X+3] is: {E_4X_plus_3:.3f}\")"
      ]
    },
    {
      "cell_type": "markdown",
      "metadata": {
        "id": "JKoc7p3BnYoc"
      },
      "source": [
        "F. Find $\\mathbb{V}[4X+3]$.\n",
        "\n",
        "**Answer:**\n"
      ]
    },
    {
      "cell_type": "code",
      "execution_count": null,
      "metadata": {
        "id": "6hO-9BpynYoc",
        "colab": {
          "base_uri": "https://localhost:8080/"
        },
        "outputId": "2ce8858d-23b0-48d7-9599-9dd212a2ddc5"
      },
      "outputs": [
        {
          "output_type": "stream",
          "name": "stdout",
          "text": [
            "The Variance V[4X+3] is: 25.760\n"
          ]
        }
      ],
      "source": [
        "import numpy as np\n",
        "\n",
        "# Implemented variance function\n",
        "def variance_X(x,p):\n",
        "  x = np.array(x)\n",
        "  p = np.array(p)\n",
        "  E_X = np.sum(x * p)\n",
        "  E_X_sq = np.sum((x ** 2) * p)\n",
        "  V_X = E_X_sq - (E_X ** 2)\n",
        "  return V_X\n",
        "\n",
        "# Given in problem 2\n",
        "x = [0, 1, 2, 3]\n",
        "p = [0.3, 0.1, 0.2, 0.4]\n",
        "\n",
        "V_X = variance_X(x, p)\n",
        "V_4X_plus_3 = (4**2) * V_X\n",
        "\n",
        "print(f\"The Variance V[4X+3] is: {V_4X_plus_3:.3f}\")"
      ]
    },
    {
      "cell_type": "markdown",
      "metadata": {
        "id": "XczBhX92nYoc"
      },
      "source": [
        "## Problem 3 - Predicting the probability of major earthquakes in Southern California\n",
        "\n",
        "The [San Andreas fault](https://en.wikipedia.org/wiki/San_Andreas_Fault) extends through California forming the boundary between the Pacific and the North American tectonic plates.\n",
        "It has caused some of the major earthquakes on Earth.\n",
        "We are going to focus on Southern California and we would like to assess the probability of a major earthquake, defined as an earthquake of magnitude 6.5 or greater, during the next ten years.\n",
        "\n",
        "A. The first thing we are going to do is go over a [database of past earthquakes](https://scedc.caltech.edu/significant/chron-index.html) that have occured in Southern California and collect the relevant data. We are going to start at 1900 because data before that time may are unreliable.\n",
        "Go over each decade and count the occurence of a major earthquake (i.e., count the number of organge and red colors in each decade). We have done this for you."
      ]
    },
    {
      "cell_type": "code",
      "execution_count": null,
      "metadata": {
        "id": "6madFEbunYoc",
        "outputId": "292618d5-19d1-427d-dfdf-89d6f19b8e26",
        "colab": {
          "base_uri": "https://localhost:8080/",
          "height": 453
        }
      },
      "outputs": [
        {
          "output_type": "stream",
          "name": "stderr",
          "text": [
            "WARNING:matplotlib.legend:No artists with labels found to put in legend.  Note that artists whose label start with an underscore are ignored when legend() is called with no argument.\n"
          ]
        },
        {
          "output_type": "display_data",
          "data": {
            "text/plain": [
              "<Figure size 960x720 with 1 Axes>"
            ],
            "image/svg+xml": "<?xml version=\"1.0\" encoding=\"utf-8\" standalone=\"no\"?>\n<!DOCTYPE svg PUBLIC \"-//W3C//DTD SVG 1.1//EN\"\n  \"http://www.w3.org/Graphics/SVG/1.1/DTD/svg11.dtd\">\n<svg xmlns:xlink=\"http://www.w3.org/1999/xlink\" width=\"407.10575pt\" height=\"310.61975pt\" viewBox=\"0 0 407.10575 310.61975\" xmlns=\"http://www.w3.org/2000/svg\" version=\"1.1\">\n <metadata>\n  <rdf:RDF xmlns:dc=\"http://purl.org/dc/elements/1.1/\" xmlns:cc=\"http://creativecommons.org/ns#\" xmlns:rdf=\"http://www.w3.org/1999/02/22-rdf-syntax-ns#\">\n   <cc:Work>\n    <dc:type rdf:resource=\"http://purl.org/dc/dcmitype/StillImage\"/>\n    <dc:date>2024-06-18T15:33:33.693827</dc:date>\n    <dc:format>image/svg+xml</dc:format>\n    <dc:creator>\n     <cc:Agent>\n      <dc:title>Matplotlib v3.7.1, https://matplotlib.org/</dc:title>\n     </cc:Agent>\n    </dc:creator>\n   </cc:Work>\n  </rdf:RDF>\n </metadata>\n <defs>\n  <style type=\"text/css\">*{stroke-linejoin: round; stroke-linecap: butt}</style>\n </defs>\n <g id=\"figure_1\">\n  <g id=\"patch_1\">\n   <path d=\"M 0 310.61975 \nL 407.10575 310.61975 \nL 407.10575 0 \nL 0 0 \nz\n\" style=\"fill: #ffffff\"/>\n  </g>\n  <g id=\"axes_1\">\n   <g id=\"patch_2\">\n    <path d=\"M 42.78575 273.312 \nL 399.90575 273.312 \nL 399.90575 7.2 \nL 42.78575 7.2 \nz\n\" style=\"fill: #ffffff\"/>\n   </g>\n   <g id=\"matplotlib.axis_1\">\n    <g id=\"xtick_1\">\n     <g id=\"line2d_1\">\n      <defs>\n       <path id=\"m9a7344f0eb\" d=\"M 0 0 \nL 0 4.8 \n\" style=\"stroke: #262626\"/>\n      </defs>\n      <g>\n       <use xlink:href=\"#m9a7344f0eb\" x=\"71.601987\" y=\"273.312\" style=\"fill: #262626; stroke: #262626\"/>\n      </g>\n     </g>\n     <g id=\"text_1\">\n      <!-- 1900 -->\n      <g style=\"fill: #262626\" transform=\"translate(60.403987 288.298625) scale(0.088 -0.088)\">\n       <defs>\n        <path id=\"DejaVuSans-31\" d=\"M 794 531 \nL 1825 531 \nL 1825 4091 \nL 703 3866 \nL 703 4441 \nL 1819 4666 \nL 2450 4666 \nL 2450 531 \nL 3481 531 \nL 3481 0 \nL 794 0 \nL 794 531 \nz\n\" transform=\"scale(0.015625)\"/>\n        <path id=\"DejaVuSans-39\" d=\"M 703 97 \nL 703 672 \nQ 941 559 1184 500 \nQ 1428 441 1663 441 \nQ 2288 441 2617 861 \nQ 2947 1281 2994 2138 \nQ 2813 1869 2534 1725 \nQ 2256 1581 1919 1581 \nQ 1219 1581 811 2004 \nQ 403 2428 403 3163 \nQ 403 3881 828 4315 \nQ 1253 4750 1959 4750 \nQ 2769 4750 3195 4129 \nQ 3622 3509 3622 2328 \nQ 3622 1225 3098 567 \nQ 2575 -91 1691 -91 \nQ 1453 -91 1209 -44 \nQ 966 3 703 97 \nz\nM 1959 2075 \nQ 2384 2075 2632 2365 \nQ 2881 2656 2881 3163 \nQ 2881 3666 2632 3958 \nQ 2384 4250 1959 4250 \nQ 1534 4250 1286 3958 \nQ 1038 3666 1038 3163 \nQ 1038 2656 1286 2365 \nQ 1534 2075 1959 2075 \nz\n\" transform=\"scale(0.015625)\"/>\n        <path id=\"DejaVuSans-30\" d=\"M 2034 4250 \nQ 1547 4250 1301 3770 \nQ 1056 3291 1056 2328 \nQ 1056 1369 1301 889 \nQ 1547 409 2034 409 \nQ 2525 409 2770 889 \nQ 3016 1369 3016 2328 \nQ 3016 3291 2770 3770 \nQ 2525 4250 2034 4250 \nz\nM 2034 4750 \nQ 2819 4750 3233 4129 \nQ 3647 3509 3647 2328 \nQ 3647 1150 3233 529 \nQ 2819 -91 2034 -91 \nQ 1250 -91 836 529 \nQ 422 1150 422 2328 \nQ 422 3509 836 4129 \nQ 1250 4750 2034 4750 \nz\n\" transform=\"scale(0.015625)\"/>\n       </defs>\n       <use xlink:href=\"#DejaVuSans-31\"/>\n       <use xlink:href=\"#DejaVuSans-39\" x=\"63.623047\"/>\n       <use xlink:href=\"#DejaVuSans-30\" x=\"127.246094\"/>\n       <use xlink:href=\"#DejaVuSans-30\" x=\"190.869141\"/>\n      </g>\n     </g>\n    </g>\n    <g id=\"xtick_2\">\n     <g id=\"line2d_2\">\n      <g>\n       <use xlink:href=\"#m9a7344f0eb\" x=\"121.936025\" y=\"273.312\" style=\"fill: #262626; stroke: #262626\"/>\n      </g>\n     </g>\n     <g id=\"text_2\">\n      <!-- 1920 -->\n      <g style=\"fill: #262626\" transform=\"translate(110.738025 288.298625) scale(0.088 -0.088)\">\n       <defs>\n        <path id=\"DejaVuSans-32\" d=\"M 1228 531 \nL 3431 531 \nL 3431 0 \nL 469 0 \nL 469 531 \nQ 828 903 1448 1529 \nQ 2069 2156 2228 2338 \nQ 2531 2678 2651 2914 \nQ 2772 3150 2772 3378 \nQ 2772 3750 2511 3984 \nQ 2250 4219 1831 4219 \nQ 1534 4219 1204 4116 \nQ 875 4013 500 3803 \nL 500 4441 \nQ 881 4594 1212 4672 \nQ 1544 4750 1819 4750 \nQ 2544 4750 2975 4387 \nQ 3406 4025 3406 3419 \nQ 3406 3131 3298 2873 \nQ 3191 2616 2906 2266 \nQ 2828 2175 2409 1742 \nQ 1991 1309 1228 531 \nz\n\" transform=\"scale(0.015625)\"/>\n       </defs>\n       <use xlink:href=\"#DejaVuSans-31\"/>\n       <use xlink:href=\"#DejaVuSans-39\" x=\"63.623047\"/>\n       <use xlink:href=\"#DejaVuSans-32\" x=\"127.246094\"/>\n       <use xlink:href=\"#DejaVuSans-30\" x=\"190.869141\"/>\n      </g>\n     </g>\n    </g>\n    <g id=\"xtick_3\">\n     <g id=\"line2d_3\">\n      <g>\n       <use xlink:href=\"#m9a7344f0eb\" x=\"172.270063\" y=\"273.312\" style=\"fill: #262626; stroke: #262626\"/>\n      </g>\n     </g>\n     <g id=\"text_3\">\n      <!-- 1940 -->\n      <g style=\"fill: #262626\" transform=\"translate(161.072063 288.298625) scale(0.088 -0.088)\">\n       <defs>\n        <path id=\"DejaVuSans-34\" d=\"M 2419 4116 \nL 825 1625 \nL 2419 1625 \nL 2419 4116 \nz\nM 2253 4666 \nL 3047 4666 \nL 3047 1625 \nL 3713 1625 \nL 3713 1100 \nL 3047 1100 \nL 3047 0 \nL 2419 0 \nL 2419 1100 \nL 313 1100 \nL 313 1709 \nL 2253 4666 \nz\n\" transform=\"scale(0.015625)\"/>\n       </defs>\n       <use xlink:href=\"#DejaVuSans-31\"/>\n       <use xlink:href=\"#DejaVuSans-39\" x=\"63.623047\"/>\n       <use xlink:href=\"#DejaVuSans-34\" x=\"127.246094\"/>\n       <use xlink:href=\"#DejaVuSans-30\" x=\"190.869141\"/>\n      </g>\n     </g>\n    </g>\n    <g id=\"xtick_4\">\n     <g id=\"line2d_4\">\n      <g>\n       <use xlink:href=\"#m9a7344f0eb\" x=\"222.604101\" y=\"273.312\" style=\"fill: #262626; stroke: #262626\"/>\n      </g>\n     </g>\n     <g id=\"text_4\">\n      <!-- 1960 -->\n      <g style=\"fill: #262626\" transform=\"translate(211.406101 288.298625) scale(0.088 -0.088)\">\n       <defs>\n        <path id=\"DejaVuSans-36\" d=\"M 2113 2584 \nQ 1688 2584 1439 2293 \nQ 1191 2003 1191 1497 \nQ 1191 994 1439 701 \nQ 1688 409 2113 409 \nQ 2538 409 2786 701 \nQ 3034 994 3034 1497 \nQ 3034 2003 2786 2293 \nQ 2538 2584 2113 2584 \nz\nM 3366 4563 \nL 3366 3988 \nQ 3128 4100 2886 4159 \nQ 2644 4219 2406 4219 \nQ 1781 4219 1451 3797 \nQ 1122 3375 1075 2522 \nQ 1259 2794 1537 2939 \nQ 1816 3084 2150 3084 \nQ 2853 3084 3261 2657 \nQ 3669 2231 3669 1497 \nQ 3669 778 3244 343 \nQ 2819 -91 2113 -91 \nQ 1303 -91 875 529 \nQ 447 1150 447 2328 \nQ 447 3434 972 4092 \nQ 1497 4750 2381 4750 \nQ 2619 4750 2861 4703 \nQ 3103 4656 3366 4563 \nz\n\" transform=\"scale(0.015625)\"/>\n       </defs>\n       <use xlink:href=\"#DejaVuSans-31\"/>\n       <use xlink:href=\"#DejaVuSans-39\" x=\"63.623047\"/>\n       <use xlink:href=\"#DejaVuSans-36\" x=\"127.246094\"/>\n       <use xlink:href=\"#DejaVuSans-30\" x=\"190.869141\"/>\n      </g>\n     </g>\n    </g>\n    <g id=\"xtick_5\">\n     <g id=\"line2d_5\">\n      <g>\n       <use xlink:href=\"#m9a7344f0eb\" x=\"272.938139\" y=\"273.312\" style=\"fill: #262626; stroke: #262626\"/>\n      </g>\n     </g>\n     <g id=\"text_5\">\n      <!-- 1980 -->\n      <g style=\"fill: #262626\" transform=\"translate(261.740139 288.298625) scale(0.088 -0.088)\">\n       <defs>\n        <path id=\"DejaVuSans-38\" d=\"M 2034 2216 \nQ 1584 2216 1326 1975 \nQ 1069 1734 1069 1313 \nQ 1069 891 1326 650 \nQ 1584 409 2034 409 \nQ 2484 409 2743 651 \nQ 3003 894 3003 1313 \nQ 3003 1734 2745 1975 \nQ 2488 2216 2034 2216 \nz\nM 1403 2484 \nQ 997 2584 770 2862 \nQ 544 3141 544 3541 \nQ 544 4100 942 4425 \nQ 1341 4750 2034 4750 \nQ 2731 4750 3128 4425 \nQ 3525 4100 3525 3541 \nQ 3525 3141 3298 2862 \nQ 3072 2584 2669 2484 \nQ 3125 2378 3379 2068 \nQ 3634 1759 3634 1313 \nQ 3634 634 3220 271 \nQ 2806 -91 2034 -91 \nQ 1263 -91 848 271 \nQ 434 634 434 1313 \nQ 434 1759 690 2068 \nQ 947 2378 1403 2484 \nz\nM 1172 3481 \nQ 1172 3119 1398 2916 \nQ 1625 2713 2034 2713 \nQ 2441 2713 2670 2916 \nQ 2900 3119 2900 3481 \nQ 2900 3844 2670 4047 \nQ 2441 4250 2034 4250 \nQ 1625 4250 1398 4047 \nQ 1172 3844 1172 3481 \nz\n\" transform=\"scale(0.015625)\"/>\n       </defs>\n       <use xlink:href=\"#DejaVuSans-31\"/>\n       <use xlink:href=\"#DejaVuSans-39\" x=\"63.623047\"/>\n       <use xlink:href=\"#DejaVuSans-38\" x=\"127.246094\"/>\n       <use xlink:href=\"#DejaVuSans-30\" x=\"190.869141\"/>\n      </g>\n     </g>\n    </g>\n    <g id=\"xtick_6\">\n     <g id=\"line2d_6\">\n      <g>\n       <use xlink:href=\"#m9a7344f0eb\" x=\"323.272177\" y=\"273.312\" style=\"fill: #262626; stroke: #262626\"/>\n      </g>\n     </g>\n     <g id=\"text_6\">\n      <!-- 2000 -->\n      <g style=\"fill: #262626\" transform=\"translate(312.074177 288.298625) scale(0.088 -0.088)\">\n       <use xlink:href=\"#DejaVuSans-32\"/>\n       <use xlink:href=\"#DejaVuSans-30\" x=\"63.623047\"/>\n       <use xlink:href=\"#DejaVuSans-30\" x=\"127.246094\"/>\n       <use xlink:href=\"#DejaVuSans-30\" x=\"190.869141\"/>\n      </g>\n     </g>\n    </g>\n    <g id=\"xtick_7\">\n     <g id=\"line2d_7\">\n      <g>\n       <use xlink:href=\"#m9a7344f0eb\" x=\"373.606215\" y=\"273.312\" style=\"fill: #262626; stroke: #262626\"/>\n      </g>\n     </g>\n     <g id=\"text_7\">\n      <!-- 2020 -->\n      <g style=\"fill: #262626\" transform=\"translate(362.408215 288.298625) scale(0.088 -0.088)\">\n       <use xlink:href=\"#DejaVuSans-32\"/>\n       <use xlink:href=\"#DejaVuSans-30\" x=\"63.623047\"/>\n       <use xlink:href=\"#DejaVuSans-32\" x=\"127.246094\"/>\n       <use xlink:href=\"#DejaVuSans-30\" x=\"190.869141\"/>\n      </g>\n     </g>\n    </g>\n    <g id=\"text_8\">\n     <!-- Decade -->\n     <g style=\"fill: #262626\" transform=\"translate(203.11475 301.42325) scale(0.096 -0.096)\">\n      <defs>\n       <path id=\"DejaVuSans-44\" d=\"M 1259 4147 \nL 1259 519 \nL 2022 519 \nQ 2988 519 3436 956 \nQ 3884 1394 3884 2338 \nQ 3884 3275 3436 3711 \nQ 2988 4147 2022 4147 \nL 1259 4147 \nz\nM 628 4666 \nL 1925 4666 \nQ 3281 4666 3915 4102 \nQ 4550 3538 4550 2338 \nQ 4550 1131 3912 565 \nQ 3275 0 1925 0 \nL 628 0 \nL 628 4666 \nz\n\" transform=\"scale(0.015625)\"/>\n       <path id=\"DejaVuSans-65\" d=\"M 3597 1894 \nL 3597 1613 \nL 953 1613 \nQ 991 1019 1311 708 \nQ 1631 397 2203 397 \nQ 2534 397 2845 478 \nQ 3156 559 3463 722 \nL 3463 178 \nQ 3153 47 2828 -22 \nQ 2503 -91 2169 -91 \nQ 1331 -91 842 396 \nQ 353 884 353 1716 \nQ 353 2575 817 3079 \nQ 1281 3584 2069 3584 \nQ 2775 3584 3186 3129 \nQ 3597 2675 3597 1894 \nz\nM 3022 2063 \nQ 3016 2534 2758 2815 \nQ 2500 3097 2075 3097 \nQ 1594 3097 1305 2825 \nQ 1016 2553 972 2059 \nL 3022 2063 \nz\n\" transform=\"scale(0.015625)\"/>\n       <path id=\"DejaVuSans-63\" d=\"M 3122 3366 \nL 3122 2828 \nQ 2878 2963 2633 3030 \nQ 2388 3097 2138 3097 \nQ 1578 3097 1268 2742 \nQ 959 2388 959 1747 \nQ 959 1106 1268 751 \nQ 1578 397 2138 397 \nQ 2388 397 2633 464 \nQ 2878 531 3122 666 \nL 3122 134 \nQ 2881 22 2623 -34 \nQ 2366 -91 2075 -91 \nQ 1284 -91 818 406 \nQ 353 903 353 1747 \nQ 353 2603 823 3093 \nQ 1294 3584 2113 3584 \nQ 2378 3584 2631 3529 \nQ 2884 3475 3122 3366 \nz\n\" transform=\"scale(0.015625)\"/>\n       <path id=\"DejaVuSans-61\" d=\"M 2194 1759 \nQ 1497 1759 1228 1600 \nQ 959 1441 959 1056 \nQ 959 750 1161 570 \nQ 1363 391 1709 391 \nQ 2188 391 2477 730 \nQ 2766 1069 2766 1631 \nL 2766 1759 \nL 2194 1759 \nz\nM 3341 1997 \nL 3341 0 \nL 2766 0 \nL 2766 531 \nQ 2569 213 2275 61 \nQ 1981 -91 1556 -91 \nQ 1019 -91 701 211 \nQ 384 513 384 1019 \nQ 384 1609 779 1909 \nQ 1175 2209 1959 2209 \nL 2766 2209 \nL 2766 2266 \nQ 2766 2663 2505 2880 \nQ 2244 3097 1772 3097 \nQ 1472 3097 1187 3025 \nQ 903 2953 641 2809 \nL 641 3341 \nQ 956 3463 1253 3523 \nQ 1550 3584 1831 3584 \nQ 2591 3584 2966 3190 \nQ 3341 2797 3341 1997 \nz\n\" transform=\"scale(0.015625)\"/>\n       <path id=\"DejaVuSans-64\" d=\"M 2906 2969 \nL 2906 4863 \nL 3481 4863 \nL 3481 0 \nL 2906 0 \nL 2906 525 \nQ 2725 213 2448 61 \nQ 2172 -91 1784 -91 \nQ 1150 -91 751 415 \nQ 353 922 353 1747 \nQ 353 2572 751 3078 \nQ 1150 3584 1784 3584 \nQ 2172 3584 2448 3432 \nQ 2725 3281 2906 2969 \nz\nM 947 1747 \nQ 947 1113 1208 752 \nQ 1469 391 1925 391 \nQ 2381 391 2643 752 \nQ 2906 1113 2906 1747 \nQ 2906 2381 2643 2742 \nQ 2381 3103 1925 3103 \nQ 1469 3103 1208 2742 \nQ 947 2381 947 1747 \nz\n\" transform=\"scale(0.015625)\"/>\n      </defs>\n      <use xlink:href=\"#DejaVuSans-44\"/>\n      <use xlink:href=\"#DejaVuSans-65\" x=\"77.001953\"/>\n      <use xlink:href=\"#DejaVuSans-63\" x=\"138.525391\"/>\n      <use xlink:href=\"#DejaVuSans-61\" x=\"193.505859\"/>\n      <use xlink:href=\"#DejaVuSans-64\" x=\"254.785156\"/>\n      <use xlink:href=\"#DejaVuSans-65\" x=\"318.261719\"/>\n     </g>\n    </g>\n   </g>\n   <g id=\"matplotlib.axis_2\">\n    <g id=\"ytick_1\">\n     <g id=\"line2d_8\">\n      <defs>\n       <path id=\"mb57c1cddb8\" d=\"M 0 0 \nL -4.8 0 \n\" style=\"stroke: #262626\"/>\n      </defs>\n      <g>\n       <use xlink:href=\"#mb57c1cddb8\" x=\"42.78575\" y=\"273.312\" style=\"fill: #262626; stroke: #262626\"/>\n      </g>\n     </g>\n     <g id=\"text_9\">\n      <!-- 0.0 -->\n      <g style=\"fill: #262626\" transform=\"translate(20.491 276.655312) scale(0.088 -0.088)\">\n       <defs>\n        <path id=\"DejaVuSans-2e\" d=\"M 684 794 \nL 1344 794 \nL 1344 0 \nL 684 0 \nL 684 794 \nz\n\" transform=\"scale(0.015625)\"/>\n       </defs>\n       <use xlink:href=\"#DejaVuSans-30\"/>\n       <use xlink:href=\"#DejaVuSans-2e\" x=\"63.623047\"/>\n       <use xlink:href=\"#DejaVuSans-30\" x=\"95.410156\"/>\n      </g>\n     </g>\n    </g>\n    <g id=\"ytick_2\">\n     <g id=\"line2d_9\">\n      <g>\n       <use xlink:href=\"#mb57c1cddb8\" x=\"42.78575\" y=\"241.632\" style=\"fill: #262626; stroke: #262626\"/>\n      </g>\n     </g>\n     <g id=\"text_10\">\n      <!-- 0.5 -->\n      <g style=\"fill: #262626\" transform=\"translate(20.491 244.975312) scale(0.088 -0.088)\">\n       <defs>\n        <path id=\"DejaVuSans-35\" d=\"M 691 4666 \nL 3169 4666 \nL 3169 4134 \nL 1269 4134 \nL 1269 2991 \nQ 1406 3038 1543 3061 \nQ 1681 3084 1819 3084 \nQ 2600 3084 3056 2656 \nQ 3513 2228 3513 1497 \nQ 3513 744 3044 326 \nQ 2575 -91 1722 -91 \nQ 1428 -91 1123 -41 \nQ 819 9 494 109 \nL 494 744 \nQ 775 591 1075 516 \nQ 1375 441 1709 441 \nQ 2250 441 2565 725 \nQ 2881 1009 2881 1497 \nQ 2881 1984 2565 2268 \nQ 2250 2553 1709 2553 \nQ 1456 2553 1204 2497 \nQ 953 2441 691 2322 \nL 691 4666 \nz\n\" transform=\"scale(0.015625)\"/>\n       </defs>\n       <use xlink:href=\"#DejaVuSans-30\"/>\n       <use xlink:href=\"#DejaVuSans-2e\" x=\"63.623047\"/>\n       <use xlink:href=\"#DejaVuSans-35\" x=\"95.410156\"/>\n      </g>\n     </g>\n    </g>\n    <g id=\"ytick_3\">\n     <g id=\"line2d_10\">\n      <g>\n       <use xlink:href=\"#mb57c1cddb8\" x=\"42.78575\" y=\"209.952\" style=\"fill: #262626; stroke: #262626\"/>\n      </g>\n     </g>\n     <g id=\"text_11\">\n      <!-- 1.0 -->\n      <g style=\"fill: #262626\" transform=\"translate(20.491 213.295312) scale(0.088 -0.088)\">\n       <use xlink:href=\"#DejaVuSans-31\"/>\n       <use xlink:href=\"#DejaVuSans-2e\" x=\"63.623047\"/>\n       <use xlink:href=\"#DejaVuSans-30\" x=\"95.410156\"/>\n      </g>\n     </g>\n    </g>\n    <g id=\"ytick_4\">\n     <g id=\"line2d_11\">\n      <g>\n       <use xlink:href=\"#mb57c1cddb8\" x=\"42.78575\" y=\"178.272\" style=\"fill: #262626; stroke: #262626\"/>\n      </g>\n     </g>\n     <g id=\"text_12\">\n      <!-- 1.5 -->\n      <g style=\"fill: #262626\" transform=\"translate(20.491 181.615312) scale(0.088 -0.088)\">\n       <use xlink:href=\"#DejaVuSans-31\"/>\n       <use xlink:href=\"#DejaVuSans-2e\" x=\"63.623047\"/>\n       <use xlink:href=\"#DejaVuSans-35\" x=\"95.410156\"/>\n      </g>\n     </g>\n    </g>\n    <g id=\"ytick_5\">\n     <g id=\"line2d_12\">\n      <g>\n       <use xlink:href=\"#mb57c1cddb8\" x=\"42.78575\" y=\"146.592\" style=\"fill: #262626; stroke: #262626\"/>\n      </g>\n     </g>\n     <g id=\"text_13\">\n      <!-- 2.0 -->\n      <g style=\"fill: #262626\" transform=\"translate(20.491 149.935312) scale(0.088 -0.088)\">\n       <use xlink:href=\"#DejaVuSans-32\"/>\n       <use xlink:href=\"#DejaVuSans-2e\" x=\"63.623047\"/>\n       <use xlink:href=\"#DejaVuSans-30\" x=\"95.410156\"/>\n      </g>\n     </g>\n    </g>\n    <g id=\"ytick_6\">\n     <g id=\"line2d_13\">\n      <g>\n       <use xlink:href=\"#mb57c1cddb8\" x=\"42.78575\" y=\"114.912\" style=\"fill: #262626; stroke: #262626\"/>\n      </g>\n     </g>\n     <g id=\"text_14\">\n      <!-- 2.5 -->\n      <g style=\"fill: #262626\" transform=\"translate(20.491 118.255312) scale(0.088 -0.088)\">\n       <use xlink:href=\"#DejaVuSans-32\"/>\n       <use xlink:href=\"#DejaVuSans-2e\" x=\"63.623047\"/>\n       <use xlink:href=\"#DejaVuSans-35\" x=\"95.410156\"/>\n      </g>\n     </g>\n    </g>\n    <g id=\"ytick_7\">\n     <g id=\"line2d_14\">\n      <g>\n       <use xlink:href=\"#mb57c1cddb8\" x=\"42.78575\" y=\"83.232\" style=\"fill: #262626; stroke: #262626\"/>\n      </g>\n     </g>\n     <g id=\"text_15\">\n      <!-- 3.0 -->\n      <g style=\"fill: #262626\" transform=\"translate(20.491 86.575312) scale(0.088 -0.088)\">\n       <defs>\n        <path id=\"DejaVuSans-33\" d=\"M 2597 2516 \nQ 3050 2419 3304 2112 \nQ 3559 1806 3559 1356 \nQ 3559 666 3084 287 \nQ 2609 -91 1734 -91 \nQ 1441 -91 1130 -33 \nQ 819 25 488 141 \nL 488 750 \nQ 750 597 1062 519 \nQ 1375 441 1716 441 \nQ 2309 441 2620 675 \nQ 2931 909 2931 1356 \nQ 2931 1769 2642 2001 \nQ 2353 2234 1838 2234 \nL 1294 2234 \nL 1294 2753 \nL 1863 2753 \nQ 2328 2753 2575 2939 \nQ 2822 3125 2822 3475 \nQ 2822 3834 2567 4026 \nQ 2313 4219 1838 4219 \nQ 1578 4219 1281 4162 \nQ 984 4106 628 3988 \nL 628 4550 \nQ 988 4650 1302 4700 \nQ 1616 4750 1894 4750 \nQ 2613 4750 3031 4423 \nQ 3450 4097 3450 3541 \nQ 3450 3153 3228 2886 \nQ 3006 2619 2597 2516 \nz\n\" transform=\"scale(0.015625)\"/>\n       </defs>\n       <use xlink:href=\"#DejaVuSans-33\"/>\n       <use xlink:href=\"#DejaVuSans-2e\" x=\"63.623047\"/>\n       <use xlink:href=\"#DejaVuSans-30\" x=\"95.410156\"/>\n      </g>\n     </g>\n    </g>\n    <g id=\"ytick_8\">\n     <g id=\"line2d_15\">\n      <g>\n       <use xlink:href=\"#mb57c1cddb8\" x=\"42.78575\" y=\"51.552\" style=\"fill: #262626; stroke: #262626\"/>\n      </g>\n     </g>\n     <g id=\"text_16\">\n      <!-- 3.5 -->\n      <g style=\"fill: #262626\" transform=\"translate(20.491 54.895312) scale(0.088 -0.088)\">\n       <use xlink:href=\"#DejaVuSans-33\"/>\n       <use xlink:href=\"#DejaVuSans-2e\" x=\"63.623047\"/>\n       <use xlink:href=\"#DejaVuSans-35\" x=\"95.410156\"/>\n      </g>\n     </g>\n    </g>\n    <g id=\"ytick_9\">\n     <g id=\"line2d_16\">\n      <g>\n       <use xlink:href=\"#mb57c1cddb8\" x=\"42.78575\" y=\"19.872\" style=\"fill: #262626; stroke: #262626\"/>\n      </g>\n     </g>\n     <g id=\"text_17\">\n      <!-- 4.0 -->\n      <g style=\"fill: #262626\" transform=\"translate(20.491 23.215312) scale(0.088 -0.088)\">\n       <use xlink:href=\"#DejaVuSans-34\"/>\n       <use xlink:href=\"#DejaVuSans-2e\" x=\"63.623047\"/>\n       <use xlink:href=\"#DejaVuSans-30\" x=\"95.410156\"/>\n      </g>\n     </g>\n    </g>\n    <g id=\"text_18\">\n     <!-- # of major earthquakes in Southern CA -->\n     <g style=\"fill: #262626\" transform=\"translate(14.4945 234.6465) rotate(-90) scale(0.096 -0.096)\">\n      <defs>\n       <path id=\"DejaVuSans-23\" d=\"M 3272 2816 \nL 2363 2816 \nL 2100 1772 \nL 3016 1772 \nL 3272 2816 \nz\nM 2803 4594 \nL 2478 3297 \nL 3391 3297 \nL 3719 4594 \nL 4219 4594 \nL 3897 3297 \nL 4872 3297 \nL 4872 2816 \nL 3775 2816 \nL 3519 1772 \nL 4513 1772 \nL 4513 1294 \nL 3397 1294 \nL 3072 0 \nL 2572 0 \nL 2894 1294 \nL 1978 1294 \nL 1656 0 \nL 1153 0 \nL 1478 1294 \nL 494 1294 \nL 494 1772 \nL 1594 1772 \nL 1856 2816 \nL 850 2816 \nL 850 3297 \nL 1978 3297 \nL 2297 4594 \nL 2803 4594 \nz\n\" transform=\"scale(0.015625)\"/>\n       <path id=\"DejaVuSans-20\" transform=\"scale(0.015625)\"/>\n       <path id=\"DejaVuSans-6f\" d=\"M 1959 3097 \nQ 1497 3097 1228 2736 \nQ 959 2375 959 1747 \nQ 959 1119 1226 758 \nQ 1494 397 1959 397 \nQ 2419 397 2687 759 \nQ 2956 1122 2956 1747 \nQ 2956 2369 2687 2733 \nQ 2419 3097 1959 3097 \nz\nM 1959 3584 \nQ 2709 3584 3137 3096 \nQ 3566 2609 3566 1747 \nQ 3566 888 3137 398 \nQ 2709 -91 1959 -91 \nQ 1206 -91 779 398 \nQ 353 888 353 1747 \nQ 353 2609 779 3096 \nQ 1206 3584 1959 3584 \nz\n\" transform=\"scale(0.015625)\"/>\n       <path id=\"DejaVuSans-66\" d=\"M 2375 4863 \nL 2375 4384 \nL 1825 4384 \nQ 1516 4384 1395 4259 \nQ 1275 4134 1275 3809 \nL 1275 3500 \nL 2222 3500 \nL 2222 3053 \nL 1275 3053 \nL 1275 0 \nL 697 0 \nL 697 3053 \nL 147 3053 \nL 147 3500 \nL 697 3500 \nL 697 3744 \nQ 697 4328 969 4595 \nQ 1241 4863 1831 4863 \nL 2375 4863 \nz\n\" transform=\"scale(0.015625)\"/>\n       <path id=\"DejaVuSans-6d\" d=\"M 3328 2828 \nQ 3544 3216 3844 3400 \nQ 4144 3584 4550 3584 \nQ 5097 3584 5394 3201 \nQ 5691 2819 5691 2113 \nL 5691 0 \nL 5113 0 \nL 5113 2094 \nQ 5113 2597 4934 2840 \nQ 4756 3084 4391 3084 \nQ 3944 3084 3684 2787 \nQ 3425 2491 3425 1978 \nL 3425 0 \nL 2847 0 \nL 2847 2094 \nQ 2847 2600 2669 2842 \nQ 2491 3084 2119 3084 \nQ 1678 3084 1418 2786 \nQ 1159 2488 1159 1978 \nL 1159 0 \nL 581 0 \nL 581 3500 \nL 1159 3500 \nL 1159 2956 \nQ 1356 3278 1631 3431 \nQ 1906 3584 2284 3584 \nQ 2666 3584 2933 3390 \nQ 3200 3197 3328 2828 \nz\n\" transform=\"scale(0.015625)\"/>\n       <path id=\"DejaVuSans-6a\" d=\"M 603 3500 \nL 1178 3500 \nL 1178 -63 \nQ 1178 -731 923 -1031 \nQ 669 -1331 103 -1331 \nL -116 -1331 \nL -116 -844 \nL 38 -844 \nQ 366 -844 484 -692 \nQ 603 -541 603 -63 \nL 603 3500 \nz\nM 603 4863 \nL 1178 4863 \nL 1178 4134 \nL 603 4134 \nL 603 4863 \nz\n\" transform=\"scale(0.015625)\"/>\n       <path id=\"DejaVuSans-72\" d=\"M 2631 2963 \nQ 2534 3019 2420 3045 \nQ 2306 3072 2169 3072 \nQ 1681 3072 1420 2755 \nQ 1159 2438 1159 1844 \nL 1159 0 \nL 581 0 \nL 581 3500 \nL 1159 3500 \nL 1159 2956 \nQ 1341 3275 1631 3429 \nQ 1922 3584 2338 3584 \nQ 2397 3584 2469 3576 \nQ 2541 3569 2628 3553 \nL 2631 2963 \nz\n\" transform=\"scale(0.015625)\"/>\n       <path id=\"DejaVuSans-74\" d=\"M 1172 4494 \nL 1172 3500 \nL 2356 3500 \nL 2356 3053 \nL 1172 3053 \nL 1172 1153 \nQ 1172 725 1289 603 \nQ 1406 481 1766 481 \nL 2356 481 \nL 2356 0 \nL 1766 0 \nQ 1100 0 847 248 \nQ 594 497 594 1153 \nL 594 3053 \nL 172 3053 \nL 172 3500 \nL 594 3500 \nL 594 4494 \nL 1172 4494 \nz\n\" transform=\"scale(0.015625)\"/>\n       <path id=\"DejaVuSans-68\" d=\"M 3513 2113 \nL 3513 0 \nL 2938 0 \nL 2938 2094 \nQ 2938 2591 2744 2837 \nQ 2550 3084 2163 3084 \nQ 1697 3084 1428 2787 \nQ 1159 2491 1159 1978 \nL 1159 0 \nL 581 0 \nL 581 4863 \nL 1159 4863 \nL 1159 2956 \nQ 1366 3272 1645 3428 \nQ 1925 3584 2291 3584 \nQ 2894 3584 3203 3211 \nQ 3513 2838 3513 2113 \nz\n\" transform=\"scale(0.015625)\"/>\n       <path id=\"DejaVuSans-71\" d=\"M 947 1747 \nQ 947 1113 1208 752 \nQ 1469 391 1925 391 \nQ 2381 391 2643 752 \nQ 2906 1113 2906 1747 \nQ 2906 2381 2643 2742 \nQ 2381 3103 1925 3103 \nQ 1469 3103 1208 2742 \nQ 947 2381 947 1747 \nz\nM 2906 525 \nQ 2725 213 2448 61 \nQ 2172 -91 1784 -91 \nQ 1150 -91 751 415 \nQ 353 922 353 1747 \nQ 353 2572 751 3078 \nQ 1150 3584 1784 3584 \nQ 2172 3584 2448 3432 \nQ 2725 3281 2906 2969 \nL 2906 3500 \nL 3481 3500 \nL 3481 -1331 \nL 2906 -1331 \nL 2906 525 \nz\n\" transform=\"scale(0.015625)\"/>\n       <path id=\"DejaVuSans-75\" d=\"M 544 1381 \nL 544 3500 \nL 1119 3500 \nL 1119 1403 \nQ 1119 906 1312 657 \nQ 1506 409 1894 409 \nQ 2359 409 2629 706 \nQ 2900 1003 2900 1516 \nL 2900 3500 \nL 3475 3500 \nL 3475 0 \nL 2900 0 \nL 2900 538 \nQ 2691 219 2414 64 \nQ 2138 -91 1772 -91 \nQ 1169 -91 856 284 \nQ 544 659 544 1381 \nz\nM 1991 3584 \nL 1991 3584 \nz\n\" transform=\"scale(0.015625)\"/>\n       <path id=\"DejaVuSans-6b\" d=\"M 581 4863 \nL 1159 4863 \nL 1159 1991 \nL 2875 3500 \nL 3609 3500 \nL 1753 1863 \nL 3688 0 \nL 2938 0 \nL 1159 1709 \nL 1159 0 \nL 581 0 \nL 581 4863 \nz\n\" transform=\"scale(0.015625)\"/>\n       <path id=\"DejaVuSans-73\" d=\"M 2834 3397 \nL 2834 2853 \nQ 2591 2978 2328 3040 \nQ 2066 3103 1784 3103 \nQ 1356 3103 1142 2972 \nQ 928 2841 928 2578 \nQ 928 2378 1081 2264 \nQ 1234 2150 1697 2047 \nL 1894 2003 \nQ 2506 1872 2764 1633 \nQ 3022 1394 3022 966 \nQ 3022 478 2636 193 \nQ 2250 -91 1575 -91 \nQ 1294 -91 989 -36 \nQ 684 19 347 128 \nL 347 722 \nQ 666 556 975 473 \nQ 1284 391 1588 391 \nQ 1994 391 2212 530 \nQ 2431 669 2431 922 \nQ 2431 1156 2273 1281 \nQ 2116 1406 1581 1522 \nL 1381 1569 \nQ 847 1681 609 1914 \nQ 372 2147 372 2553 \nQ 372 3047 722 3315 \nQ 1072 3584 1716 3584 \nQ 2034 3584 2315 3537 \nQ 2597 3491 2834 3397 \nz\n\" transform=\"scale(0.015625)\"/>\n       <path id=\"DejaVuSans-69\" d=\"M 603 3500 \nL 1178 3500 \nL 1178 0 \nL 603 0 \nL 603 3500 \nz\nM 603 4863 \nL 1178 4863 \nL 1178 4134 \nL 603 4134 \nL 603 4863 \nz\n\" transform=\"scale(0.015625)\"/>\n       <path id=\"DejaVuSans-6e\" d=\"M 3513 2113 \nL 3513 0 \nL 2938 0 \nL 2938 2094 \nQ 2938 2591 2744 2837 \nQ 2550 3084 2163 3084 \nQ 1697 3084 1428 2787 \nQ 1159 2491 1159 1978 \nL 1159 0 \nL 581 0 \nL 581 3500 \nL 1159 3500 \nL 1159 2956 \nQ 1366 3272 1645 3428 \nQ 1925 3584 2291 3584 \nQ 2894 3584 3203 3211 \nQ 3513 2838 3513 2113 \nz\n\" transform=\"scale(0.015625)\"/>\n       <path id=\"DejaVuSans-53\" d=\"M 3425 4513 \nL 3425 3897 \nQ 3066 4069 2747 4153 \nQ 2428 4238 2131 4238 \nQ 1616 4238 1336 4038 \nQ 1056 3838 1056 3469 \nQ 1056 3159 1242 3001 \nQ 1428 2844 1947 2747 \nL 2328 2669 \nQ 3034 2534 3370 2195 \nQ 3706 1856 3706 1288 \nQ 3706 609 3251 259 \nQ 2797 -91 1919 -91 \nQ 1588 -91 1214 -16 \nQ 841 59 441 206 \nL 441 856 \nQ 825 641 1194 531 \nQ 1563 422 1919 422 \nQ 2459 422 2753 634 \nQ 3047 847 3047 1241 \nQ 3047 1584 2836 1778 \nQ 2625 1972 2144 2069 \nL 1759 2144 \nQ 1053 2284 737 2584 \nQ 422 2884 422 3419 \nQ 422 4038 858 4394 \nQ 1294 4750 2059 4750 \nQ 2388 4750 2728 4690 \nQ 3069 4631 3425 4513 \nz\n\" transform=\"scale(0.015625)\"/>\n       <path id=\"DejaVuSans-43\" d=\"M 4122 4306 \nL 4122 3641 \nQ 3803 3938 3442 4084 \nQ 3081 4231 2675 4231 \nQ 1875 4231 1450 3742 \nQ 1025 3253 1025 2328 \nQ 1025 1406 1450 917 \nQ 1875 428 2675 428 \nQ 3081 428 3442 575 \nQ 3803 722 4122 1019 \nL 4122 359 \nQ 3791 134 3420 21 \nQ 3050 -91 2638 -91 \nQ 1578 -91 968 557 \nQ 359 1206 359 2328 \nQ 359 3453 968 4101 \nQ 1578 4750 2638 4750 \nQ 3056 4750 3426 4639 \nQ 3797 4528 4122 4306 \nz\n\" transform=\"scale(0.015625)\"/>\n       <path id=\"DejaVuSans-41\" d=\"M 2188 4044 \nL 1331 1722 \nL 3047 1722 \nL 2188 4044 \nz\nM 1831 4666 \nL 2547 4666 \nL 4325 0 \nL 3669 0 \nL 3244 1197 \nL 1141 1197 \nL 716 0 \nL 50 0 \nL 1831 4666 \nz\n\" transform=\"scale(0.015625)\"/>\n      </defs>\n      <use xlink:href=\"#DejaVuSans-23\"/>\n      <use xlink:href=\"#DejaVuSans-20\" x=\"83.789062\"/>\n      <use xlink:href=\"#DejaVuSans-6f\" x=\"115.576172\"/>\n      <use xlink:href=\"#DejaVuSans-66\" x=\"176.757812\"/>\n      <use xlink:href=\"#DejaVuSans-20\" x=\"211.962891\"/>\n      <use xlink:href=\"#DejaVuSans-6d\" x=\"243.75\"/>\n      <use xlink:href=\"#DejaVuSans-61\" x=\"341.162109\"/>\n      <use xlink:href=\"#DejaVuSans-6a\" x=\"402.441406\"/>\n      <use xlink:href=\"#DejaVuSans-6f\" x=\"430.224609\"/>\n      <use xlink:href=\"#DejaVuSans-72\" x=\"491.40625\"/>\n      <use xlink:href=\"#DejaVuSans-20\" x=\"532.519531\"/>\n      <use xlink:href=\"#DejaVuSans-65\" x=\"564.306641\"/>\n      <use xlink:href=\"#DejaVuSans-61\" x=\"625.830078\"/>\n      <use xlink:href=\"#DejaVuSans-72\" x=\"687.109375\"/>\n      <use xlink:href=\"#DejaVuSans-74\" x=\"728.222656\"/>\n      <use xlink:href=\"#DejaVuSans-68\" x=\"767.431641\"/>\n      <use xlink:href=\"#DejaVuSans-71\" x=\"830.810547\"/>\n      <use xlink:href=\"#DejaVuSans-75\" x=\"894.287109\"/>\n      <use xlink:href=\"#DejaVuSans-61\" x=\"957.666016\"/>\n      <use xlink:href=\"#DejaVuSans-6b\" x=\"1018.945312\"/>\n      <use xlink:href=\"#DejaVuSans-65\" x=\"1073.230469\"/>\n      <use xlink:href=\"#DejaVuSans-73\" x=\"1134.753906\"/>\n      <use xlink:href=\"#DejaVuSans-20\" x=\"1186.853516\"/>\n      <use xlink:href=\"#DejaVuSans-69\" x=\"1218.640625\"/>\n      <use xlink:href=\"#DejaVuSans-6e\" x=\"1246.423828\"/>\n      <use xlink:href=\"#DejaVuSans-20\" x=\"1309.802734\"/>\n      <use xlink:href=\"#DejaVuSans-53\" x=\"1341.589844\"/>\n      <use xlink:href=\"#DejaVuSans-6f\" x=\"1405.066406\"/>\n      <use xlink:href=\"#DejaVuSans-75\" x=\"1466.248047\"/>\n      <use xlink:href=\"#DejaVuSans-74\" x=\"1529.626953\"/>\n      <use xlink:href=\"#DejaVuSans-68\" x=\"1568.835938\"/>\n      <use xlink:href=\"#DejaVuSans-65\" x=\"1632.214844\"/>\n      <use xlink:href=\"#DejaVuSans-72\" x=\"1693.738281\"/>\n      <use xlink:href=\"#DejaVuSans-6e\" x=\"1733.101562\"/>\n      <use xlink:href=\"#DejaVuSans-20\" x=\"1796.480469\"/>\n      <use xlink:href=\"#DejaVuSans-43\" x=\"1828.267578\"/>\n      <use xlink:href=\"#DejaVuSans-41\" x=\"1898.091797\"/>\n     </g>\n    </g>\n   </g>\n   <g id=\"patch_3\">\n    <path d=\"M 59.018477 273.312 \nL 84.185496 273.312 \nL 84.185496 273.312 \nL 59.018477 273.312 \nz\n\" clip-path=\"url(#pe2f848ac31)\" style=\"fill: #1f77b4; stroke: #ffffff; stroke-width: 0.8; stroke-linejoin: miter\"/>\n   </g>\n   <g id=\"patch_4\">\n    <path d=\"M 86.244616 273.312 \nL 111.411635 273.312 \nL 111.411635 209.952 \nL 86.244616 209.952 \nz\n\" clip-path=\"url(#pe2f848ac31)\" style=\"fill: #1f77b4; stroke: #ffffff; stroke-width: 0.8; stroke-linejoin: miter\"/>\n   </g>\n   <g id=\"patch_5\">\n    <path d=\"M 113.470755 273.312 \nL 138.637774 273.312 \nL 138.637774 146.592 \nL 113.470755 146.592 \nz\n\" clip-path=\"url(#pe2f848ac31)\" style=\"fill: #1f77b4; stroke: #ffffff; stroke-width: 0.8; stroke-linejoin: miter\"/>\n   </g>\n   <g id=\"patch_6\">\n    <path d=\"M 140.696894 273.312 \nL 165.863913 273.312 \nL 165.863913 273.312 \nL 140.696894 273.312 \nz\n\" clip-path=\"url(#pe2f848ac31)\" style=\"fill: #1f77b4; stroke: #ffffff; stroke-width: 0.8; stroke-linejoin: miter\"/>\n   </g>\n   <g id=\"patch_7\">\n    <path d=\"M 167.923032 273.312 \nL 193.090051 273.312 \nL 193.090051 83.232 \nL 167.923032 83.232 \nz\n\" clip-path=\"url(#pe2f848ac31)\" style=\"fill: #1f77b4; stroke: #ffffff; stroke-width: 0.8; stroke-linejoin: miter\"/>\n   </g>\n   <g id=\"patch_8\">\n    <path d=\"M 195.149171 273.312 \nL 220.31619 273.312 \nL 220.31619 146.592 \nL 195.149171 146.592 \nz\n\" clip-path=\"url(#pe2f848ac31)\" style=\"fill: #1f77b4; stroke: #ffffff; stroke-width: 0.8; stroke-linejoin: miter\"/>\n   </g>\n   <g id=\"patch_9\">\n    <path d=\"M 222.37531 273.312 \nL 247.542329 273.312 \nL 247.542329 209.952 \nL 222.37531 209.952 \nz\n\" clip-path=\"url(#pe2f848ac31)\" style=\"fill: #1f77b4; stroke: #ffffff; stroke-width: 0.8; stroke-linejoin: miter\"/>\n   </g>\n   <g id=\"patch_10\">\n    <path d=\"M 249.601449 273.312 \nL 274.768468 273.312 \nL 274.768468 146.592 \nL 249.601449 146.592 \nz\n\" clip-path=\"url(#pe2f848ac31)\" style=\"fill: #1f77b4; stroke: #ffffff; stroke-width: 0.8; stroke-linejoin: miter\"/>\n   </g>\n   <g id=\"patch_11\">\n    <path d=\"M 276.827587 273.312 \nL 301.994606 273.312 \nL 301.994606 209.952 \nL 276.827587 209.952 \nz\n\" clip-path=\"url(#pe2f848ac31)\" style=\"fill: #1f77b4; stroke: #ffffff; stroke-width: 0.8; stroke-linejoin: miter\"/>\n   </g>\n   <g id=\"patch_12\">\n    <path d=\"M 304.053726 273.312 \nL 329.220745 273.312 \nL 329.220745 19.872 \nL 304.053726 19.872 \nz\n\" clip-path=\"url(#pe2f848ac31)\" style=\"fill: #1f77b4; stroke: #ffffff; stroke-width: 0.8; stroke-linejoin: miter\"/>\n   </g>\n   <g id=\"patch_13\">\n    <path d=\"M 331.279865 273.312 \nL 356.446884 273.312 \nL 356.446884 273.312 \nL 331.279865 273.312 \nz\n\" clip-path=\"url(#pe2f848ac31)\" style=\"fill: #1f77b4; stroke: #ffffff; stroke-width: 0.8; stroke-linejoin: miter\"/>\n   </g>\n   <g id=\"patch_14\">\n    <path d=\"M 358.506004 273.312 \nL 383.673023 273.312 \nL 383.673023 146.592 \nL 358.506004 146.592 \nz\n\" clip-path=\"url(#pe2f848ac31)\" style=\"fill: #1f77b4; stroke: #ffffff; stroke-width: 0.8; stroke-linejoin: miter\"/>\n   </g>\n   <g id=\"patch_15\">\n    <path d=\"M 42.78575 273.312 \nL 42.78575 19.872 \n\" style=\"fill: none; stroke: #262626; stroke-linejoin: miter; stroke-linecap: square\"/>\n   </g>\n   <g id=\"patch_16\">\n    <path d=\"M 71.601987 273.312 \nL 373.606215 273.312 \n\" style=\"fill: none; stroke: #262626; stroke-linejoin: miter; stroke-linecap: square\"/>\n   </g>\n   <g id=\"legend_1\"/>\n  </g>\n </g>\n <defs>\n  <clipPath id=\"pe2f848ac31\">\n   <rect x=\"42.78575\" y=\"7.2\" width=\"357.12\" height=\"266.112\"/>\n  </clipPath>\n </defs>\n</svg>\n"
          },
          "metadata": {}
        }
      ],
      "source": [
        "eq_data = np.array([\n",
        "    0, # 1900-1909\n",
        "    1, # 1910-1919\n",
        "    2, # 1920-1929\n",
        "    0, # 1930-1939\n",
        "    3, # 1940-1949\n",
        "    2, # 1950-1959\n",
        "    1, # 1960-1969\n",
        "    2, # 1970-1979\n",
        "    1, # 1980-1989\n",
        "    4, # 1990-1999\n",
        "    0, # 2000-2009\n",
        "    2 # 2010-2019\n",
        "])\n",
        "fig, ax = plt.subplots(dpi=150)\n",
        "ax.bar(np.linspace(1900, 2019, eq_data.shape[0]), eq_data, width=10)\n",
        "ax.set_xlabel('Decade')\n",
        "ax.set_ylabel('# of major earthquakes in Southern CA')\n",
        "plt.legend(loc=\"best\", frameon=False)\n",
        "sns.despine(trim=True);"
      ]
    },
    {
      "cell_type": "markdown",
      "metadata": {
        "id": "vl0tESA0nYoe"
      },
      "source": [
        "B. The [Poisson distribution](https://en.wikipedia.org/wiki/Poisson_distribution) is a discrete distribution with values $\\{0,1,2,\\dots\\}$ which is commonly used to model the number of events occuring in a certain time period.\n",
        "It is the right choice when these events are happening independently and the probability of any event happening over a small period of time is constant.\n",
        "Let's use the Poisson to model the number of earthquakes $X$ occuring in a decade.\n",
        "We write:\n",
        "\n",
        "$$\n",
        "X \\sim \\operatorname{Poisson}(r),\n",
        "$$\n",
        "\n",
        "where $r$ is the *rate parameter* of Poisson.\n",
        "The rate is the number of events per time period.\n",
        "Here, $r$ is the number of earthquakes per decade.\n",
        "Using the data above, we can set the rate as the empirical average of the observed number of earthquakes per decade:"
      ]
    },
    {
      "cell_type": "code",
      "execution_count": null,
      "metadata": {
        "id": "uuh-z4yJnYoe",
        "outputId": "955ca38f-bad1-4c6b-84a8-51ee858ba8dc",
        "colab": {
          "base_uri": "https://localhost:8080/"
        }
      },
      "outputs": [
        {
          "output_type": "stream",
          "name": "stdout",
          "text": [
            "r = 1.50 major earthquakes per decade\n"
          ]
        }
      ],
      "source": [
        "r = np.mean(eq_data)\n",
        "print('r = {0:1.2f} major earthquakes per decade'.format(r))"
      ]
    },
    {
      "cell_type": "markdown",
      "metadata": {
        "id": "HK8q92g1nYoe"
      },
      "source": [
        "Strictly speaking, **this is not how you should be calibrating models!!!**\n",
        "We will learn about the **right** way (which uses Bayes' rule) in the subsequent lectures.\n",
        "But it will do for now as the answer you would get using the **right** way is, for this problem, almost the same.\n",
        "Let's define a Poisson distribution using ``scipy.stats.poisson`` (see documentation [here](https://docs.scipy.org/doc/scipy/reference/generated/scipy.stats.poisson.html)):"
      ]
    },
    {
      "cell_type": "code",
      "execution_count": null,
      "metadata": {
        "id": "ogB2SJyJnYof"
      },
      "outputs": [],
      "source": [
        "X = st.poisson(r)"
      ]
    },
    {
      "cell_type": "markdown",
      "metadata": {
        "id": "7rGuVglwnYof"
      },
      "source": [
        "A. Plot the probability mass function of ``X``."
      ]
    },
    {
      "cell_type": "code",
      "execution_count": null,
      "metadata": {
        "id": "x5eJ8xFdnYof",
        "colab": {
          "base_uri": "https://localhost:8080/",
          "height": 394
        },
        "outputId": "07de2727-d15d-40c4-f55d-679749962fe6"
      },
      "outputs": [
        {
          "output_type": "display_data",
          "data": {
            "text/plain": [
              "<Figure size 400x400 with 1 Axes>"
            ],
            "image/svg+xml": "<?xml version=\"1.0\" encoding=\"utf-8\" standalone=\"no\"?>\n<!DOCTYPE svg PUBLIC \"-//W3C//DTD SVG 1.1//EN\"\n  \"http://www.w3.org/Graphics/SVG/1.1/DTD/svg11.dtd\">\n<svg xmlns:xlink=\"http://www.w3.org/1999/xlink\" width=\"278.78475pt\" height=\"279.56225pt\" viewBox=\"0 0 278.78475 279.56225\" xmlns=\"http://www.w3.org/2000/svg\" version=\"1.1\">\n <metadata>\n  <rdf:RDF xmlns:dc=\"http://purl.org/dc/elements/1.1/\" xmlns:cc=\"http://creativecommons.org/ns#\" xmlns:rdf=\"http://www.w3.org/1999/02/22-rdf-syntax-ns#\">\n   <cc:Work>\n    <dc:type rdf:resource=\"http://purl.org/dc/dcmitype/StillImage\"/>\n    <dc:date>2024-06-18T15:33:34.552890</dc:date>\n    <dc:format>image/svg+xml</dc:format>\n    <dc:creator>\n     <cc:Agent>\n      <dc:title>Matplotlib v3.7.1, https://matplotlib.org/</dc:title>\n     </cc:Agent>\n    </dc:creator>\n   </cc:Work>\n  </rdf:RDF>\n </metadata>\n <defs>\n  <style type=\"text/css\">*{stroke-linejoin: round; stroke-linecap: butt}</style>\n </defs>\n <g id=\"figure_1\">\n  <g id=\"patch_1\">\n   <path d=\"M 0 279.56225 \nL 278.78475 279.56225 \nL 278.78475 0 \nL 0 0 \nz\n\" style=\"fill: #ffffff\"/>\n  </g>\n  <g id=\"axes_1\">\n   <g id=\"patch_2\">\n    <path d=\"M 48.38475 242.2545 \nL 271.58475 242.2545 \nL 271.58475 20.4945 \nL 48.38475 20.4945 \nz\n\" style=\"fill: #ffffff\"/>\n   </g>\n   <g id=\"matplotlib.axis_1\">\n    <g id=\"xtick_1\">\n     <g id=\"line2d_1\">\n      <defs>\n       <path id=\"ma92587ce5f\" d=\"M 0 0 \nL 0 4.8 \n\" style=\"stroke: #262626\"/>\n      </defs>\n      <g>\n       <use xlink:href=\"#ma92587ce5f\" x=\"65.408479\" y=\"242.2545\" style=\"fill: #262626; stroke: #262626\"/>\n      </g>\n     </g>\n     <g id=\"text_1\">\n      <!-- 0 -->\n      <g style=\"fill: #262626\" transform=\"translate(62.608979 257.241125) scale(0.088 -0.088)\">\n       <defs>\n        <path id=\"DejaVuSans-30\" d=\"M 2034 4250 \nQ 1547 4250 1301 3770 \nQ 1056 3291 1056 2328 \nQ 1056 1369 1301 889 \nQ 1547 409 2034 409 \nQ 2525 409 2770 889 \nQ 3016 1369 3016 2328 \nQ 3016 3291 2770 3770 \nQ 2525 4250 2034 4250 \nz\nM 2034 4750 \nQ 2819 4750 3233 4129 \nQ 3647 3509 3647 2328 \nQ 3647 1150 3233 529 \nQ 2819 -91 2034 -91 \nQ 1250 -91 836 529 \nQ 422 1150 422 2328 \nQ 422 3509 836 4129 \nQ 1250 4750 2034 4750 \nz\n\" transform=\"scale(0.015625)\"/>\n       </defs>\n       <use xlink:href=\"#DejaVuSans-30\"/>\n      </g>\n     </g>\n    </g>\n    <g id=\"xtick_2\">\n     <g id=\"line2d_2\">\n      <g>\n       <use xlink:href=\"#ma92587ce5f\" x=\"99.79985\" y=\"242.2545\" style=\"fill: #262626; stroke: #262626\"/>\n      </g>\n     </g>\n     <g id=\"text_2\">\n      <!-- 2 -->\n      <g style=\"fill: #262626\" transform=\"translate(97.00035 257.241125) scale(0.088 -0.088)\">\n       <defs>\n        <path id=\"DejaVuSans-32\" d=\"M 1228 531 \nL 3431 531 \nL 3431 0 \nL 469 0 \nL 469 531 \nQ 828 903 1448 1529 \nQ 2069 2156 2228 2338 \nQ 2531 2678 2651 2914 \nQ 2772 3150 2772 3378 \nQ 2772 3750 2511 3984 \nQ 2250 4219 1831 4219 \nQ 1534 4219 1204 4116 \nQ 875 4013 500 3803 \nL 500 4441 \nQ 881 4594 1212 4672 \nQ 1544 4750 1819 4750 \nQ 2544 4750 2975 4387 \nQ 3406 4025 3406 3419 \nQ 3406 3131 3298 2873 \nQ 3191 2616 2906 2266 \nQ 2828 2175 2409 1742 \nQ 1991 1309 1228 531 \nz\n\" transform=\"scale(0.015625)\"/>\n       </defs>\n       <use xlink:href=\"#DejaVuSans-32\"/>\n      </g>\n     </g>\n    </g>\n    <g id=\"xtick_3\">\n     <g id=\"line2d_3\">\n      <g>\n       <use xlink:href=\"#ma92587ce5f\" x=\"134.191221\" y=\"242.2545\" style=\"fill: #262626; stroke: #262626\"/>\n      </g>\n     </g>\n     <g id=\"text_3\">\n      <!-- 4 -->\n      <g style=\"fill: #262626\" transform=\"translate(131.391721 257.241125) scale(0.088 -0.088)\">\n       <defs>\n        <path id=\"DejaVuSans-34\" d=\"M 2419 4116 \nL 825 1625 \nL 2419 1625 \nL 2419 4116 \nz\nM 2253 4666 \nL 3047 4666 \nL 3047 1625 \nL 3713 1625 \nL 3713 1100 \nL 3047 1100 \nL 3047 0 \nL 2419 0 \nL 2419 1100 \nL 313 1100 \nL 313 1709 \nL 2253 4666 \nz\n\" transform=\"scale(0.015625)\"/>\n       </defs>\n       <use xlink:href=\"#DejaVuSans-34\"/>\n      </g>\n     </g>\n    </g>\n    <g id=\"xtick_4\">\n     <g id=\"line2d_4\">\n      <g>\n       <use xlink:href=\"#ma92587ce5f\" x=\"168.582593\" y=\"242.2545\" style=\"fill: #262626; stroke: #262626\"/>\n      </g>\n     </g>\n     <g id=\"text_4\">\n      <!-- 6 -->\n      <g style=\"fill: #262626\" transform=\"translate(165.783093 257.241125) scale(0.088 -0.088)\">\n       <defs>\n        <path id=\"DejaVuSans-36\" d=\"M 2113 2584 \nQ 1688 2584 1439 2293 \nQ 1191 2003 1191 1497 \nQ 1191 994 1439 701 \nQ 1688 409 2113 409 \nQ 2538 409 2786 701 \nQ 3034 994 3034 1497 \nQ 3034 2003 2786 2293 \nQ 2538 2584 2113 2584 \nz\nM 3366 4563 \nL 3366 3988 \nQ 3128 4100 2886 4159 \nQ 2644 4219 2406 4219 \nQ 1781 4219 1451 3797 \nQ 1122 3375 1075 2522 \nQ 1259 2794 1537 2939 \nQ 1816 3084 2150 3084 \nQ 2853 3084 3261 2657 \nQ 3669 2231 3669 1497 \nQ 3669 778 3244 343 \nQ 2819 -91 2113 -91 \nQ 1303 -91 875 529 \nQ 447 1150 447 2328 \nQ 447 3434 972 4092 \nQ 1497 4750 2381 4750 \nQ 2619 4750 2861 4703 \nQ 3103 4656 3366 4563 \nz\n\" transform=\"scale(0.015625)\"/>\n       </defs>\n       <use xlink:href=\"#DejaVuSans-36\"/>\n      </g>\n     </g>\n    </g>\n    <g id=\"xtick_5\">\n     <g id=\"line2d_5\">\n      <g>\n       <use xlink:href=\"#ma92587ce5f\" x=\"202.973964\" y=\"242.2545\" style=\"fill: #262626; stroke: #262626\"/>\n      </g>\n     </g>\n     <g id=\"text_5\">\n      <!-- 8 -->\n      <g style=\"fill: #262626\" transform=\"translate(200.174464 257.241125) scale(0.088 -0.088)\">\n       <defs>\n        <path id=\"DejaVuSans-38\" d=\"M 2034 2216 \nQ 1584 2216 1326 1975 \nQ 1069 1734 1069 1313 \nQ 1069 891 1326 650 \nQ 1584 409 2034 409 \nQ 2484 409 2743 651 \nQ 3003 894 3003 1313 \nQ 3003 1734 2745 1975 \nQ 2488 2216 2034 2216 \nz\nM 1403 2484 \nQ 997 2584 770 2862 \nQ 544 3141 544 3541 \nQ 544 4100 942 4425 \nQ 1341 4750 2034 4750 \nQ 2731 4750 3128 4425 \nQ 3525 4100 3525 3541 \nQ 3525 3141 3298 2862 \nQ 3072 2584 2669 2484 \nQ 3125 2378 3379 2068 \nQ 3634 1759 3634 1313 \nQ 3634 634 3220 271 \nQ 2806 -91 2034 -91 \nQ 1263 -91 848 271 \nQ 434 634 434 1313 \nQ 434 1759 690 2068 \nQ 947 2378 1403 2484 \nz\nM 1172 3481 \nQ 1172 3119 1398 2916 \nQ 1625 2713 2034 2713 \nQ 2441 2713 2670 2916 \nQ 2900 3119 2900 3481 \nQ 2900 3844 2670 4047 \nQ 2441 4250 2034 4250 \nQ 1625 4250 1398 4047 \nQ 1172 3844 1172 3481 \nz\n\" transform=\"scale(0.015625)\"/>\n       </defs>\n       <use xlink:href=\"#DejaVuSans-38\"/>\n      </g>\n     </g>\n    </g>\n    <g id=\"xtick_6\">\n     <g id=\"line2d_6\">\n      <g>\n       <use xlink:href=\"#ma92587ce5f\" x=\"237.365336\" y=\"242.2545\" style=\"fill: #262626; stroke: #262626\"/>\n      </g>\n     </g>\n     <g id=\"text_6\">\n      <!-- 10 -->\n      <g style=\"fill: #262626\" transform=\"translate(231.766336 257.241125) scale(0.088 -0.088)\">\n       <defs>\n        <path id=\"DejaVuSans-31\" d=\"M 794 531 \nL 1825 531 \nL 1825 4091 \nL 703 3866 \nL 703 4441 \nL 1819 4666 \nL 2450 4666 \nL 2450 531 \nL 3481 531 \nL 3481 0 \nL 794 0 \nL 794 531 \nz\n\" transform=\"scale(0.015625)\"/>\n       </defs>\n       <use xlink:href=\"#DejaVuSans-31\"/>\n       <use xlink:href=\"#DejaVuSans-30\" x=\"63.623047\"/>\n      </g>\n     </g>\n    </g>\n    <g id=\"text_7\">\n     <!-- Number of earthquakes in a decade -->\n     <g style=\"fill: #262626\" transform=\"translate(73.6665 270.36575) scale(0.096 -0.096)\">\n      <defs>\n       <path id=\"DejaVuSans-4e\" d=\"M 628 4666 \nL 1478 4666 \nL 3547 763 \nL 3547 4666 \nL 4159 4666 \nL 4159 0 \nL 3309 0 \nL 1241 3903 \nL 1241 0 \nL 628 0 \nL 628 4666 \nz\n\" transform=\"scale(0.015625)\"/>\n       <path id=\"DejaVuSans-75\" d=\"M 544 1381 \nL 544 3500 \nL 1119 3500 \nL 1119 1403 \nQ 1119 906 1312 657 \nQ 1506 409 1894 409 \nQ 2359 409 2629 706 \nQ 2900 1003 2900 1516 \nL 2900 3500 \nL 3475 3500 \nL 3475 0 \nL 2900 0 \nL 2900 538 \nQ 2691 219 2414 64 \nQ 2138 -91 1772 -91 \nQ 1169 -91 856 284 \nQ 544 659 544 1381 \nz\nM 1991 3584 \nL 1991 3584 \nz\n\" transform=\"scale(0.015625)\"/>\n       <path id=\"DejaVuSans-6d\" d=\"M 3328 2828 \nQ 3544 3216 3844 3400 \nQ 4144 3584 4550 3584 \nQ 5097 3584 5394 3201 \nQ 5691 2819 5691 2113 \nL 5691 0 \nL 5113 0 \nL 5113 2094 \nQ 5113 2597 4934 2840 \nQ 4756 3084 4391 3084 \nQ 3944 3084 3684 2787 \nQ 3425 2491 3425 1978 \nL 3425 0 \nL 2847 0 \nL 2847 2094 \nQ 2847 2600 2669 2842 \nQ 2491 3084 2119 3084 \nQ 1678 3084 1418 2786 \nQ 1159 2488 1159 1978 \nL 1159 0 \nL 581 0 \nL 581 3500 \nL 1159 3500 \nL 1159 2956 \nQ 1356 3278 1631 3431 \nQ 1906 3584 2284 3584 \nQ 2666 3584 2933 3390 \nQ 3200 3197 3328 2828 \nz\n\" transform=\"scale(0.015625)\"/>\n       <path id=\"DejaVuSans-62\" d=\"M 3116 1747 \nQ 3116 2381 2855 2742 \nQ 2594 3103 2138 3103 \nQ 1681 3103 1420 2742 \nQ 1159 2381 1159 1747 \nQ 1159 1113 1420 752 \nQ 1681 391 2138 391 \nQ 2594 391 2855 752 \nQ 3116 1113 3116 1747 \nz\nM 1159 2969 \nQ 1341 3281 1617 3432 \nQ 1894 3584 2278 3584 \nQ 2916 3584 3314 3078 \nQ 3713 2572 3713 1747 \nQ 3713 922 3314 415 \nQ 2916 -91 2278 -91 \nQ 1894 -91 1617 61 \nQ 1341 213 1159 525 \nL 1159 0 \nL 581 0 \nL 581 4863 \nL 1159 4863 \nL 1159 2969 \nz\n\" transform=\"scale(0.015625)\"/>\n       <path id=\"DejaVuSans-65\" d=\"M 3597 1894 \nL 3597 1613 \nL 953 1613 \nQ 991 1019 1311 708 \nQ 1631 397 2203 397 \nQ 2534 397 2845 478 \nQ 3156 559 3463 722 \nL 3463 178 \nQ 3153 47 2828 -22 \nQ 2503 -91 2169 -91 \nQ 1331 -91 842 396 \nQ 353 884 353 1716 \nQ 353 2575 817 3079 \nQ 1281 3584 2069 3584 \nQ 2775 3584 3186 3129 \nQ 3597 2675 3597 1894 \nz\nM 3022 2063 \nQ 3016 2534 2758 2815 \nQ 2500 3097 2075 3097 \nQ 1594 3097 1305 2825 \nQ 1016 2553 972 2059 \nL 3022 2063 \nz\n\" transform=\"scale(0.015625)\"/>\n       <path id=\"DejaVuSans-72\" d=\"M 2631 2963 \nQ 2534 3019 2420 3045 \nQ 2306 3072 2169 3072 \nQ 1681 3072 1420 2755 \nQ 1159 2438 1159 1844 \nL 1159 0 \nL 581 0 \nL 581 3500 \nL 1159 3500 \nL 1159 2956 \nQ 1341 3275 1631 3429 \nQ 1922 3584 2338 3584 \nQ 2397 3584 2469 3576 \nQ 2541 3569 2628 3553 \nL 2631 2963 \nz\n\" transform=\"scale(0.015625)\"/>\n       <path id=\"DejaVuSans-20\" transform=\"scale(0.015625)\"/>\n       <path id=\"DejaVuSans-6f\" d=\"M 1959 3097 \nQ 1497 3097 1228 2736 \nQ 959 2375 959 1747 \nQ 959 1119 1226 758 \nQ 1494 397 1959 397 \nQ 2419 397 2687 759 \nQ 2956 1122 2956 1747 \nQ 2956 2369 2687 2733 \nQ 2419 3097 1959 3097 \nz\nM 1959 3584 \nQ 2709 3584 3137 3096 \nQ 3566 2609 3566 1747 \nQ 3566 888 3137 398 \nQ 2709 -91 1959 -91 \nQ 1206 -91 779 398 \nQ 353 888 353 1747 \nQ 353 2609 779 3096 \nQ 1206 3584 1959 3584 \nz\n\" transform=\"scale(0.015625)\"/>\n       <path id=\"DejaVuSans-66\" d=\"M 2375 4863 \nL 2375 4384 \nL 1825 4384 \nQ 1516 4384 1395 4259 \nQ 1275 4134 1275 3809 \nL 1275 3500 \nL 2222 3500 \nL 2222 3053 \nL 1275 3053 \nL 1275 0 \nL 697 0 \nL 697 3053 \nL 147 3053 \nL 147 3500 \nL 697 3500 \nL 697 3744 \nQ 697 4328 969 4595 \nQ 1241 4863 1831 4863 \nL 2375 4863 \nz\n\" transform=\"scale(0.015625)\"/>\n       <path id=\"DejaVuSans-61\" d=\"M 2194 1759 \nQ 1497 1759 1228 1600 \nQ 959 1441 959 1056 \nQ 959 750 1161 570 \nQ 1363 391 1709 391 \nQ 2188 391 2477 730 \nQ 2766 1069 2766 1631 \nL 2766 1759 \nL 2194 1759 \nz\nM 3341 1997 \nL 3341 0 \nL 2766 0 \nL 2766 531 \nQ 2569 213 2275 61 \nQ 1981 -91 1556 -91 \nQ 1019 -91 701 211 \nQ 384 513 384 1019 \nQ 384 1609 779 1909 \nQ 1175 2209 1959 2209 \nL 2766 2209 \nL 2766 2266 \nQ 2766 2663 2505 2880 \nQ 2244 3097 1772 3097 \nQ 1472 3097 1187 3025 \nQ 903 2953 641 2809 \nL 641 3341 \nQ 956 3463 1253 3523 \nQ 1550 3584 1831 3584 \nQ 2591 3584 2966 3190 \nQ 3341 2797 3341 1997 \nz\n\" transform=\"scale(0.015625)\"/>\n       <path id=\"DejaVuSans-74\" d=\"M 1172 4494 \nL 1172 3500 \nL 2356 3500 \nL 2356 3053 \nL 1172 3053 \nL 1172 1153 \nQ 1172 725 1289 603 \nQ 1406 481 1766 481 \nL 2356 481 \nL 2356 0 \nL 1766 0 \nQ 1100 0 847 248 \nQ 594 497 594 1153 \nL 594 3053 \nL 172 3053 \nL 172 3500 \nL 594 3500 \nL 594 4494 \nL 1172 4494 \nz\n\" transform=\"scale(0.015625)\"/>\n       <path id=\"DejaVuSans-68\" d=\"M 3513 2113 \nL 3513 0 \nL 2938 0 \nL 2938 2094 \nQ 2938 2591 2744 2837 \nQ 2550 3084 2163 3084 \nQ 1697 3084 1428 2787 \nQ 1159 2491 1159 1978 \nL 1159 0 \nL 581 0 \nL 581 4863 \nL 1159 4863 \nL 1159 2956 \nQ 1366 3272 1645 3428 \nQ 1925 3584 2291 3584 \nQ 2894 3584 3203 3211 \nQ 3513 2838 3513 2113 \nz\n\" transform=\"scale(0.015625)\"/>\n       <path id=\"DejaVuSans-71\" d=\"M 947 1747 \nQ 947 1113 1208 752 \nQ 1469 391 1925 391 \nQ 2381 391 2643 752 \nQ 2906 1113 2906 1747 \nQ 2906 2381 2643 2742 \nQ 2381 3103 1925 3103 \nQ 1469 3103 1208 2742 \nQ 947 2381 947 1747 \nz\nM 2906 525 \nQ 2725 213 2448 61 \nQ 2172 -91 1784 -91 \nQ 1150 -91 751 415 \nQ 353 922 353 1747 \nQ 353 2572 751 3078 \nQ 1150 3584 1784 3584 \nQ 2172 3584 2448 3432 \nQ 2725 3281 2906 2969 \nL 2906 3500 \nL 3481 3500 \nL 3481 -1331 \nL 2906 -1331 \nL 2906 525 \nz\n\" transform=\"scale(0.015625)\"/>\n       <path id=\"DejaVuSans-6b\" d=\"M 581 4863 \nL 1159 4863 \nL 1159 1991 \nL 2875 3500 \nL 3609 3500 \nL 1753 1863 \nL 3688 0 \nL 2938 0 \nL 1159 1709 \nL 1159 0 \nL 581 0 \nL 581 4863 \nz\n\" transform=\"scale(0.015625)\"/>\n       <path id=\"DejaVuSans-73\" d=\"M 2834 3397 \nL 2834 2853 \nQ 2591 2978 2328 3040 \nQ 2066 3103 1784 3103 \nQ 1356 3103 1142 2972 \nQ 928 2841 928 2578 \nQ 928 2378 1081 2264 \nQ 1234 2150 1697 2047 \nL 1894 2003 \nQ 2506 1872 2764 1633 \nQ 3022 1394 3022 966 \nQ 3022 478 2636 193 \nQ 2250 -91 1575 -91 \nQ 1294 -91 989 -36 \nQ 684 19 347 128 \nL 347 722 \nQ 666 556 975 473 \nQ 1284 391 1588 391 \nQ 1994 391 2212 530 \nQ 2431 669 2431 922 \nQ 2431 1156 2273 1281 \nQ 2116 1406 1581 1522 \nL 1381 1569 \nQ 847 1681 609 1914 \nQ 372 2147 372 2553 \nQ 372 3047 722 3315 \nQ 1072 3584 1716 3584 \nQ 2034 3584 2315 3537 \nQ 2597 3491 2834 3397 \nz\n\" transform=\"scale(0.015625)\"/>\n       <path id=\"DejaVuSans-69\" d=\"M 603 3500 \nL 1178 3500 \nL 1178 0 \nL 603 0 \nL 603 3500 \nz\nM 603 4863 \nL 1178 4863 \nL 1178 4134 \nL 603 4134 \nL 603 4863 \nz\n\" transform=\"scale(0.015625)\"/>\n       <path id=\"DejaVuSans-6e\" d=\"M 3513 2113 \nL 3513 0 \nL 2938 0 \nL 2938 2094 \nQ 2938 2591 2744 2837 \nQ 2550 3084 2163 3084 \nQ 1697 3084 1428 2787 \nQ 1159 2491 1159 1978 \nL 1159 0 \nL 581 0 \nL 581 3500 \nL 1159 3500 \nL 1159 2956 \nQ 1366 3272 1645 3428 \nQ 1925 3584 2291 3584 \nQ 2894 3584 3203 3211 \nQ 3513 2838 3513 2113 \nz\n\" transform=\"scale(0.015625)\"/>\n       <path id=\"DejaVuSans-64\" d=\"M 2906 2969 \nL 2906 4863 \nL 3481 4863 \nL 3481 0 \nL 2906 0 \nL 2906 525 \nQ 2725 213 2448 61 \nQ 2172 -91 1784 -91 \nQ 1150 -91 751 415 \nQ 353 922 353 1747 \nQ 353 2572 751 3078 \nQ 1150 3584 1784 3584 \nQ 2172 3584 2448 3432 \nQ 2725 3281 2906 2969 \nz\nM 947 1747 \nQ 947 1113 1208 752 \nQ 1469 391 1925 391 \nQ 2381 391 2643 752 \nQ 2906 1113 2906 1747 \nQ 2906 2381 2643 2742 \nQ 2381 3103 1925 3103 \nQ 1469 3103 1208 2742 \nQ 947 2381 947 1747 \nz\n\" transform=\"scale(0.015625)\"/>\n       <path id=\"DejaVuSans-63\" d=\"M 3122 3366 \nL 3122 2828 \nQ 2878 2963 2633 3030 \nQ 2388 3097 2138 3097 \nQ 1578 3097 1268 2742 \nQ 959 2388 959 1747 \nQ 959 1106 1268 751 \nQ 1578 397 2138 397 \nQ 2388 397 2633 464 \nQ 2878 531 3122 666 \nL 3122 134 \nQ 2881 22 2623 -34 \nQ 2366 -91 2075 -91 \nQ 1284 -91 818 406 \nQ 353 903 353 1747 \nQ 353 2603 823 3093 \nQ 1294 3584 2113 3584 \nQ 2378 3584 2631 3529 \nQ 2884 3475 3122 3366 \nz\n\" transform=\"scale(0.015625)\"/>\n      </defs>\n      <use xlink:href=\"#DejaVuSans-4e\"/>\n      <use xlink:href=\"#DejaVuSans-75\" x=\"74.804688\"/>\n      <use xlink:href=\"#DejaVuSans-6d\" x=\"138.183594\"/>\n      <use xlink:href=\"#DejaVuSans-62\" x=\"235.595703\"/>\n      <use xlink:href=\"#DejaVuSans-65\" x=\"299.072266\"/>\n      <use xlink:href=\"#DejaVuSans-72\" x=\"360.595703\"/>\n      <use xlink:href=\"#DejaVuSans-20\" x=\"401.708984\"/>\n      <use xlink:href=\"#DejaVuSans-6f\" x=\"433.496094\"/>\n      <use xlink:href=\"#DejaVuSans-66\" x=\"494.677734\"/>\n      <use xlink:href=\"#DejaVuSans-20\" x=\"529.882812\"/>\n      <use xlink:href=\"#DejaVuSans-65\" x=\"561.669922\"/>\n      <use xlink:href=\"#DejaVuSans-61\" x=\"623.193359\"/>\n      <use xlink:href=\"#DejaVuSans-72\" x=\"684.472656\"/>\n      <use xlink:href=\"#DejaVuSans-74\" x=\"725.585938\"/>\n      <use xlink:href=\"#DejaVuSans-68\" x=\"764.794922\"/>\n      <use xlink:href=\"#DejaVuSans-71\" x=\"828.173828\"/>\n      <use xlink:href=\"#DejaVuSans-75\" x=\"891.650391\"/>\n      <use xlink:href=\"#DejaVuSans-61\" x=\"955.029297\"/>\n      <use xlink:href=\"#DejaVuSans-6b\" x=\"1016.308594\"/>\n      <use xlink:href=\"#DejaVuSans-65\" x=\"1070.59375\"/>\n      <use xlink:href=\"#DejaVuSans-73\" x=\"1132.117188\"/>\n      <use xlink:href=\"#DejaVuSans-20\" x=\"1184.216797\"/>\n      <use xlink:href=\"#DejaVuSans-69\" x=\"1216.003906\"/>\n      <use xlink:href=\"#DejaVuSans-6e\" x=\"1243.787109\"/>\n      <use xlink:href=\"#DejaVuSans-20\" x=\"1307.166016\"/>\n      <use xlink:href=\"#DejaVuSans-61\" x=\"1338.953125\"/>\n      <use xlink:href=\"#DejaVuSans-20\" x=\"1400.232422\"/>\n      <use xlink:href=\"#DejaVuSans-64\" x=\"1432.019531\"/>\n      <use xlink:href=\"#DejaVuSans-65\" x=\"1495.496094\"/>\n      <use xlink:href=\"#DejaVuSans-63\" x=\"1557.019531\"/>\n      <use xlink:href=\"#DejaVuSans-61\" x=\"1612\"/>\n      <use xlink:href=\"#DejaVuSans-64\" x=\"1673.279297\"/>\n      <use xlink:href=\"#DejaVuSans-65\" x=\"1736.755859\"/>\n     </g>\n    </g>\n   </g>\n   <g id=\"matplotlib.axis_2\">\n    <g id=\"ytick_1\">\n     <g id=\"line2d_7\">\n      <defs>\n       <path id=\"m4e6e856d3c\" d=\"M 0 0 \nL -4.8 0 \n\" style=\"stroke: #262626\"/>\n      </defs>\n      <g>\n       <use xlink:href=\"#m4e6e856d3c\" x=\"48.38475\" y=\"242.2545\" style=\"fill: #262626; stroke: #262626\"/>\n      </g>\n     </g>\n     <g id=\"text_8\">\n      <!-- 0.00 -->\n      <g style=\"fill: #262626\" transform=\"translate(20.491 245.597813) scale(0.088 -0.088)\">\n       <defs>\n        <path id=\"DejaVuSans-2e\" d=\"M 684 794 \nL 1344 794 \nL 1344 0 \nL 684 0 \nL 684 794 \nz\n\" transform=\"scale(0.015625)\"/>\n       </defs>\n       <use xlink:href=\"#DejaVuSans-30\"/>\n       <use xlink:href=\"#DejaVuSans-2e\" x=\"63.623047\"/>\n       <use xlink:href=\"#DejaVuSans-30\" x=\"95.410156\"/>\n       <use xlink:href=\"#DejaVuSans-30\" x=\"159.033203\"/>\n      </g>\n     </g>\n    </g>\n    <g id=\"ytick_2\">\n     <g id=\"line2d_8\">\n      <g>\n       <use xlink:href=\"#m4e6e856d3c\" x=\"48.38475\" y=\"210.703409\" style=\"fill: #262626; stroke: #262626\"/>\n      </g>\n     </g>\n     <g id=\"text_9\">\n      <!-- 0.05 -->\n      <g style=\"fill: #262626\" transform=\"translate(20.491 214.046721) scale(0.088 -0.088)\">\n       <defs>\n        <path id=\"DejaVuSans-35\" d=\"M 691 4666 \nL 3169 4666 \nL 3169 4134 \nL 1269 4134 \nL 1269 2991 \nQ 1406 3038 1543 3061 \nQ 1681 3084 1819 3084 \nQ 2600 3084 3056 2656 \nQ 3513 2228 3513 1497 \nQ 3513 744 3044 326 \nQ 2575 -91 1722 -91 \nQ 1428 -91 1123 -41 \nQ 819 9 494 109 \nL 494 744 \nQ 775 591 1075 516 \nQ 1375 441 1709 441 \nQ 2250 441 2565 725 \nQ 2881 1009 2881 1497 \nQ 2881 1984 2565 2268 \nQ 2250 2553 1709 2553 \nQ 1456 2553 1204 2497 \nQ 953 2441 691 2322 \nL 691 4666 \nz\n\" transform=\"scale(0.015625)\"/>\n       </defs>\n       <use xlink:href=\"#DejaVuSans-30\"/>\n       <use xlink:href=\"#DejaVuSans-2e\" x=\"63.623047\"/>\n       <use xlink:href=\"#DejaVuSans-30\" x=\"95.410156\"/>\n       <use xlink:href=\"#DejaVuSans-35\" x=\"159.033203\"/>\n      </g>\n     </g>\n    </g>\n    <g id=\"ytick_3\">\n     <g id=\"line2d_9\">\n      <g>\n       <use xlink:href=\"#m4e6e856d3c\" x=\"48.38475\" y=\"179.152318\" style=\"fill: #262626; stroke: #262626\"/>\n      </g>\n     </g>\n     <g id=\"text_10\">\n      <!-- 0.10 -->\n      <g style=\"fill: #262626\" transform=\"translate(20.491 182.49563) scale(0.088 -0.088)\">\n       <use xlink:href=\"#DejaVuSans-30\"/>\n       <use xlink:href=\"#DejaVuSans-2e\" x=\"63.623047\"/>\n       <use xlink:href=\"#DejaVuSans-31\" x=\"95.410156\"/>\n       <use xlink:href=\"#DejaVuSans-30\" x=\"159.033203\"/>\n      </g>\n     </g>\n    </g>\n    <g id=\"ytick_4\">\n     <g id=\"line2d_10\">\n      <g>\n       <use xlink:href=\"#m4e6e856d3c\" x=\"48.38475\" y=\"147.601227\" style=\"fill: #262626; stroke: #262626\"/>\n      </g>\n     </g>\n     <g id=\"text_11\">\n      <!-- 0.15 -->\n      <g style=\"fill: #262626\" transform=\"translate(20.491 150.944539) scale(0.088 -0.088)\">\n       <use xlink:href=\"#DejaVuSans-30\"/>\n       <use xlink:href=\"#DejaVuSans-2e\" x=\"63.623047\"/>\n       <use xlink:href=\"#DejaVuSans-31\" x=\"95.410156\"/>\n       <use xlink:href=\"#DejaVuSans-35\" x=\"159.033203\"/>\n      </g>\n     </g>\n    </g>\n    <g id=\"ytick_5\">\n     <g id=\"line2d_11\">\n      <g>\n       <use xlink:href=\"#m4e6e856d3c\" x=\"48.38475\" y=\"116.050136\" style=\"fill: #262626; stroke: #262626\"/>\n      </g>\n     </g>\n     <g id=\"text_12\">\n      <!-- 0.20 -->\n      <g style=\"fill: #262626\" transform=\"translate(20.491 119.393448) scale(0.088 -0.088)\">\n       <use xlink:href=\"#DejaVuSans-30\"/>\n       <use xlink:href=\"#DejaVuSans-2e\" x=\"63.623047\"/>\n       <use xlink:href=\"#DejaVuSans-32\" x=\"95.410156\"/>\n       <use xlink:href=\"#DejaVuSans-30\" x=\"159.033203\"/>\n      </g>\n     </g>\n    </g>\n    <g id=\"ytick_6\">\n     <g id=\"line2d_12\">\n      <g>\n       <use xlink:href=\"#m4e6e856d3c\" x=\"48.38475\" y=\"84.499045\" style=\"fill: #262626; stroke: #262626\"/>\n      </g>\n     </g>\n     <g id=\"text_13\">\n      <!-- 0.25 -->\n      <g style=\"fill: #262626\" transform=\"translate(20.491 87.842357) scale(0.088 -0.088)\">\n       <use xlink:href=\"#DejaVuSans-30\"/>\n       <use xlink:href=\"#DejaVuSans-2e\" x=\"63.623047\"/>\n       <use xlink:href=\"#DejaVuSans-32\" x=\"95.410156\"/>\n       <use xlink:href=\"#DejaVuSans-35\" x=\"159.033203\"/>\n      </g>\n     </g>\n    </g>\n    <g id=\"ytick_7\">\n     <g id=\"line2d_13\">\n      <g>\n       <use xlink:href=\"#m4e6e856d3c\" x=\"48.38475\" y=\"52.947954\" style=\"fill: #262626; stroke: #262626\"/>\n      </g>\n     </g>\n     <g id=\"text_14\">\n      <!-- 0.30 -->\n      <g style=\"fill: #262626\" transform=\"translate(20.491 56.291266) scale(0.088 -0.088)\">\n       <defs>\n        <path id=\"DejaVuSans-33\" d=\"M 2597 2516 \nQ 3050 2419 3304 2112 \nQ 3559 1806 3559 1356 \nQ 3559 666 3084 287 \nQ 2609 -91 1734 -91 \nQ 1441 -91 1130 -33 \nQ 819 25 488 141 \nL 488 750 \nQ 750 597 1062 519 \nQ 1375 441 1716 441 \nQ 2309 441 2620 675 \nQ 2931 909 2931 1356 \nQ 2931 1769 2642 2001 \nQ 2353 2234 1838 2234 \nL 1294 2234 \nL 1294 2753 \nL 1863 2753 \nQ 2328 2753 2575 2939 \nQ 2822 3125 2822 3475 \nQ 2822 3834 2567 4026 \nQ 2313 4219 1838 4219 \nQ 1578 4219 1281 4162 \nQ 984 4106 628 3988 \nL 628 4550 \nQ 988 4650 1302 4700 \nQ 1616 4750 1894 4750 \nQ 2613 4750 3031 4423 \nQ 3450 4097 3450 3541 \nQ 3450 3153 3228 2886 \nQ 3006 2619 2597 2516 \nz\n\" transform=\"scale(0.015625)\"/>\n       </defs>\n       <use xlink:href=\"#DejaVuSans-30\"/>\n       <use xlink:href=\"#DejaVuSans-2e\" x=\"63.623047\"/>\n       <use xlink:href=\"#DejaVuSans-33\" x=\"95.410156\"/>\n       <use xlink:href=\"#DejaVuSans-30\" x=\"159.033203\"/>\n      </g>\n     </g>\n    </g>\n    <g id=\"ytick_8\">\n     <g id=\"line2d_14\">\n      <g>\n       <use xlink:href=\"#m4e6e856d3c\" x=\"48.38475\" y=\"21.396863\" style=\"fill: #262626; stroke: #262626\"/>\n      </g>\n     </g>\n     <g id=\"text_15\">\n      <!-- 0.35 -->\n      <g style=\"fill: #262626\" transform=\"translate(20.491 24.740175) scale(0.088 -0.088)\">\n       <use xlink:href=\"#DejaVuSans-30\"/>\n       <use xlink:href=\"#DejaVuSans-2e\" x=\"63.623047\"/>\n       <use xlink:href=\"#DejaVuSans-33\" x=\"95.410156\"/>\n       <use xlink:href=\"#DejaVuSans-35\" x=\"159.033203\"/>\n      </g>\n     </g>\n    </g>\n    <g id=\"text_16\">\n     <!-- Probability -->\n     <g style=\"fill: #262626\" transform=\"translate(14.4945 156.74625) rotate(-90) scale(0.096 -0.096)\">\n      <defs>\n       <path id=\"DejaVuSans-50\" d=\"M 1259 4147 \nL 1259 2394 \nL 2053 2394 \nQ 2494 2394 2734 2622 \nQ 2975 2850 2975 3272 \nQ 2975 3691 2734 3919 \nQ 2494 4147 2053 4147 \nL 1259 4147 \nz\nM 628 4666 \nL 2053 4666 \nQ 2838 4666 3239 4311 \nQ 3641 3956 3641 3272 \nQ 3641 2581 3239 2228 \nQ 2838 1875 2053 1875 \nL 1259 1875 \nL 1259 0 \nL 628 0 \nL 628 4666 \nz\n\" transform=\"scale(0.015625)\"/>\n       <path id=\"DejaVuSans-6c\" d=\"M 603 4863 \nL 1178 4863 \nL 1178 0 \nL 603 0 \nL 603 4863 \nz\n\" transform=\"scale(0.015625)\"/>\n       <path id=\"DejaVuSans-79\" d=\"M 2059 -325 \nQ 1816 -950 1584 -1140 \nQ 1353 -1331 966 -1331 \nL 506 -1331 \nL 506 -850 \nL 844 -850 \nQ 1081 -850 1212 -737 \nQ 1344 -625 1503 -206 \nL 1606 56 \nL 191 3500 \nL 800 3500 \nL 1894 763 \nL 2988 3500 \nL 3597 3500 \nL 2059 -325 \nz\n\" transform=\"scale(0.015625)\"/>\n      </defs>\n      <use xlink:href=\"#DejaVuSans-50\"/>\n      <use xlink:href=\"#DejaVuSans-72\" x=\"58.552734\"/>\n      <use xlink:href=\"#DejaVuSans-6f\" x=\"97.416016\"/>\n      <use xlink:href=\"#DejaVuSans-62\" x=\"158.597656\"/>\n      <use xlink:href=\"#DejaVuSans-61\" x=\"222.074219\"/>\n      <use xlink:href=\"#DejaVuSans-62\" x=\"283.353516\"/>\n      <use xlink:href=\"#DejaVuSans-69\" x=\"346.830078\"/>\n      <use xlink:href=\"#DejaVuSans-6c\" x=\"374.613281\"/>\n      <use xlink:href=\"#DejaVuSans-69\" x=\"402.396484\"/>\n      <use xlink:href=\"#DejaVuSans-74\" x=\"430.179688\"/>\n      <use xlink:href=\"#DejaVuSans-79\" x=\"469.388672\"/>\n     </g>\n    </g>\n   </g>\n   <g id=\"patch_3\">\n    <path d=\"M 58.530205 242.2545 \nL 72.286753 242.2545 \nL 72.286753 101.4545 \nL 58.530205 101.4545 \nz\n\" clip-path=\"url(#pa4c9365dae)\" style=\"fill: #f08080; stroke: #000000; stroke-width: 0.8; stroke-linejoin: miter\"/>\n   </g>\n   <g id=\"patch_4\">\n    <path d=\"M 75.72589 242.2545 \nL 89.482439 242.2545 \nL 89.482439 31.0545 \nL 75.72589 31.0545 \nz\n\" clip-path=\"url(#pa4c9365dae)\" style=\"fill: #f08080; stroke: #000000; stroke-width: 0.8; stroke-linejoin: miter\"/>\n   </g>\n   <g id=\"patch_5\">\n    <path d=\"M 92.921576 242.2545 \nL 106.678124 242.2545 \nL 106.678124 83.8545 \nL 92.921576 83.8545 \nz\n\" clip-path=\"url(#pa4c9365dae)\" style=\"fill: #f08080; stroke: #000000; stroke-width: 0.8; stroke-linejoin: miter\"/>\n   </g>\n   <g id=\"patch_6\">\n    <path d=\"M 110.117262 242.2545 \nL 123.87381 242.2545 \nL 123.87381 163.0545 \nL 110.117262 163.0545 \nz\n\" clip-path=\"url(#pa4c9365dae)\" style=\"fill: #f08080; stroke: #000000; stroke-width: 0.8; stroke-linejoin: miter\"/>\n   </g>\n   <g id=\"patch_7\">\n    <path d=\"M 127.312947 242.2545 \nL 141.069496 242.2545 \nL 141.069496 212.5545 \nL 127.312947 212.5545 \nz\n\" clip-path=\"url(#pa4c9365dae)\" style=\"fill: #f08080; stroke: #000000; stroke-width: 0.8; stroke-linejoin: miter\"/>\n   </g>\n   <g id=\"patch_8\">\n    <path d=\"M 144.508633 242.2545 \nL 158.265181 242.2545 \nL 158.265181 233.3445 \nL 144.508633 233.3445 \nz\n\" clip-path=\"url(#pa4c9365dae)\" style=\"fill: #f08080; stroke: #000000; stroke-width: 0.8; stroke-linejoin: miter\"/>\n   </g>\n   <g id=\"patch_9\">\n    <path d=\"M 161.704319 242.2545 \nL 175.460867 242.2545 \nL 175.460867 240.027 \nL 161.704319 240.027 \nz\n\" clip-path=\"url(#pa4c9365dae)\" style=\"fill: #f08080; stroke: #000000; stroke-width: 0.8; stroke-linejoin: miter\"/>\n   </g>\n   <g id=\"patch_10\">\n    <path d=\"M 178.900004 242.2545 \nL 192.656553 242.2545 \nL 192.656553 241.777179 \nL 178.900004 241.777179 \nz\n\" clip-path=\"url(#pa4c9365dae)\" style=\"fill: #f08080; stroke: #000000; stroke-width: 0.8; stroke-linejoin: miter\"/>\n   </g>\n   <g id=\"patch_11\">\n    <path d=\"M 196.09569 242.2545 \nL 209.852238 242.2545 \nL 209.852238 242.165002 \nL 196.09569 242.165002 \nz\n\" clip-path=\"url(#pa4c9365dae)\" style=\"fill: #f08080; stroke: #000000; stroke-width: 0.8; stroke-linejoin: miter\"/>\n   </g>\n   <g id=\"patch_12\">\n    <path d=\"M 213.291376 242.2545 \nL 227.047924 242.2545 \nL 227.047924 242.239584 \nL 213.291376 242.239584 \nz\n\" clip-path=\"url(#pa4c9365dae)\" style=\"fill: #f08080; stroke: #000000; stroke-width: 0.8; stroke-linejoin: miter\"/>\n   </g>\n   <g id=\"patch_13\">\n    <path d=\"M 230.487061 242.2545 \nL 244.24361 242.2545 \nL 244.24361 242.252263 \nL 230.487061 242.252263 \nz\n\" clip-path=\"url(#pa4c9365dae)\" style=\"fill: #f08080; stroke: #000000; stroke-width: 0.8; stroke-linejoin: miter\"/>\n   </g>\n   <g id=\"patch_14\">\n    <path d=\"M 247.682747 242.2545 \nL 261.439295 242.2545 \nL 261.439295 242.254195 \nL 247.682747 242.254195 \nz\n\" clip-path=\"url(#pa4c9365dae)\" style=\"fill: #f08080; stroke: #000000; stroke-width: 0.8; stroke-linejoin: miter\"/>\n   </g>\n   <g id=\"patch_15\">\n    <path d=\"M 48.38475 242.2545 \nL 48.38475 21.396863 \n\" style=\"fill: none; stroke: #262626; stroke-linejoin: miter; stroke-linecap: square\"/>\n   </g>\n   <g id=\"patch_16\">\n    <path d=\"M 65.408479 242.2545 \nL 237.365336 242.2545 \n\" style=\"fill: none; stroke: #262626; stroke-linejoin: miter; stroke-linecap: square\"/>\n   </g>\n   <g id=\"text_17\">\n    <!-- Poisson PMF -->\n    <g style=\"fill: #262626\" transform=\"translate(130.692 14.4945) scale(0.096 -0.096)\">\n     <defs>\n      <path id=\"DejaVuSans-4d\" d=\"M 628 4666 \nL 1569 4666 \nL 2759 1491 \nL 3956 4666 \nL 4897 4666 \nL 4897 0 \nL 4281 0 \nL 4281 4097 \nL 3078 897 \nL 2444 897 \nL 1241 4097 \nL 1241 0 \nL 628 0 \nL 628 4666 \nz\n\" transform=\"scale(0.015625)\"/>\n      <path id=\"DejaVuSans-46\" d=\"M 628 4666 \nL 3309 4666 \nL 3309 4134 \nL 1259 4134 \nL 1259 2759 \nL 3109 2759 \nL 3109 2228 \nL 1259 2228 \nL 1259 0 \nL 628 0 \nL 628 4666 \nz\n\" transform=\"scale(0.015625)\"/>\n     </defs>\n     <use xlink:href=\"#DejaVuSans-50\"/>\n     <use xlink:href=\"#DejaVuSans-6f\" x=\"56.677734\"/>\n     <use xlink:href=\"#DejaVuSans-69\" x=\"117.859375\"/>\n     <use xlink:href=\"#DejaVuSans-73\" x=\"145.642578\"/>\n     <use xlink:href=\"#DejaVuSans-73\" x=\"197.742188\"/>\n     <use xlink:href=\"#DejaVuSans-6f\" x=\"249.841797\"/>\n     <use xlink:href=\"#DejaVuSans-6e\" x=\"311.023438\"/>\n     <use xlink:href=\"#DejaVuSans-20\" x=\"374.402344\"/>\n     <use xlink:href=\"#DejaVuSans-50\" x=\"406.189453\"/>\n     <use xlink:href=\"#DejaVuSans-4d\" x=\"466.492188\"/>\n     <use xlink:href=\"#DejaVuSans-46\" x=\"552.771484\"/>\n    </g>\n   </g>\n  </g>\n </g>\n <defs>\n  <clipPath id=\"pa4c9365dae\">\n   <rect x=\"48.38475\" y=\"20.4945\" width=\"223.2\" height=\"221.76\"/>\n  </clipPath>\n </defs>\n</svg>\n"
          },
          "metadata": {}
        }
      ],
      "source": [
        "import numpy as np\n",
        "import matplotlib.pyplot as plt\n",
        "import seaborn as sns\n",
        "from scipy.stats import poisson\n",
        "\n",
        "# Rate parameter of Poisson (number of earthquakes per decade)\n",
        "r = np.mean(eq_data)\n",
        "\n",
        "# Define the range of x values\n",
        "x_values = np.arange(len(eq_data))\n",
        "# print(x_values)\n",
        "# Provided earlier\n",
        "X = st.poisson(r)\n",
        "\n",
        "# Plotting PMF\n",
        "fig, ax = plt.subplots(figsize=(4, 4))\n",
        "ax.bar(x_values, X.pmf(x_values), color='lightcoral', edgecolor='black')\n",
        "\n",
        "# Plot settings\n",
        "ax.set_xlabel('Number of earthquakes in a decade')\n",
        "ax.set_ylabel('Probability')\n",
        "plt.title('Poisson PMF')\n",
        "sns.despine(trim=True)\n",
        "plt.show()"
      ]
    },
    {
      "cell_type": "markdown",
      "metadata": {
        "id": "dtb9DxkbnYof"
      },
      "source": [
        "B. What is the probability that at least one major earthquake will occur during the next decade?<br>\n",
        "**Answer:**\n",
        "<br>"
      ]
    },
    {
      "cell_type": "code",
      "execution_count": null,
      "metadata": {
        "id": "Lro85WYJnYof",
        "colab": {
          "base_uri": "https://localhost:8080/"
        },
        "outputId": "0f6f3cbd-79ac-4d67-e611-363c37d24776"
      },
      "outputs": [
        {
          "output_type": "stream",
          "name": "stdout",
          "text": [
            "Probability of at least one earthquake: 0.7769\n"
          ]
        }
      ],
      "source": [
        "from scipy.stats import poisson\n",
        "\n",
        "r = np.mean(eq_data)\n",
        "\n",
        "# Probability of zero earthquake\n",
        "prob_zero_eq = poisson.pmf(0,r)\n",
        "\n",
        "# Probability of at least one\n",
        "prob_atleast_one_eq = (1-prob_zero_eq)\n",
        "\n",
        "print(f\"Probability of at least one earthquake: {prob_atleast_one_eq:.4f}\")"
      ]
    },
    {
      "cell_type": "markdown",
      "metadata": {
        "id": "IN_OXpGInYog"
      },
      "source": [
        "C. What is the probability that at least one major earthquake will occur during the next two decades?\n",
        "Hint: Consider two independent and identical copies of $X$, say $X_1$ and $X_2$.\n",
        "And consider their sum $Y = X_1 + X_2$. Read [this](https://en.wikipedia.org/wiki/Poisson_distribution#Sums_of_Poisson-distributed_random_variables) about the sum of two independent Poisson distributions.\n",
        "<br>\n",
        "**Answer:**\n",
        "<br>"
      ]
    },
    {
      "cell_type": "code",
      "source": [
        "from scipy.stats import poisson\n",
        "r = np.mean(eq_data)\n",
        "r_two_decade = 2 * r\n",
        "\n",
        "prob_at_least_one_in_two_decade = 1-st.poisson.pmf(0,r_two_decade)\n",
        "print(f\"Probability of at least one earthquake in next two decades: {prob_at_least_one_in_two_decade:.4f}\")"
      ],
      "metadata": {
        "colab": {
          "base_uri": "https://localhost:8080/"
        },
        "id": "p88Jk90PYdl2",
        "outputId": "e477d4ad-6dab-45de-cee7-1ee645b7a995"
      },
      "execution_count": null,
      "outputs": [
        {
          "output_type": "stream",
          "name": "stdout",
          "text": [
            "Probability of at least one earthquake in next two decades: 0.9502\n"
          ]
        }
      ]
    },
    {
      "cell_type": "markdown",
      "metadata": {
        "id": "WNaXNwXBnYog"
      },
      "source": [
        "D. What is the probability that at least one major earthquake will occur during the next five decades?<br>\n",
        "**Answer:**\n",
        "<br>"
      ]
    },
    {
      "cell_type": "code",
      "source": [
        "from scipy.stats import poisson\n",
        "# Poisson rate parameter (mean number of earthquakes per decade) given\n",
        "r = np.mean(eq_data)\n",
        "r_five_decade = 5 * r\n",
        "\n",
        "prob_at_least_one_in_five_decade = 1- st.poisson.pmf(0,r_five_decade)\n",
        "print(f\"Probability of at least one earthquake in next five decades: {prob_at_least_one_in_five_decade:.4f}\")"
      ],
      "metadata": {
        "colab": {
          "base_uri": "https://localhost:8080/"
        },
        "id": "87D2z6LBuJO5",
        "outputId": "ec40705a-d0de-43e8-fa56-8110e1badd47"
      },
      "execution_count": null,
      "outputs": [
        {
          "output_type": "stream",
          "name": "stdout",
          "text": [
            "Probability of at least one earthquake in next five decades: 0.9994\n"
          ]
        }
      ]
    },
    {
      "cell_type": "markdown",
      "metadata": {
        "id": "YOhPxVW4nYoh"
      },
      "source": [
        "## Problem 4 - Failure of a mechanical component\n",
        "\n",
        "Assume that you designing a gear for a mechanical system.\n",
        "Under normal operating conditions the gear is expected to fail at a random time.\n",
        "Let $T$ be a random variable capturing the time the gear fails.\n",
        "What should the probability density of $T$ look like?\n",
        "\n",
        "Here are some hypothetical data to work with.\n",
        "Suppose that we took ten gears and we worked them until failure.\n",
        "The failure times (say in years) are as follows:"
      ]
    },
    {
      "cell_type": "code",
      "execution_count": null,
      "metadata": {
        "id": "rSMJgDi8nYoh"
      },
      "outputs": [],
      "source": [
        "time_to_fail_data = np.array(\n",
        "    [\n",
        "        10.5,\n",
        "        7.5,\n",
        "        8.1,\n",
        "        8.4,\n",
        "        11.2,\n",
        "        9.3,\n",
        "        8.9,\n",
        "        12.4\n",
        "    ]\n",
        ")"
      ]
    },
    {
      "cell_type": "markdown",
      "metadata": {
        "id": "DtCQSIu1nYok"
      },
      "source": [
        "Why does each gear fail at different times?\n",
        "There are several sources of uncertainty.\n",
        "The most important are:\n",
        "\n",
        "- Manufacturing imperfections.\n",
        "- Different loading conditions.\n",
        "\n",
        "If this was a controlled fatigue experiment, then we could eliminate the second source of uncertainty by using exactly the same loading conditions.\n",
        "\n",
        "Now, we are going to fit a probability density function to these data.\n",
        "Which one should we use?\n",
        "Well, new gears do not fail easily.\n",
        "So, the probability density function of $T$ should be close to zero for small $T$.\n",
        "As time goes by, the probability density should increase because various things start happening to the material, e.g., crack formation, fatigue, etc.\n",
        "Finally, the probability density must again start going to zero as time further increases because nothing lasts forever...\n",
        "A probability distribution that is commonly used to model this situation is the [Weibull](https://en.wikipedia.org/wiki/Weibull_distribution).\n",
        "We are going to fit some fail time data to a Weibull distribution and then you will have to answer a few questions about failing times.\n",
        "\n",
        "The Weibull has parameters and we are going to fit them to the available data.\n",
        "The method we are going to use is called the *maximum likelihood method*.\n",
        "We haven't really talked about this, and it is not important to know what it is to do this homework problem.\n",
        "We will learn about maximum likelihood in later lectures.\n",
        "Here is how we fit the parameters using `scipy.stats`:"
      ]
    },
    {
      "cell_type": "code",
      "execution_count": null,
      "metadata": {
        "id": "1-GafXI6nYop",
        "outputId": "687b188f-fd38-4384-ebb3-4fa22868a9e4",
        "colab": {
          "base_uri": "https://localhost:8080/"
        }
      },
      "outputs": [
        {
          "output_type": "stream",
          "name": "stdout",
          "text": [
            "Fitted parameters: (448.066965711728, 0.7099665338918923, 3.4218808260575804, 0.41627831297126994)\n"
          ]
        }
      ],
      "source": [
        "fitted_params = st.exponweib.fit(time_to_fail_data, loc=0)\n",
        "T = st.exponweib(*fitted_params)\n",
        "print(f\"Fitted parameters: {fitted_params}\")"
      ]
    },
    {
      "cell_type": "markdown",
      "metadata": {
        "id": "JoUXAeAmnYop"
      },
      "source": [
        "**Let**'s plot the fitted Weibul PDF and the data we used:"
      ]
    },
    {
      "cell_type": "code",
      "execution_count": null,
      "metadata": {
        "id": "wwyTRf-enYop",
        "outputId": "ccc80058-fb2d-476b-b6b9-8f27ab44dd6c",
        "colab": {
          "base_uri": "https://localhost:8080/",
          "height": 436
        }
      },
      "outputs": [
        {
          "output_type": "display_data",
          "data": {
            "text/plain": [
              "<Figure size 640x480 with 1 Axes>"
            ],
            "image/svg+xml": "<?xml version=\"1.0\" encoding=\"utf-8\" standalone=\"no\"?>\n<!DOCTYPE svg PUBLIC \"-//W3C//DTD SVG 1.1//EN\"\n  \"http://www.w3.org/Graphics/SVG/1.1/DTD/svg11.dtd\">\n<svg xmlns:xlink=\"http://www.w3.org/1999/xlink\" width=\"412.72575pt\" height=\"310.64075pt\" viewBox=\"0 0 412.72575 310.64075\" xmlns=\"http://www.w3.org/2000/svg\" version=\"1.1\">\n <metadata>\n  <rdf:RDF xmlns:dc=\"http://purl.org/dc/elements/1.1/\" xmlns:cc=\"http://creativecommons.org/ns#\" xmlns:rdf=\"http://www.w3.org/1999/02/22-rdf-syntax-ns#\">\n   <cc:Work>\n    <dc:type rdf:resource=\"http://purl.org/dc/dcmitype/StillImage\"/>\n    <dc:date>2024-06-18T15:33:35.623022</dc:date>\n    <dc:format>image/svg+xml</dc:format>\n    <dc:creator>\n     <cc:Agent>\n      <dc:title>Matplotlib v3.7.1, https://matplotlib.org/</dc:title>\n     </cc:Agent>\n    </dc:creator>\n   </cc:Work>\n  </rdf:RDF>\n </metadata>\n <defs>\n  <style type=\"text/css\">*{stroke-linejoin: round; stroke-linecap: butt}</style>\n </defs>\n <g id=\"figure_1\">\n  <g id=\"patch_1\">\n   <path d=\"M 0 310.64075 \nL 412.72575 310.64075 \nL 412.72575 0 \nL 0 0 \nz\n\" style=\"fill: #ffffff\"/>\n  </g>\n  <g id=\"axes_1\">\n   <g id=\"patch_2\">\n    <path d=\"M 48.40575 273.312 \nL 405.52575 273.312 \nL 405.52575 7.2 \nL 48.40575 7.2 \nz\n\" style=\"fill: #ffffff\"/>\n   </g>\n   <g id=\"matplotlib.axis_1\">\n    <g id=\"xtick_1\">\n     <g id=\"line2d_1\">\n      <defs>\n       <path id=\"md19ac84769\" d=\"M 0 0 \nL 0 4.8 \n\" style=\"stroke: #262626\"/>\n      </defs>\n      <g>\n       <use xlink:href=\"#md19ac84769\" x=\"64.638477\" y=\"273.312\" style=\"fill: #262626; stroke: #262626\"/>\n      </g>\n     </g>\n     <g id=\"text_1\">\n      <!-- 0.0 -->\n      <g style=\"fill: #262626\" transform=\"translate(57.641102 288.298625) scale(0.088 -0.088)\">\n       <defs>\n        <path id=\"DejaVuSans-30\" d=\"M 2034 4250 \nQ 1547 4250 1301 3770 \nQ 1056 3291 1056 2328 \nQ 1056 1369 1301 889 \nQ 1547 409 2034 409 \nQ 2525 409 2770 889 \nQ 3016 1369 3016 2328 \nQ 3016 3291 2770 3770 \nQ 2525 4250 2034 4250 \nz\nM 2034 4750 \nQ 2819 4750 3233 4129 \nQ 3647 3509 3647 2328 \nQ 3647 1150 3233 529 \nQ 2819 -91 2034 -91 \nQ 1250 -91 836 529 \nQ 422 1150 422 2328 \nQ 422 3509 836 4129 \nQ 1250 4750 2034 4750 \nz\n\" transform=\"scale(0.015625)\"/>\n        <path id=\"DejaVuSans-2e\" d=\"M 684 794 \nL 1344 794 \nL 1344 0 \nL 684 0 \nL 684 794 \nz\n\" transform=\"scale(0.015625)\"/>\n       </defs>\n       <use xlink:href=\"#DejaVuSans-30\"/>\n       <use xlink:href=\"#DejaVuSans-2e\" x=\"63.623047\"/>\n       <use xlink:href=\"#DejaVuSans-30\" x=\"95.410156\"/>\n      </g>\n     </g>\n    </g>\n    <g id=\"xtick_2\">\n     <g id=\"line2d_2\">\n      <g>\n       <use xlink:href=\"#md19ac84769\" x=\"105.220295\" y=\"273.312\" style=\"fill: #262626; stroke: #262626\"/>\n      </g>\n     </g>\n     <g id=\"text_2\">\n      <!-- 2.5 -->\n      <g style=\"fill: #262626\" transform=\"translate(98.22292 288.298625) scale(0.088 -0.088)\">\n       <defs>\n        <path id=\"DejaVuSans-32\" d=\"M 1228 531 \nL 3431 531 \nL 3431 0 \nL 469 0 \nL 469 531 \nQ 828 903 1448 1529 \nQ 2069 2156 2228 2338 \nQ 2531 2678 2651 2914 \nQ 2772 3150 2772 3378 \nQ 2772 3750 2511 3984 \nQ 2250 4219 1831 4219 \nQ 1534 4219 1204 4116 \nQ 875 4013 500 3803 \nL 500 4441 \nQ 881 4594 1212 4672 \nQ 1544 4750 1819 4750 \nQ 2544 4750 2975 4387 \nQ 3406 4025 3406 3419 \nQ 3406 3131 3298 2873 \nQ 3191 2616 2906 2266 \nQ 2828 2175 2409 1742 \nQ 1991 1309 1228 531 \nz\n\" transform=\"scale(0.015625)\"/>\n        <path id=\"DejaVuSans-35\" d=\"M 691 4666 \nL 3169 4666 \nL 3169 4134 \nL 1269 4134 \nL 1269 2991 \nQ 1406 3038 1543 3061 \nQ 1681 3084 1819 3084 \nQ 2600 3084 3056 2656 \nQ 3513 2228 3513 1497 \nQ 3513 744 3044 326 \nQ 2575 -91 1722 -91 \nQ 1428 -91 1123 -41 \nQ 819 9 494 109 \nL 494 744 \nQ 775 591 1075 516 \nQ 1375 441 1709 441 \nQ 2250 441 2565 725 \nQ 2881 1009 2881 1497 \nQ 2881 1984 2565 2268 \nQ 2250 2553 1709 2553 \nQ 1456 2553 1204 2497 \nQ 953 2441 691 2322 \nL 691 4666 \nz\n\" transform=\"scale(0.015625)\"/>\n       </defs>\n       <use xlink:href=\"#DejaVuSans-32\"/>\n       <use xlink:href=\"#DejaVuSans-2e\" x=\"63.623047\"/>\n       <use xlink:href=\"#DejaVuSans-35\" x=\"95.410156\"/>\n      </g>\n     </g>\n    </g>\n    <g id=\"xtick_3\">\n     <g id=\"line2d_3\">\n      <g>\n       <use xlink:href=\"#md19ac84769\" x=\"145.802114\" y=\"273.312\" style=\"fill: #262626; stroke: #262626\"/>\n      </g>\n     </g>\n     <g id=\"text_3\">\n      <!-- 5.0 -->\n      <g style=\"fill: #262626\" transform=\"translate(138.804739 288.298625) scale(0.088 -0.088)\">\n       <use xlink:href=\"#DejaVuSans-35\"/>\n       <use xlink:href=\"#DejaVuSans-2e\" x=\"63.623047\"/>\n       <use xlink:href=\"#DejaVuSans-30\" x=\"95.410156\"/>\n      </g>\n     </g>\n    </g>\n    <g id=\"xtick_4\">\n     <g id=\"line2d_4\">\n      <g>\n       <use xlink:href=\"#md19ac84769\" x=\"186.383932\" y=\"273.312\" style=\"fill: #262626; stroke: #262626\"/>\n      </g>\n     </g>\n     <g id=\"text_4\">\n      <!-- 7.5 -->\n      <g style=\"fill: #262626\" transform=\"translate(179.386557 288.298625) scale(0.088 -0.088)\">\n       <defs>\n        <path id=\"DejaVuSans-37\" d=\"M 525 4666 \nL 3525 4666 \nL 3525 4397 \nL 1831 0 \nL 1172 0 \nL 2766 4134 \nL 525 4134 \nL 525 4666 \nz\n\" transform=\"scale(0.015625)\"/>\n       </defs>\n       <use xlink:href=\"#DejaVuSans-37\"/>\n       <use xlink:href=\"#DejaVuSans-2e\" x=\"63.623047\"/>\n       <use xlink:href=\"#DejaVuSans-35\" x=\"95.410156\"/>\n      </g>\n     </g>\n    </g>\n    <g id=\"xtick_5\">\n     <g id=\"line2d_5\">\n      <g>\n       <use xlink:href=\"#md19ac84769\" x=\"226.96575\" y=\"273.312\" style=\"fill: #262626; stroke: #262626\"/>\n      </g>\n     </g>\n     <g id=\"text_5\">\n      <!-- 10.0 -->\n      <g style=\"fill: #262626\" transform=\"translate(217.168875 288.298625) scale(0.088 -0.088)\">\n       <defs>\n        <path id=\"DejaVuSans-31\" d=\"M 794 531 \nL 1825 531 \nL 1825 4091 \nL 703 3866 \nL 703 4441 \nL 1819 4666 \nL 2450 4666 \nL 2450 531 \nL 3481 531 \nL 3481 0 \nL 794 0 \nL 794 531 \nz\n\" transform=\"scale(0.015625)\"/>\n       </defs>\n       <use xlink:href=\"#DejaVuSans-31\"/>\n       <use xlink:href=\"#DejaVuSans-30\" x=\"63.623047\"/>\n       <use xlink:href=\"#DejaVuSans-2e\" x=\"127.246094\"/>\n       <use xlink:href=\"#DejaVuSans-30\" x=\"159.033203\"/>\n      </g>\n     </g>\n    </g>\n    <g id=\"xtick_6\">\n     <g id=\"line2d_6\">\n      <g>\n       <use xlink:href=\"#md19ac84769\" x=\"267.547568\" y=\"273.312\" style=\"fill: #262626; stroke: #262626\"/>\n      </g>\n     </g>\n     <g id=\"text_6\">\n      <!-- 12.5 -->\n      <g style=\"fill: #262626\" transform=\"translate(257.750693 288.298625) scale(0.088 -0.088)\">\n       <use xlink:href=\"#DejaVuSans-31\"/>\n       <use xlink:href=\"#DejaVuSans-32\" x=\"63.623047\"/>\n       <use xlink:href=\"#DejaVuSans-2e\" x=\"127.246094\"/>\n       <use xlink:href=\"#DejaVuSans-35\" x=\"159.033203\"/>\n      </g>\n     </g>\n    </g>\n    <g id=\"xtick_7\">\n     <g id=\"line2d_7\">\n      <g>\n       <use xlink:href=\"#md19ac84769\" x=\"308.129386\" y=\"273.312\" style=\"fill: #262626; stroke: #262626\"/>\n      </g>\n     </g>\n     <g id=\"text_7\">\n      <!-- 15.0 -->\n      <g style=\"fill: #262626\" transform=\"translate(298.332511 288.298625) scale(0.088 -0.088)\">\n       <use xlink:href=\"#DejaVuSans-31\"/>\n       <use xlink:href=\"#DejaVuSans-35\" x=\"63.623047\"/>\n       <use xlink:href=\"#DejaVuSans-2e\" x=\"127.246094\"/>\n       <use xlink:href=\"#DejaVuSans-30\" x=\"159.033203\"/>\n      </g>\n     </g>\n    </g>\n    <g id=\"xtick_8\">\n     <g id=\"line2d_8\">\n      <g>\n       <use xlink:href=\"#md19ac84769\" x=\"348.711205\" y=\"273.312\" style=\"fill: #262626; stroke: #262626\"/>\n      </g>\n     </g>\n     <g id=\"text_8\">\n      <!-- 17.5 -->\n      <g style=\"fill: #262626\" transform=\"translate(338.91433 288.298625) scale(0.088 -0.088)\">\n       <use xlink:href=\"#DejaVuSans-31\"/>\n       <use xlink:href=\"#DejaVuSans-37\" x=\"63.623047\"/>\n       <use xlink:href=\"#DejaVuSans-2e\" x=\"127.246094\"/>\n       <use xlink:href=\"#DejaVuSans-35\" x=\"159.033203\"/>\n      </g>\n     </g>\n    </g>\n    <g id=\"xtick_9\">\n     <g id=\"line2d_9\">\n      <g>\n       <use xlink:href=\"#md19ac84769\" x=\"389.293023\" y=\"273.312\" style=\"fill: #262626; stroke: #262626\"/>\n      </g>\n     </g>\n     <g id=\"text_9\">\n      <!-- 20.0 -->\n      <g style=\"fill: #262626\" transform=\"translate(379.496148 288.298625) scale(0.088 -0.088)\">\n       <use xlink:href=\"#DejaVuSans-32\"/>\n       <use xlink:href=\"#DejaVuSans-30\" x=\"63.623047\"/>\n       <use xlink:href=\"#DejaVuSans-2e\" x=\"127.246094\"/>\n       <use xlink:href=\"#DejaVuSans-30\" x=\"159.033203\"/>\n      </g>\n     </g>\n    </g>\n    <g id=\"text_10\">\n     <!-- $t$ (years) -->\n     <g style=\"fill: #262626\" transform=\"translate(206.56575 301.42475) scale(0.096 -0.096)\">\n      <defs>\n       <path id=\"DejaVuSans-Oblique-74\" d=\"M 2706 3500 \nL 2619 3053 \nL 1472 3053 \nL 1100 1153 \nQ 1081 1047 1072 975 \nQ 1063 903 1063 863 \nQ 1063 663 1183 572 \nQ 1303 481 1569 481 \nL 2150 481 \nL 2053 0 \nL 1503 0 \nQ 991 0 739 200 \nQ 488 400 488 806 \nQ 488 878 497 964 \nQ 506 1050 525 1153 \nL 897 3053 \nL 409 3053 \nL 500 3500 \nL 978 3500 \nL 1172 4494 \nL 1747 4494 \nL 1556 3500 \nL 2706 3500 \nz\n\" transform=\"scale(0.015625)\"/>\n       <path id=\"DejaVuSans-20\" transform=\"scale(0.015625)\"/>\n       <path id=\"DejaVuSans-28\" d=\"M 1984 4856 \nQ 1566 4138 1362 3434 \nQ 1159 2731 1159 2009 \nQ 1159 1288 1364 580 \nQ 1569 -128 1984 -844 \nL 1484 -844 \nQ 1016 -109 783 600 \nQ 550 1309 550 2009 \nQ 550 2706 781 3412 \nQ 1013 4119 1484 4856 \nL 1984 4856 \nz\n\" transform=\"scale(0.015625)\"/>\n       <path id=\"DejaVuSans-79\" d=\"M 2059 -325 \nQ 1816 -950 1584 -1140 \nQ 1353 -1331 966 -1331 \nL 506 -1331 \nL 506 -850 \nL 844 -850 \nQ 1081 -850 1212 -737 \nQ 1344 -625 1503 -206 \nL 1606 56 \nL 191 3500 \nL 800 3500 \nL 1894 763 \nL 2988 3500 \nL 3597 3500 \nL 2059 -325 \nz\n\" transform=\"scale(0.015625)\"/>\n       <path id=\"DejaVuSans-65\" d=\"M 3597 1894 \nL 3597 1613 \nL 953 1613 \nQ 991 1019 1311 708 \nQ 1631 397 2203 397 \nQ 2534 397 2845 478 \nQ 3156 559 3463 722 \nL 3463 178 \nQ 3153 47 2828 -22 \nQ 2503 -91 2169 -91 \nQ 1331 -91 842 396 \nQ 353 884 353 1716 \nQ 353 2575 817 3079 \nQ 1281 3584 2069 3584 \nQ 2775 3584 3186 3129 \nQ 3597 2675 3597 1894 \nz\nM 3022 2063 \nQ 3016 2534 2758 2815 \nQ 2500 3097 2075 3097 \nQ 1594 3097 1305 2825 \nQ 1016 2553 972 2059 \nL 3022 2063 \nz\n\" transform=\"scale(0.015625)\"/>\n       <path id=\"DejaVuSans-61\" d=\"M 2194 1759 \nQ 1497 1759 1228 1600 \nQ 959 1441 959 1056 \nQ 959 750 1161 570 \nQ 1363 391 1709 391 \nQ 2188 391 2477 730 \nQ 2766 1069 2766 1631 \nL 2766 1759 \nL 2194 1759 \nz\nM 3341 1997 \nL 3341 0 \nL 2766 0 \nL 2766 531 \nQ 2569 213 2275 61 \nQ 1981 -91 1556 -91 \nQ 1019 -91 701 211 \nQ 384 513 384 1019 \nQ 384 1609 779 1909 \nQ 1175 2209 1959 2209 \nL 2766 2209 \nL 2766 2266 \nQ 2766 2663 2505 2880 \nQ 2244 3097 1772 3097 \nQ 1472 3097 1187 3025 \nQ 903 2953 641 2809 \nL 641 3341 \nQ 956 3463 1253 3523 \nQ 1550 3584 1831 3584 \nQ 2591 3584 2966 3190 \nQ 3341 2797 3341 1997 \nz\n\" transform=\"scale(0.015625)\"/>\n       <path id=\"DejaVuSans-72\" d=\"M 2631 2963 \nQ 2534 3019 2420 3045 \nQ 2306 3072 2169 3072 \nQ 1681 3072 1420 2755 \nQ 1159 2438 1159 1844 \nL 1159 0 \nL 581 0 \nL 581 3500 \nL 1159 3500 \nL 1159 2956 \nQ 1341 3275 1631 3429 \nQ 1922 3584 2338 3584 \nQ 2397 3584 2469 3576 \nQ 2541 3569 2628 3553 \nL 2631 2963 \nz\n\" transform=\"scale(0.015625)\"/>\n       <path id=\"DejaVuSans-73\" d=\"M 2834 3397 \nL 2834 2853 \nQ 2591 2978 2328 3040 \nQ 2066 3103 1784 3103 \nQ 1356 3103 1142 2972 \nQ 928 2841 928 2578 \nQ 928 2378 1081 2264 \nQ 1234 2150 1697 2047 \nL 1894 2003 \nQ 2506 1872 2764 1633 \nQ 3022 1394 3022 966 \nQ 3022 478 2636 193 \nQ 2250 -91 1575 -91 \nQ 1294 -91 989 -36 \nQ 684 19 347 128 \nL 347 722 \nQ 666 556 975 473 \nQ 1284 391 1588 391 \nQ 1994 391 2212 530 \nQ 2431 669 2431 922 \nQ 2431 1156 2273 1281 \nQ 2116 1406 1581 1522 \nL 1381 1569 \nQ 847 1681 609 1914 \nQ 372 2147 372 2553 \nQ 372 3047 722 3315 \nQ 1072 3584 1716 3584 \nQ 2034 3584 2315 3537 \nQ 2597 3491 2834 3397 \nz\n\" transform=\"scale(0.015625)\"/>\n       <path id=\"DejaVuSans-29\" d=\"M 513 4856 \nL 1013 4856 \nQ 1481 4119 1714 3412 \nQ 1947 2706 1947 2009 \nQ 1947 1309 1714 600 \nQ 1481 -109 1013 -844 \nL 513 -844 \nQ 928 -128 1133 580 \nQ 1338 1288 1338 2009 \nQ 1338 2731 1133 3434 \nQ 928 4138 513 4856 \nz\n\" transform=\"scale(0.015625)\"/>\n      </defs>\n      <use xlink:href=\"#DejaVuSans-Oblique-74\" transform=\"translate(0 0.125)\"/>\n      <use xlink:href=\"#DejaVuSans-20\" transform=\"translate(39.208984 0.125)\"/>\n      <use xlink:href=\"#DejaVuSans-28\" transform=\"translate(70.996094 0.125)\"/>\n      <use xlink:href=\"#DejaVuSans-79\" transform=\"translate(110.009766 0.125)\"/>\n      <use xlink:href=\"#DejaVuSans-65\" transform=\"translate(169.189453 0.125)\"/>\n      <use xlink:href=\"#DejaVuSans-61\" transform=\"translate(230.712891 0.125)\"/>\n      <use xlink:href=\"#DejaVuSans-72\" transform=\"translate(291.992188 0.125)\"/>\n      <use xlink:href=\"#DejaVuSans-73\" transform=\"translate(333.105469 0.125)\"/>\n      <use xlink:href=\"#DejaVuSans-29\" transform=\"translate(385.205078 0.125)\"/>\n     </g>\n    </g>\n   </g>\n   <g id=\"matplotlib.axis_2\">\n    <g id=\"ytick_1\">\n     <g id=\"line2d_10\">\n      <defs>\n       <path id=\"m764f07dfd4\" d=\"M 0 0 \nL -4.8 0 \n\" style=\"stroke: #262626\"/>\n      </defs>\n      <g>\n       <use xlink:href=\"#m764f07dfd4\" x=\"48.40575\" y=\"261.216\" style=\"fill: #262626; stroke: #262626\"/>\n      </g>\n     </g>\n     <g id=\"text_11\">\n      <!-- 0.00 -->\n      <g style=\"fill: #262626\" transform=\"translate(20.512 264.559312) scale(0.088 -0.088)\">\n       <use xlink:href=\"#DejaVuSans-30\"/>\n       <use xlink:href=\"#DejaVuSans-2e\" x=\"63.623047\"/>\n       <use xlink:href=\"#DejaVuSans-30\" x=\"95.410156\"/>\n       <use xlink:href=\"#DejaVuSans-30\" x=\"159.033203\"/>\n      </g>\n     </g>\n    </g>\n    <g id=\"ytick_2\">\n     <g id=\"line2d_11\">\n      <g>\n       <use xlink:href=\"#m764f07dfd4\" x=\"48.40575\" y=\"220.973324\" style=\"fill: #262626; stroke: #262626\"/>\n      </g>\n     </g>\n     <g id=\"text_12\">\n      <!-- 0.05 -->\n      <g style=\"fill: #262626\" transform=\"translate(20.512 224.316637) scale(0.088 -0.088)\">\n       <use xlink:href=\"#DejaVuSans-30\"/>\n       <use xlink:href=\"#DejaVuSans-2e\" x=\"63.623047\"/>\n       <use xlink:href=\"#DejaVuSans-30\" x=\"95.410156\"/>\n       <use xlink:href=\"#DejaVuSans-35\" x=\"159.033203\"/>\n      </g>\n     </g>\n    </g>\n    <g id=\"ytick_3\">\n     <g id=\"line2d_12\">\n      <g>\n       <use xlink:href=\"#m764f07dfd4\" x=\"48.40575\" y=\"180.730648\" style=\"fill: #262626; stroke: #262626\"/>\n      </g>\n     </g>\n     <g id=\"text_13\">\n      <!-- 0.10 -->\n      <g style=\"fill: #262626\" transform=\"translate(20.512 184.073961) scale(0.088 -0.088)\">\n       <use xlink:href=\"#DejaVuSans-30\"/>\n       <use xlink:href=\"#DejaVuSans-2e\" x=\"63.623047\"/>\n       <use xlink:href=\"#DejaVuSans-31\" x=\"95.410156\"/>\n       <use xlink:href=\"#DejaVuSans-30\" x=\"159.033203\"/>\n      </g>\n     </g>\n    </g>\n    <g id=\"ytick_4\">\n     <g id=\"line2d_13\">\n      <g>\n       <use xlink:href=\"#m764f07dfd4\" x=\"48.40575\" y=\"140.487972\" style=\"fill: #262626; stroke: #262626\"/>\n      </g>\n     </g>\n     <g id=\"text_14\">\n      <!-- 0.15 -->\n      <g style=\"fill: #262626\" transform=\"translate(20.512 143.831285) scale(0.088 -0.088)\">\n       <use xlink:href=\"#DejaVuSans-30\"/>\n       <use xlink:href=\"#DejaVuSans-2e\" x=\"63.623047\"/>\n       <use xlink:href=\"#DejaVuSans-31\" x=\"95.410156\"/>\n       <use xlink:href=\"#DejaVuSans-35\" x=\"159.033203\"/>\n      </g>\n     </g>\n    </g>\n    <g id=\"ytick_5\">\n     <g id=\"line2d_14\">\n      <g>\n       <use xlink:href=\"#m764f07dfd4\" x=\"48.40575\" y=\"100.245297\" style=\"fill: #262626; stroke: #262626\"/>\n      </g>\n     </g>\n     <g id=\"text_15\">\n      <!-- 0.20 -->\n      <g style=\"fill: #262626\" transform=\"translate(20.512 103.588609) scale(0.088 -0.088)\">\n       <use xlink:href=\"#DejaVuSans-30\"/>\n       <use xlink:href=\"#DejaVuSans-2e\" x=\"63.623047\"/>\n       <use xlink:href=\"#DejaVuSans-32\" x=\"95.410156\"/>\n       <use xlink:href=\"#DejaVuSans-30\" x=\"159.033203\"/>\n      </g>\n     </g>\n    </g>\n    <g id=\"ytick_6\">\n     <g id=\"line2d_15\">\n      <g>\n       <use xlink:href=\"#m764f07dfd4\" x=\"48.40575\" y=\"60.002621\" style=\"fill: #262626; stroke: #262626\"/>\n      </g>\n     </g>\n     <g id=\"text_16\">\n      <!-- 0.25 -->\n      <g style=\"fill: #262626\" transform=\"translate(20.512 63.345933) scale(0.088 -0.088)\">\n       <use xlink:href=\"#DejaVuSans-30\"/>\n       <use xlink:href=\"#DejaVuSans-2e\" x=\"63.623047\"/>\n       <use xlink:href=\"#DejaVuSans-32\" x=\"95.410156\"/>\n       <use xlink:href=\"#DejaVuSans-35\" x=\"159.033203\"/>\n      </g>\n     </g>\n    </g>\n    <g id=\"ytick_7\">\n     <g id=\"line2d_16\">\n      <g>\n       <use xlink:href=\"#m764f07dfd4\" x=\"48.40575\" y=\"19.759945\" style=\"fill: #262626; stroke: #262626\"/>\n      </g>\n     </g>\n     <g id=\"text_17\">\n      <!-- 0.30 -->\n      <g style=\"fill: #262626\" transform=\"translate(20.512 23.103257) scale(0.088 -0.088)\">\n       <defs>\n        <path id=\"DejaVuSans-33\" d=\"M 2597 2516 \nQ 3050 2419 3304 2112 \nQ 3559 1806 3559 1356 \nQ 3559 666 3084 287 \nQ 2609 -91 1734 -91 \nQ 1441 -91 1130 -33 \nQ 819 25 488 141 \nL 488 750 \nQ 750 597 1062 519 \nQ 1375 441 1716 441 \nQ 2309 441 2620 675 \nQ 2931 909 2931 1356 \nQ 2931 1769 2642 2001 \nQ 2353 2234 1838 2234 \nL 1294 2234 \nL 1294 2753 \nL 1863 2753 \nQ 2328 2753 2575 2939 \nQ 2822 3125 2822 3475 \nQ 2822 3834 2567 4026 \nQ 2313 4219 1838 4219 \nQ 1578 4219 1281 4162 \nQ 984 4106 628 3988 \nL 628 4550 \nQ 988 4650 1302 4700 \nQ 1616 4750 1894 4750 \nQ 2613 4750 3031 4423 \nQ 3450 4097 3450 3541 \nQ 3450 3153 3228 2886 \nQ 3006 2619 2597 2516 \nz\n\" transform=\"scale(0.015625)\"/>\n       </defs>\n       <use xlink:href=\"#DejaVuSans-30\"/>\n       <use xlink:href=\"#DejaVuSans-2e\" x=\"63.623047\"/>\n       <use xlink:href=\"#DejaVuSans-33\" x=\"95.410156\"/>\n       <use xlink:href=\"#DejaVuSans-30\" x=\"159.033203\"/>\n      </g>\n     </g>\n    </g>\n    <g id=\"text_18\">\n     <!-- $p(t)$ -->\n     <g style=\"fill: #262626\" transform=\"translate(14.496 148.944) rotate(-90) scale(0.096 -0.096)\">\n      <defs>\n       <path id=\"DejaVuSans-Oblique-70\" d=\"M 3175 2156 \nQ 3175 2616 2975 2859 \nQ 2775 3103 2400 3103 \nQ 2144 3103 1911 2972 \nQ 1678 2841 1497 2591 \nQ 1319 2344 1212 1994 \nQ 1106 1644 1106 1300 \nQ 1106 863 1306 627 \nQ 1506 391 1875 391 \nQ 2147 391 2380 519 \nQ 2613 647 2778 891 \nQ 2956 1147 3065 1494 \nQ 3175 1841 3175 2156 \nz\nM 1394 2969 \nQ 1625 3272 1939 3428 \nQ 2253 3584 2638 3584 \nQ 3175 3584 3472 3232 \nQ 3769 2881 3769 2247 \nQ 3769 1728 3584 1258 \nQ 3400 788 3053 416 \nQ 2822 169 2531 39 \nQ 2241 -91 1919 -91 \nQ 1547 -91 1294 64 \nQ 1041 219 916 525 \nL 556 -1331 \nL -19 -1331 \nL 922 3500 \nL 1497 3500 \nL 1394 2969 \nz\n\" transform=\"scale(0.015625)\"/>\n      </defs>\n      <use xlink:href=\"#DejaVuSans-Oblique-70\" transform=\"translate(0 0.125)\"/>\n      <use xlink:href=\"#DejaVuSans-28\" transform=\"translate(63.476562 0.125)\"/>\n      <use xlink:href=\"#DejaVuSans-Oblique-74\" transform=\"translate(102.490234 0.125)\"/>\n      <use xlink:href=\"#DejaVuSans-29\" transform=\"translate(141.699219 0.125)\"/>\n     </g>\n    </g>\n   </g>\n   <g id=\"line2d_17\">\n    <path d=\"M 64.638477 261.216 \nL 67.917816 261.216 \nL 71.197155 261.216 \nL 74.476494 261.216 \nL 77.755833 261.216 \nL 81.035171 261.216 \nL 84.31451 261.216 \nL 87.593849 261.216 \nL 90.873188 261.216 \nL 94.152527 261.216 \nL 97.431866 261.216 \nL 100.711205 261.216 \nL 103.990543 261.216 \nL 107.269882 261.216 \nL 110.549221 261.216 \nL 113.82856 261.216 \nL 117.107899 261.216 \nL 120.387238 261.216 \nL 123.666576 261.216 \nL 126.945915 261.216 \nL 130.225254 261.216 \nL 133.504593 261.216 \nL 136.783932 261.216 \nL 140.063271 261.216 \nL 143.34261 261.216 \nL 146.621948 261.216 \nL 149.901287 261.216 \nL 153.180626 261.215986 \nL 156.459965 261.215326 \nL 159.739304 261.202579 \nL 163.018643 261.079722 \nL 166.297981 260.389196 \nL 169.57732 257.845956 \nL 172.856659 251.141186 \nL 176.135998 237.606479 \nL 179.415337 215.580361 \nL 182.694676 185.535279 \nL 185.974014 150.182188 \nL 189.253353 113.586132 \nL 192.532692 79.912206 \nL 195.812031 52.420384 \nL 199.09137 32.990064 \nL 202.370709 22.132358 \nL 205.650048 19.296 \nL 208.929386 23.269534 \nL 212.208725 32.548202 \nL 215.488064 45.606094 \nL 218.767403 61.064922 \nL 222.046742 77.776801 \nL 225.326081 94.846556 \nL 228.605419 111.617313 \nL 231.884758 127.637573 \nL 235.164097 142.621962 \nL 238.443436 156.412843 \nL 241.722775 168.946469 \nL 245.002114 180.225028 \nL 248.281452 190.29465 \nL 251.560791 199.228756 \nL 254.84013 207.115877 \nL 258.119469 214.051038 \nL 261.398808 220.129895 \nL 264.678147 225.444913 \nL 267.957486 230.083033 \nL 271.236824 234.124405 \nL 274.516163 237.641839 \nL 277.795502 240.700746 \nL 281.074841 243.359386 \nL 284.35418 245.66931 \nL 287.633519 247.675886 \nL 290.912857 249.418884 \nL 294.192196 250.933049 \nL 297.471535 252.248663 \nL 300.750874 253.39206 \nL 304.030213 254.386114 \nL 307.309552 255.250663 \nL 310.58889 256.002905 \nL 313.868229 256.657735 \nL 317.147568 257.228051 \nL 320.426907 257.725019 \nL 323.706246 258.158307 \nL 326.985585 258.536283 \nL 330.264924 258.866194 \nL 333.544262 259.154317 \nL 336.823601 259.406089 \nL 340.10294 259.626225 \nL 343.382279 259.81881 \nL 346.661618 259.98739 \nL 349.940957 260.135043 \nL 353.220295 260.26444 \nL 356.499634 260.377902 \nL 359.778973 260.477449 \nL 363.058312 260.564836 \nL 366.337651 260.64159 \nL 369.61699 260.709042 \nL 372.896329 260.768351 \nL 376.175667 260.820529 \nL 379.455006 260.866457 \nL 382.734345 260.906904 \nL 386.013684 260.942543 \nL 389.293023 260.973961 \n\" clip-path=\"url(#p20a0770afe)\" style=\"fill: none; stroke: #1f77b4; stroke-width: 1.2; stroke-linecap: round\"/>\n   </g>\n   <g id=\"line2d_18\">\n    <defs>\n     <path id=\"m0c3e2d07e0\" d=\"M -2.4 2.4 \nL 2.4 -2.4 \nM -2.4 -2.4 \nL 2.4 2.4 \n\" style=\"stroke: #ff7f0e\"/>\n    </defs>\n    <g clip-path=\"url(#p20a0770afe)\">\n     <use xlink:href=\"#m0c3e2d07e0\" x=\"235.082114\" y=\"261.216\" style=\"fill: #ff7f0e; stroke: #ff7f0e\"/>\n     <use xlink:href=\"#m0c3e2d07e0\" x=\"186.383932\" y=\"261.216\" style=\"fill: #ff7f0e; stroke: #ff7f0e\"/>\n     <use xlink:href=\"#m0c3e2d07e0\" x=\"196.123568\" y=\"261.216\" style=\"fill: #ff7f0e; stroke: #ff7f0e\"/>\n     <use xlink:href=\"#m0c3e2d07e0\" x=\"200.993386\" y=\"261.216\" style=\"fill: #ff7f0e; stroke: #ff7f0e\"/>\n     <use xlink:href=\"#m0c3e2d07e0\" x=\"246.445023\" y=\"261.216\" style=\"fill: #ff7f0e; stroke: #ff7f0e\"/>\n     <use xlink:href=\"#m0c3e2d07e0\" x=\"215.602841\" y=\"261.216\" style=\"fill: #ff7f0e; stroke: #ff7f0e\"/>\n     <use xlink:href=\"#m0c3e2d07e0\" x=\"209.10975\" y=\"261.216\" style=\"fill: #ff7f0e; stroke: #ff7f0e\"/>\n     <use xlink:href=\"#m0c3e2d07e0\" x=\"265.924295\" y=\"261.216\" style=\"fill: #ff7f0e; stroke: #ff7f0e\"/>\n    </g>\n   </g>\n   <g id=\"patch_3\">\n    <path d=\"M 48.40575 261.216 \nL 48.40575 19.759945 \n\" style=\"fill: none; stroke: #262626; stroke-linejoin: miter; stroke-linecap: square\"/>\n   </g>\n   <g id=\"patch_4\">\n    <path d=\"M 64.638477 273.312 \nL 389.293023 273.312 \n\" style=\"fill: none; stroke: #262626; stroke-linejoin: miter; stroke-linecap: square\"/>\n   </g>\n   <g id=\"legend_1\">\n    <g id=\"line2d_19\">\n     <path d=\"M 291.663375 18.726625 \nL 300.463375 18.726625 \nL 309.263375 18.726625 \n\" style=\"fill: none; stroke: #1f77b4; stroke-width: 1.2; stroke-linecap: round\"/>\n    </g>\n    <g id=\"text_19\">\n     <!-- Fitted PDF -->\n     <g style=\"fill: #262626\" transform=\"translate(316.303375 21.806625) scale(0.088 -0.088)\">\n      <defs>\n       <path id=\"DejaVuSans-46\" d=\"M 628 4666 \nL 3309 4666 \nL 3309 4134 \nL 1259 4134 \nL 1259 2759 \nL 3109 2759 \nL 3109 2228 \nL 1259 2228 \nL 1259 0 \nL 628 0 \nL 628 4666 \nz\n\" transform=\"scale(0.015625)\"/>\n       <path id=\"DejaVuSans-69\" d=\"M 603 3500 \nL 1178 3500 \nL 1178 0 \nL 603 0 \nL 603 3500 \nz\nM 603 4863 \nL 1178 4863 \nL 1178 4134 \nL 603 4134 \nL 603 4863 \nz\n\" transform=\"scale(0.015625)\"/>\n       <path id=\"DejaVuSans-74\" d=\"M 1172 4494 \nL 1172 3500 \nL 2356 3500 \nL 2356 3053 \nL 1172 3053 \nL 1172 1153 \nQ 1172 725 1289 603 \nQ 1406 481 1766 481 \nL 2356 481 \nL 2356 0 \nL 1766 0 \nQ 1100 0 847 248 \nQ 594 497 594 1153 \nL 594 3053 \nL 172 3053 \nL 172 3500 \nL 594 3500 \nL 594 4494 \nL 1172 4494 \nz\n\" transform=\"scale(0.015625)\"/>\n       <path id=\"DejaVuSans-64\" d=\"M 2906 2969 \nL 2906 4863 \nL 3481 4863 \nL 3481 0 \nL 2906 0 \nL 2906 525 \nQ 2725 213 2448 61 \nQ 2172 -91 1784 -91 \nQ 1150 -91 751 415 \nQ 353 922 353 1747 \nQ 353 2572 751 3078 \nQ 1150 3584 1784 3584 \nQ 2172 3584 2448 3432 \nQ 2725 3281 2906 2969 \nz\nM 947 1747 \nQ 947 1113 1208 752 \nQ 1469 391 1925 391 \nQ 2381 391 2643 752 \nQ 2906 1113 2906 1747 \nQ 2906 2381 2643 2742 \nQ 2381 3103 1925 3103 \nQ 1469 3103 1208 2742 \nQ 947 2381 947 1747 \nz\n\" transform=\"scale(0.015625)\"/>\n       <path id=\"DejaVuSans-50\" d=\"M 1259 4147 \nL 1259 2394 \nL 2053 2394 \nQ 2494 2394 2734 2622 \nQ 2975 2850 2975 3272 \nQ 2975 3691 2734 3919 \nQ 2494 4147 2053 4147 \nL 1259 4147 \nz\nM 628 4666 \nL 2053 4666 \nQ 2838 4666 3239 4311 \nQ 3641 3956 3641 3272 \nQ 3641 2581 3239 2228 \nQ 2838 1875 2053 1875 \nL 1259 1875 \nL 1259 0 \nL 628 0 \nL 628 4666 \nz\n\" transform=\"scale(0.015625)\"/>\n       <path id=\"DejaVuSans-44\" d=\"M 1259 4147 \nL 1259 519 \nL 2022 519 \nQ 2988 519 3436 956 \nQ 3884 1394 3884 2338 \nQ 3884 3275 3436 3711 \nQ 2988 4147 2022 4147 \nL 1259 4147 \nz\nM 628 4666 \nL 1925 4666 \nQ 3281 4666 3915 4102 \nQ 4550 3538 4550 2338 \nQ 4550 1131 3912 565 \nQ 3275 0 1925 0 \nL 628 0 \nL 628 4666 \nz\n\" transform=\"scale(0.015625)\"/>\n      </defs>\n      <use xlink:href=\"#DejaVuSans-46\"/>\n      <use xlink:href=\"#DejaVuSans-69\" x=\"50.269531\"/>\n      <use xlink:href=\"#DejaVuSans-74\" x=\"78.052734\"/>\n      <use xlink:href=\"#DejaVuSans-74\" x=\"117.261719\"/>\n      <use xlink:href=\"#DejaVuSans-65\" x=\"156.470703\"/>\n      <use xlink:href=\"#DejaVuSans-64\" x=\"217.994141\"/>\n      <use xlink:href=\"#DejaVuSans-20\" x=\"281.470703\"/>\n      <use xlink:href=\"#DejaVuSans-50\" x=\"313.257812\"/>\n      <use xlink:href=\"#DejaVuSans-44\" x=\"373.560547\"/>\n      <use xlink:href=\"#DejaVuSans-46\" x=\"450.5625\"/>\n     </g>\n    </g>\n    <g id=\"line2d_20\">\n     <g>\n      <use xlink:href=\"#m0c3e2d07e0\" x=\"300.463375\" y=\"31.643375\" style=\"fill: #ff7f0e; stroke: #ff7f0e\"/>\n     </g>\n    </g>\n    <g id=\"text_20\">\n     <!-- Experimental data -->\n     <g style=\"fill: #262626\" transform=\"translate(316.303375 34.723375) scale(0.088 -0.088)\">\n      <defs>\n       <path id=\"DejaVuSans-45\" d=\"M 628 4666 \nL 3578 4666 \nL 3578 4134 \nL 1259 4134 \nL 1259 2753 \nL 3481 2753 \nL 3481 2222 \nL 1259 2222 \nL 1259 531 \nL 3634 531 \nL 3634 0 \nL 628 0 \nL 628 4666 \nz\n\" transform=\"scale(0.015625)\"/>\n       <path id=\"DejaVuSans-78\" d=\"M 3513 3500 \nL 2247 1797 \nL 3578 0 \nL 2900 0 \nL 1881 1375 \nL 863 0 \nL 184 0 \nL 1544 1831 \nL 300 3500 \nL 978 3500 \nL 1906 2253 \nL 2834 3500 \nL 3513 3500 \nz\n\" transform=\"scale(0.015625)\"/>\n       <path id=\"DejaVuSans-70\" d=\"M 1159 525 \nL 1159 -1331 \nL 581 -1331 \nL 581 3500 \nL 1159 3500 \nL 1159 2969 \nQ 1341 3281 1617 3432 \nQ 1894 3584 2278 3584 \nQ 2916 3584 3314 3078 \nQ 3713 2572 3713 1747 \nQ 3713 922 3314 415 \nQ 2916 -91 2278 -91 \nQ 1894 -91 1617 61 \nQ 1341 213 1159 525 \nz\nM 3116 1747 \nQ 3116 2381 2855 2742 \nQ 2594 3103 2138 3103 \nQ 1681 3103 1420 2742 \nQ 1159 2381 1159 1747 \nQ 1159 1113 1420 752 \nQ 1681 391 2138 391 \nQ 2594 391 2855 752 \nQ 3116 1113 3116 1747 \nz\n\" transform=\"scale(0.015625)\"/>\n       <path id=\"DejaVuSans-6d\" d=\"M 3328 2828 \nQ 3544 3216 3844 3400 \nQ 4144 3584 4550 3584 \nQ 5097 3584 5394 3201 \nQ 5691 2819 5691 2113 \nL 5691 0 \nL 5113 0 \nL 5113 2094 \nQ 5113 2597 4934 2840 \nQ 4756 3084 4391 3084 \nQ 3944 3084 3684 2787 \nQ 3425 2491 3425 1978 \nL 3425 0 \nL 2847 0 \nL 2847 2094 \nQ 2847 2600 2669 2842 \nQ 2491 3084 2119 3084 \nQ 1678 3084 1418 2786 \nQ 1159 2488 1159 1978 \nL 1159 0 \nL 581 0 \nL 581 3500 \nL 1159 3500 \nL 1159 2956 \nQ 1356 3278 1631 3431 \nQ 1906 3584 2284 3584 \nQ 2666 3584 2933 3390 \nQ 3200 3197 3328 2828 \nz\n\" transform=\"scale(0.015625)\"/>\n       <path id=\"DejaVuSans-6e\" d=\"M 3513 2113 \nL 3513 0 \nL 2938 0 \nL 2938 2094 \nQ 2938 2591 2744 2837 \nQ 2550 3084 2163 3084 \nQ 1697 3084 1428 2787 \nQ 1159 2491 1159 1978 \nL 1159 0 \nL 581 0 \nL 581 3500 \nL 1159 3500 \nL 1159 2956 \nQ 1366 3272 1645 3428 \nQ 1925 3584 2291 3584 \nQ 2894 3584 3203 3211 \nQ 3513 2838 3513 2113 \nz\n\" transform=\"scale(0.015625)\"/>\n       <path id=\"DejaVuSans-6c\" d=\"M 603 4863 \nL 1178 4863 \nL 1178 0 \nL 603 0 \nL 603 4863 \nz\n\" transform=\"scale(0.015625)\"/>\n      </defs>\n      <use xlink:href=\"#DejaVuSans-45\"/>\n      <use xlink:href=\"#DejaVuSans-78\" x=\"63.183594\"/>\n      <use xlink:href=\"#DejaVuSans-70\" x=\"122.363281\"/>\n      <use xlink:href=\"#DejaVuSans-65\" x=\"185.839844\"/>\n      <use xlink:href=\"#DejaVuSans-72\" x=\"247.363281\"/>\n      <use xlink:href=\"#DejaVuSans-69\" x=\"288.476562\"/>\n      <use xlink:href=\"#DejaVuSans-6d\" x=\"316.259766\"/>\n      <use xlink:href=\"#DejaVuSans-65\" x=\"413.671875\"/>\n      <use xlink:href=\"#DejaVuSans-6e\" x=\"475.195312\"/>\n      <use xlink:href=\"#DejaVuSans-74\" x=\"538.574219\"/>\n      <use xlink:href=\"#DejaVuSans-61\" x=\"577.783203\"/>\n      <use xlink:href=\"#DejaVuSans-6c\" x=\"639.0625\"/>\n      <use xlink:href=\"#DejaVuSans-20\" x=\"666.845703\"/>\n      <use xlink:href=\"#DejaVuSans-64\" x=\"698.632812\"/>\n      <use xlink:href=\"#DejaVuSans-61\" x=\"762.109375\"/>\n      <use xlink:href=\"#DejaVuSans-74\" x=\"823.388672\"/>\n      <use xlink:href=\"#DejaVuSans-61\" x=\"862.597656\"/>\n     </g>\n    </g>\n   </g>\n  </g>\n </g>\n <defs>\n  <clipPath id=\"p20a0770afe\">\n   <rect x=\"48.40575\" y=\"7.2\" width=\"357.12\" height=\"266.112\"/>\n  </clipPath>\n </defs>\n</svg>\n"
          },
          "metadata": {}
        }
      ],
      "source": [
        "fig, ax = plt.subplots()\n",
        "ts = np.linspace(0.0, 20.0, 100)\n",
        "ax.plot(\n",
        "    ts,\n",
        "    T.pdf(ts),\n",
        "    label=\"Fitted PDF\"\n",
        ")\n",
        "ax.plot(\n",
        "    time_to_fail_data,\n",
        "    np.zeros_like(time_to_fail_data),\n",
        "    \"x\",\n",
        "    label=\"Experimental data\"\n",
        ")\n",
        "ax.set_xlabel(r\"$t$ (years)\")\n",
        "ax.set_ylabel(r\"$p(t)$\")\n",
        "plt.legend(loc=\"best\", frameon=False)\n",
        "sns.despine(trim=True);"
      ]
    },
    {
      "cell_type": "markdown",
      "metadata": {
        "id": "kkBKZ8DgnYoq"
      },
      "source": [
        "Now you have to answer a series of questions about the random variable $T$ that we just fitted.\n",
        "\n",
        "A. Find the mean fail time and its variance.\n",
        "Hint: Do not integrate anything by hand. Just use the functionality of ``scipy.stats``."
      ]
    },
    {
      "cell_type": "code",
      "execution_count": null,
      "metadata": {
        "id": "istWdYwgnYoq",
        "colab": {
          "base_uri": "https://localhost:8080/"
        },
        "outputId": "fb4f7765-b718-4c83-bcdb-8eeba5575515"
      },
      "outputs": [
        {
          "output_type": "stream",
          "name": "stdout",
          "text": [
            "E[T] = 9.53\n",
            "V[T] = 2.88\n"
          ]
        }
      ],
      "source": [
        "t_mean = T.expect() # Change me\n",
        "t_var = T.var() # Change me\n",
        "print(f\"E[T] = {t_mean:.2f}\")\n",
        "print(f\"V[T] = {t_var:.2f}\")"
      ]
    },
    {
      "cell_type": "markdown",
      "metadata": {
        "id": "BsA40t-_nYoq"
      },
      "source": [
        "B. Plot the cumulative distribution function $F(t) = P(T\\le t)$ of $T$."
      ]
    },
    {
      "cell_type": "code",
      "execution_count": null,
      "metadata": {
        "id": "4ODovrisnYoq",
        "colab": {
          "base_uri": "https://localhost:8080/",
          "height": 436
        },
        "outputId": "8b1b9e4d-e073-4b46-f80b-30eb721fbdbf"
      },
      "outputs": [
        {
          "output_type": "display_data",
          "data": {
            "text/plain": [
              "<Figure size 640x480 with 1 Axes>"
            ],
            "image/svg+xml": "<?xml version=\"1.0\" encoding=\"utf-8\" standalone=\"no\"?>\n<!DOCTYPE svg PUBLIC \"-//W3C//DTD SVG 1.1//EN\"\n  \"http://www.w3.org/Graphics/SVG/1.1/DTD/svg11.dtd\">\n<svg xmlns:xlink=\"http://www.w3.org/1999/xlink\" width=\"407.10575pt\" height=\"310.64075pt\" viewBox=\"0 0 407.10575 310.64075\" xmlns=\"http://www.w3.org/2000/svg\" version=\"1.1\">\n <metadata>\n  <rdf:RDF xmlns:dc=\"http://purl.org/dc/elements/1.1/\" xmlns:cc=\"http://creativecommons.org/ns#\" xmlns:rdf=\"http://www.w3.org/1999/02/22-rdf-syntax-ns#\">\n   <cc:Work>\n    <dc:type rdf:resource=\"http://purl.org/dc/dcmitype/StillImage\"/>\n    <dc:date>2024-06-18T15:33:36.340794</dc:date>\n    <dc:format>image/svg+xml</dc:format>\n    <dc:creator>\n     <cc:Agent>\n      <dc:title>Matplotlib v3.7.1, https://matplotlib.org/</dc:title>\n     </cc:Agent>\n    </dc:creator>\n   </cc:Work>\n  </rdf:RDF>\n </metadata>\n <defs>\n  <style type=\"text/css\">*{stroke-linejoin: round; stroke-linecap: butt}</style>\n </defs>\n <g id=\"figure_1\">\n  <g id=\"patch_1\">\n   <path d=\"M 0 310.64075 \nL 407.10575 310.64075 \nL 407.10575 0 \nL 0 0 \nz\n\" style=\"fill: #ffffff\"/>\n  </g>\n  <g id=\"axes_1\">\n   <g id=\"patch_2\">\n    <path d=\"M 42.78575 273.312 \nL 399.90575 273.312 \nL 399.90575 7.2 \nL 42.78575 7.2 \nz\n\" style=\"fill: #ffffff\"/>\n   </g>\n   <g id=\"matplotlib.axis_1\">\n    <g id=\"xtick_1\">\n     <g id=\"line2d_1\">\n      <defs>\n       <path id=\"mb4cf514269\" d=\"M 0 0 \nL 0 4.8 \n\" style=\"stroke: #262626\"/>\n      </defs>\n      <g>\n       <use xlink:href=\"#mb4cf514269\" x=\"59.018477\" y=\"273.312\" style=\"fill: #262626; stroke: #262626\"/>\n      </g>\n     </g>\n     <g id=\"text_1\">\n      <!-- 0.0 -->\n      <g style=\"fill: #262626\" transform=\"translate(52.021102 288.298625) scale(0.088 -0.088)\">\n       <defs>\n        <path id=\"DejaVuSans-30\" d=\"M 2034 4250 \nQ 1547 4250 1301 3770 \nQ 1056 3291 1056 2328 \nQ 1056 1369 1301 889 \nQ 1547 409 2034 409 \nQ 2525 409 2770 889 \nQ 3016 1369 3016 2328 \nQ 3016 3291 2770 3770 \nQ 2525 4250 2034 4250 \nz\nM 2034 4750 \nQ 2819 4750 3233 4129 \nQ 3647 3509 3647 2328 \nQ 3647 1150 3233 529 \nQ 2819 -91 2034 -91 \nQ 1250 -91 836 529 \nQ 422 1150 422 2328 \nQ 422 3509 836 4129 \nQ 1250 4750 2034 4750 \nz\n\" transform=\"scale(0.015625)\"/>\n        <path id=\"DejaVuSans-2e\" d=\"M 684 794 \nL 1344 794 \nL 1344 0 \nL 684 0 \nL 684 794 \nz\n\" transform=\"scale(0.015625)\"/>\n       </defs>\n       <use xlink:href=\"#DejaVuSans-30\"/>\n       <use xlink:href=\"#DejaVuSans-2e\" x=\"63.623047\"/>\n       <use xlink:href=\"#DejaVuSans-30\" x=\"95.410156\"/>\n      </g>\n     </g>\n    </g>\n    <g id=\"xtick_2\">\n     <g id=\"line2d_2\">\n      <g>\n       <use xlink:href=\"#mb4cf514269\" x=\"99.600295\" y=\"273.312\" style=\"fill: #262626; stroke: #262626\"/>\n      </g>\n     </g>\n     <g id=\"text_2\">\n      <!-- 2.5 -->\n      <g style=\"fill: #262626\" transform=\"translate(92.60292 288.298625) scale(0.088 -0.088)\">\n       <defs>\n        <path id=\"DejaVuSans-32\" d=\"M 1228 531 \nL 3431 531 \nL 3431 0 \nL 469 0 \nL 469 531 \nQ 828 903 1448 1529 \nQ 2069 2156 2228 2338 \nQ 2531 2678 2651 2914 \nQ 2772 3150 2772 3378 \nQ 2772 3750 2511 3984 \nQ 2250 4219 1831 4219 \nQ 1534 4219 1204 4116 \nQ 875 4013 500 3803 \nL 500 4441 \nQ 881 4594 1212 4672 \nQ 1544 4750 1819 4750 \nQ 2544 4750 2975 4387 \nQ 3406 4025 3406 3419 \nQ 3406 3131 3298 2873 \nQ 3191 2616 2906 2266 \nQ 2828 2175 2409 1742 \nQ 1991 1309 1228 531 \nz\n\" transform=\"scale(0.015625)\"/>\n        <path id=\"DejaVuSans-35\" d=\"M 691 4666 \nL 3169 4666 \nL 3169 4134 \nL 1269 4134 \nL 1269 2991 \nQ 1406 3038 1543 3061 \nQ 1681 3084 1819 3084 \nQ 2600 3084 3056 2656 \nQ 3513 2228 3513 1497 \nQ 3513 744 3044 326 \nQ 2575 -91 1722 -91 \nQ 1428 -91 1123 -41 \nQ 819 9 494 109 \nL 494 744 \nQ 775 591 1075 516 \nQ 1375 441 1709 441 \nQ 2250 441 2565 725 \nQ 2881 1009 2881 1497 \nQ 2881 1984 2565 2268 \nQ 2250 2553 1709 2553 \nQ 1456 2553 1204 2497 \nQ 953 2441 691 2322 \nL 691 4666 \nz\n\" transform=\"scale(0.015625)\"/>\n       </defs>\n       <use xlink:href=\"#DejaVuSans-32\"/>\n       <use xlink:href=\"#DejaVuSans-2e\" x=\"63.623047\"/>\n       <use xlink:href=\"#DejaVuSans-35\" x=\"95.410156\"/>\n      </g>\n     </g>\n    </g>\n    <g id=\"xtick_3\">\n     <g id=\"line2d_3\">\n      <g>\n       <use xlink:href=\"#mb4cf514269\" x=\"140.182114\" y=\"273.312\" style=\"fill: #262626; stroke: #262626\"/>\n      </g>\n     </g>\n     <g id=\"text_3\">\n      <!-- 5.0 -->\n      <g style=\"fill: #262626\" transform=\"translate(133.184739 288.298625) scale(0.088 -0.088)\">\n       <use xlink:href=\"#DejaVuSans-35\"/>\n       <use xlink:href=\"#DejaVuSans-2e\" x=\"63.623047\"/>\n       <use xlink:href=\"#DejaVuSans-30\" x=\"95.410156\"/>\n      </g>\n     </g>\n    </g>\n    <g id=\"xtick_4\">\n     <g id=\"line2d_4\">\n      <g>\n       <use xlink:href=\"#mb4cf514269\" x=\"180.763932\" y=\"273.312\" style=\"fill: #262626; stroke: #262626\"/>\n      </g>\n     </g>\n     <g id=\"text_4\">\n      <!-- 7.5 -->\n      <g style=\"fill: #262626\" transform=\"translate(173.766557 288.298625) scale(0.088 -0.088)\">\n       <defs>\n        <path id=\"DejaVuSans-37\" d=\"M 525 4666 \nL 3525 4666 \nL 3525 4397 \nL 1831 0 \nL 1172 0 \nL 2766 4134 \nL 525 4134 \nL 525 4666 \nz\n\" transform=\"scale(0.015625)\"/>\n       </defs>\n       <use xlink:href=\"#DejaVuSans-37\"/>\n       <use xlink:href=\"#DejaVuSans-2e\" x=\"63.623047\"/>\n       <use xlink:href=\"#DejaVuSans-35\" x=\"95.410156\"/>\n      </g>\n     </g>\n    </g>\n    <g id=\"xtick_5\">\n     <g id=\"line2d_5\">\n      <g>\n       <use xlink:href=\"#mb4cf514269\" x=\"221.34575\" y=\"273.312\" style=\"fill: #262626; stroke: #262626\"/>\n      </g>\n     </g>\n     <g id=\"text_5\">\n      <!-- 10.0 -->\n      <g style=\"fill: #262626\" transform=\"translate(211.548875 288.298625) scale(0.088 -0.088)\">\n       <defs>\n        <path id=\"DejaVuSans-31\" d=\"M 794 531 \nL 1825 531 \nL 1825 4091 \nL 703 3866 \nL 703 4441 \nL 1819 4666 \nL 2450 4666 \nL 2450 531 \nL 3481 531 \nL 3481 0 \nL 794 0 \nL 794 531 \nz\n\" transform=\"scale(0.015625)\"/>\n       </defs>\n       <use xlink:href=\"#DejaVuSans-31\"/>\n       <use xlink:href=\"#DejaVuSans-30\" x=\"63.623047\"/>\n       <use xlink:href=\"#DejaVuSans-2e\" x=\"127.246094\"/>\n       <use xlink:href=\"#DejaVuSans-30\" x=\"159.033203\"/>\n      </g>\n     </g>\n    </g>\n    <g id=\"xtick_6\">\n     <g id=\"line2d_6\">\n      <g>\n       <use xlink:href=\"#mb4cf514269\" x=\"261.927568\" y=\"273.312\" style=\"fill: #262626; stroke: #262626\"/>\n      </g>\n     </g>\n     <g id=\"text_6\">\n      <!-- 12.5 -->\n      <g style=\"fill: #262626\" transform=\"translate(252.130693 288.298625) scale(0.088 -0.088)\">\n       <use xlink:href=\"#DejaVuSans-31\"/>\n       <use xlink:href=\"#DejaVuSans-32\" x=\"63.623047\"/>\n       <use xlink:href=\"#DejaVuSans-2e\" x=\"127.246094\"/>\n       <use xlink:href=\"#DejaVuSans-35\" x=\"159.033203\"/>\n      </g>\n     </g>\n    </g>\n    <g id=\"xtick_7\">\n     <g id=\"line2d_7\">\n      <g>\n       <use xlink:href=\"#mb4cf514269\" x=\"302.509386\" y=\"273.312\" style=\"fill: #262626; stroke: #262626\"/>\n      </g>\n     </g>\n     <g id=\"text_7\">\n      <!-- 15.0 -->\n      <g style=\"fill: #262626\" transform=\"translate(292.712511 288.298625) scale(0.088 -0.088)\">\n       <use xlink:href=\"#DejaVuSans-31\"/>\n       <use xlink:href=\"#DejaVuSans-35\" x=\"63.623047\"/>\n       <use xlink:href=\"#DejaVuSans-2e\" x=\"127.246094\"/>\n       <use xlink:href=\"#DejaVuSans-30\" x=\"159.033203\"/>\n      </g>\n     </g>\n    </g>\n    <g id=\"xtick_8\">\n     <g id=\"line2d_8\">\n      <g>\n       <use xlink:href=\"#mb4cf514269\" x=\"343.091205\" y=\"273.312\" style=\"fill: #262626; stroke: #262626\"/>\n      </g>\n     </g>\n     <g id=\"text_8\">\n      <!-- 17.5 -->\n      <g style=\"fill: #262626\" transform=\"translate(333.29433 288.298625) scale(0.088 -0.088)\">\n       <use xlink:href=\"#DejaVuSans-31\"/>\n       <use xlink:href=\"#DejaVuSans-37\" x=\"63.623047\"/>\n       <use xlink:href=\"#DejaVuSans-2e\" x=\"127.246094\"/>\n       <use xlink:href=\"#DejaVuSans-35\" x=\"159.033203\"/>\n      </g>\n     </g>\n    </g>\n    <g id=\"xtick_9\">\n     <g id=\"line2d_9\">\n      <g>\n       <use xlink:href=\"#mb4cf514269\" x=\"383.673023\" y=\"273.312\" style=\"fill: #262626; stroke: #262626\"/>\n      </g>\n     </g>\n     <g id=\"text_9\">\n      <!-- 20.0 -->\n      <g style=\"fill: #262626\" transform=\"translate(373.876148 288.298625) scale(0.088 -0.088)\">\n       <use xlink:href=\"#DejaVuSans-32\"/>\n       <use xlink:href=\"#DejaVuSans-30\" x=\"63.623047\"/>\n       <use xlink:href=\"#DejaVuSans-2e\" x=\"127.246094\"/>\n       <use xlink:href=\"#DejaVuSans-30\" x=\"159.033203\"/>\n      </g>\n     </g>\n    </g>\n    <g id=\"text_10\">\n     <!-- $t$ (years) -->\n     <g style=\"fill: #262626\" transform=\"translate(200.94575 301.42475) scale(0.096 -0.096)\">\n      <defs>\n       <path id=\"DejaVuSans-Oblique-74\" d=\"M 2706 3500 \nL 2619 3053 \nL 1472 3053 \nL 1100 1153 \nQ 1081 1047 1072 975 \nQ 1063 903 1063 863 \nQ 1063 663 1183 572 \nQ 1303 481 1569 481 \nL 2150 481 \nL 2053 0 \nL 1503 0 \nQ 991 0 739 200 \nQ 488 400 488 806 \nQ 488 878 497 964 \nQ 506 1050 525 1153 \nL 897 3053 \nL 409 3053 \nL 500 3500 \nL 978 3500 \nL 1172 4494 \nL 1747 4494 \nL 1556 3500 \nL 2706 3500 \nz\n\" transform=\"scale(0.015625)\"/>\n       <path id=\"DejaVuSans-20\" transform=\"scale(0.015625)\"/>\n       <path id=\"DejaVuSans-28\" d=\"M 1984 4856 \nQ 1566 4138 1362 3434 \nQ 1159 2731 1159 2009 \nQ 1159 1288 1364 580 \nQ 1569 -128 1984 -844 \nL 1484 -844 \nQ 1016 -109 783 600 \nQ 550 1309 550 2009 \nQ 550 2706 781 3412 \nQ 1013 4119 1484 4856 \nL 1984 4856 \nz\n\" transform=\"scale(0.015625)\"/>\n       <path id=\"DejaVuSans-79\" d=\"M 2059 -325 \nQ 1816 -950 1584 -1140 \nQ 1353 -1331 966 -1331 \nL 506 -1331 \nL 506 -850 \nL 844 -850 \nQ 1081 -850 1212 -737 \nQ 1344 -625 1503 -206 \nL 1606 56 \nL 191 3500 \nL 800 3500 \nL 1894 763 \nL 2988 3500 \nL 3597 3500 \nL 2059 -325 \nz\n\" transform=\"scale(0.015625)\"/>\n       <path id=\"DejaVuSans-65\" d=\"M 3597 1894 \nL 3597 1613 \nL 953 1613 \nQ 991 1019 1311 708 \nQ 1631 397 2203 397 \nQ 2534 397 2845 478 \nQ 3156 559 3463 722 \nL 3463 178 \nQ 3153 47 2828 -22 \nQ 2503 -91 2169 -91 \nQ 1331 -91 842 396 \nQ 353 884 353 1716 \nQ 353 2575 817 3079 \nQ 1281 3584 2069 3584 \nQ 2775 3584 3186 3129 \nQ 3597 2675 3597 1894 \nz\nM 3022 2063 \nQ 3016 2534 2758 2815 \nQ 2500 3097 2075 3097 \nQ 1594 3097 1305 2825 \nQ 1016 2553 972 2059 \nL 3022 2063 \nz\n\" transform=\"scale(0.015625)\"/>\n       <path id=\"DejaVuSans-61\" d=\"M 2194 1759 \nQ 1497 1759 1228 1600 \nQ 959 1441 959 1056 \nQ 959 750 1161 570 \nQ 1363 391 1709 391 \nQ 2188 391 2477 730 \nQ 2766 1069 2766 1631 \nL 2766 1759 \nL 2194 1759 \nz\nM 3341 1997 \nL 3341 0 \nL 2766 0 \nL 2766 531 \nQ 2569 213 2275 61 \nQ 1981 -91 1556 -91 \nQ 1019 -91 701 211 \nQ 384 513 384 1019 \nQ 384 1609 779 1909 \nQ 1175 2209 1959 2209 \nL 2766 2209 \nL 2766 2266 \nQ 2766 2663 2505 2880 \nQ 2244 3097 1772 3097 \nQ 1472 3097 1187 3025 \nQ 903 2953 641 2809 \nL 641 3341 \nQ 956 3463 1253 3523 \nQ 1550 3584 1831 3584 \nQ 2591 3584 2966 3190 \nQ 3341 2797 3341 1997 \nz\n\" transform=\"scale(0.015625)\"/>\n       <path id=\"DejaVuSans-72\" d=\"M 2631 2963 \nQ 2534 3019 2420 3045 \nQ 2306 3072 2169 3072 \nQ 1681 3072 1420 2755 \nQ 1159 2438 1159 1844 \nL 1159 0 \nL 581 0 \nL 581 3500 \nL 1159 3500 \nL 1159 2956 \nQ 1341 3275 1631 3429 \nQ 1922 3584 2338 3584 \nQ 2397 3584 2469 3576 \nQ 2541 3569 2628 3553 \nL 2631 2963 \nz\n\" transform=\"scale(0.015625)\"/>\n       <path id=\"DejaVuSans-73\" d=\"M 2834 3397 \nL 2834 2853 \nQ 2591 2978 2328 3040 \nQ 2066 3103 1784 3103 \nQ 1356 3103 1142 2972 \nQ 928 2841 928 2578 \nQ 928 2378 1081 2264 \nQ 1234 2150 1697 2047 \nL 1894 2003 \nQ 2506 1872 2764 1633 \nQ 3022 1394 3022 966 \nQ 3022 478 2636 193 \nQ 2250 -91 1575 -91 \nQ 1294 -91 989 -36 \nQ 684 19 347 128 \nL 347 722 \nQ 666 556 975 473 \nQ 1284 391 1588 391 \nQ 1994 391 2212 530 \nQ 2431 669 2431 922 \nQ 2431 1156 2273 1281 \nQ 2116 1406 1581 1522 \nL 1381 1569 \nQ 847 1681 609 1914 \nQ 372 2147 372 2553 \nQ 372 3047 722 3315 \nQ 1072 3584 1716 3584 \nQ 2034 3584 2315 3537 \nQ 2597 3491 2834 3397 \nz\n\" transform=\"scale(0.015625)\"/>\n       <path id=\"DejaVuSans-29\" d=\"M 513 4856 \nL 1013 4856 \nQ 1481 4119 1714 3412 \nQ 1947 2706 1947 2009 \nQ 1947 1309 1714 600 \nQ 1481 -109 1013 -844 \nL 513 -844 \nQ 928 -128 1133 580 \nQ 1338 1288 1338 2009 \nQ 1338 2731 1133 3434 \nQ 928 4138 513 4856 \nz\n\" transform=\"scale(0.015625)\"/>\n      </defs>\n      <use xlink:href=\"#DejaVuSans-Oblique-74\" transform=\"translate(0 0.125)\"/>\n      <use xlink:href=\"#DejaVuSans-20\" transform=\"translate(39.208984 0.125)\"/>\n      <use xlink:href=\"#DejaVuSans-28\" transform=\"translate(70.996094 0.125)\"/>\n      <use xlink:href=\"#DejaVuSans-79\" transform=\"translate(110.009766 0.125)\"/>\n      <use xlink:href=\"#DejaVuSans-65\" transform=\"translate(169.189453 0.125)\"/>\n      <use xlink:href=\"#DejaVuSans-61\" transform=\"translate(230.712891 0.125)\"/>\n      <use xlink:href=\"#DejaVuSans-72\" transform=\"translate(291.992188 0.125)\"/>\n      <use xlink:href=\"#DejaVuSans-73\" transform=\"translate(333.105469 0.125)\"/>\n      <use xlink:href=\"#DejaVuSans-29\" transform=\"translate(385.205078 0.125)\"/>\n     </g>\n    </g>\n   </g>\n   <g id=\"matplotlib.axis_2\">\n    <g id=\"ytick_1\">\n     <g id=\"line2d_10\">\n      <defs>\n       <path id=\"m5d82db3b77\" d=\"M 0 0 \nL -4.8 0 \n\" style=\"stroke: #262626\"/>\n      </defs>\n      <g>\n       <use xlink:href=\"#m5d82db3b77\" x=\"42.78575\" y=\"261.216\" style=\"fill: #262626; stroke: #262626\"/>\n      </g>\n     </g>\n     <g id=\"text_11\">\n      <!-- 0.0 -->\n      <g style=\"fill: #262626\" transform=\"translate(20.491 264.559312) scale(0.088 -0.088)\">\n       <use xlink:href=\"#DejaVuSans-30\"/>\n       <use xlink:href=\"#DejaVuSans-2e\" x=\"63.623047\"/>\n       <use xlink:href=\"#DejaVuSans-30\" x=\"95.410156\"/>\n      </g>\n     </g>\n    </g>\n    <g id=\"ytick_2\">\n     <g id=\"line2d_11\">\n      <g>\n       <use xlink:href=\"#m5d82db3b77\" x=\"42.78575\" y=\"212.807143\" style=\"fill: #262626; stroke: #262626\"/>\n      </g>\n     </g>\n     <g id=\"text_12\">\n      <!-- 0.2 -->\n      <g style=\"fill: #262626\" transform=\"translate(20.491 216.150456) scale(0.088 -0.088)\">\n       <use xlink:href=\"#DejaVuSans-30\"/>\n       <use xlink:href=\"#DejaVuSans-2e\" x=\"63.623047\"/>\n       <use xlink:href=\"#DejaVuSans-32\" x=\"95.410156\"/>\n      </g>\n     </g>\n    </g>\n    <g id=\"ytick_3\">\n     <g id=\"line2d_12\">\n      <g>\n       <use xlink:href=\"#m5d82db3b77\" x=\"42.78575\" y=\"164.398286\" style=\"fill: #262626; stroke: #262626\"/>\n      </g>\n     </g>\n     <g id=\"text_13\">\n      <!-- 0.4 -->\n      <g style=\"fill: #262626\" transform=\"translate(20.491 167.741599) scale(0.088 -0.088)\">\n       <defs>\n        <path id=\"DejaVuSans-34\" d=\"M 2419 4116 \nL 825 1625 \nL 2419 1625 \nL 2419 4116 \nz\nM 2253 4666 \nL 3047 4666 \nL 3047 1625 \nL 3713 1625 \nL 3713 1100 \nL 3047 1100 \nL 3047 0 \nL 2419 0 \nL 2419 1100 \nL 313 1100 \nL 313 1709 \nL 2253 4666 \nz\n\" transform=\"scale(0.015625)\"/>\n       </defs>\n       <use xlink:href=\"#DejaVuSans-30\"/>\n       <use xlink:href=\"#DejaVuSans-2e\" x=\"63.623047\"/>\n       <use xlink:href=\"#DejaVuSans-34\" x=\"95.410156\"/>\n      </g>\n     </g>\n    </g>\n    <g id=\"ytick_4\">\n     <g id=\"line2d_13\">\n      <g>\n       <use xlink:href=\"#m5d82db3b77\" x=\"42.78575\" y=\"115.989429\" style=\"fill: #262626; stroke: #262626\"/>\n      </g>\n     </g>\n     <g id=\"text_14\">\n      <!-- 0.6 -->\n      <g style=\"fill: #262626\" transform=\"translate(20.491 119.332742) scale(0.088 -0.088)\">\n       <defs>\n        <path id=\"DejaVuSans-36\" d=\"M 2113 2584 \nQ 1688 2584 1439 2293 \nQ 1191 2003 1191 1497 \nQ 1191 994 1439 701 \nQ 1688 409 2113 409 \nQ 2538 409 2786 701 \nQ 3034 994 3034 1497 \nQ 3034 2003 2786 2293 \nQ 2538 2584 2113 2584 \nz\nM 3366 4563 \nL 3366 3988 \nQ 3128 4100 2886 4159 \nQ 2644 4219 2406 4219 \nQ 1781 4219 1451 3797 \nQ 1122 3375 1075 2522 \nQ 1259 2794 1537 2939 \nQ 1816 3084 2150 3084 \nQ 2853 3084 3261 2657 \nQ 3669 2231 3669 1497 \nQ 3669 778 3244 343 \nQ 2819 -91 2113 -91 \nQ 1303 -91 875 529 \nQ 447 1150 447 2328 \nQ 447 3434 972 4092 \nQ 1497 4750 2381 4750 \nQ 2619 4750 2861 4703 \nQ 3103 4656 3366 4563 \nz\n\" transform=\"scale(0.015625)\"/>\n       </defs>\n       <use xlink:href=\"#DejaVuSans-30\"/>\n       <use xlink:href=\"#DejaVuSans-2e\" x=\"63.623047\"/>\n       <use xlink:href=\"#DejaVuSans-36\" x=\"95.410156\"/>\n      </g>\n     </g>\n    </g>\n    <g id=\"ytick_5\">\n     <g id=\"line2d_14\">\n      <g>\n       <use xlink:href=\"#m5d82db3b77\" x=\"42.78575\" y=\"67.580572\" style=\"fill: #262626; stroke: #262626\"/>\n      </g>\n     </g>\n     <g id=\"text_15\">\n      <!-- 0.8 -->\n      <g style=\"fill: #262626\" transform=\"translate(20.491 70.923885) scale(0.088 -0.088)\">\n       <defs>\n        <path id=\"DejaVuSans-38\" d=\"M 2034 2216 \nQ 1584 2216 1326 1975 \nQ 1069 1734 1069 1313 \nQ 1069 891 1326 650 \nQ 1584 409 2034 409 \nQ 2484 409 2743 651 \nQ 3003 894 3003 1313 \nQ 3003 1734 2745 1975 \nQ 2488 2216 2034 2216 \nz\nM 1403 2484 \nQ 997 2584 770 2862 \nQ 544 3141 544 3541 \nQ 544 4100 942 4425 \nQ 1341 4750 2034 4750 \nQ 2731 4750 3128 4425 \nQ 3525 4100 3525 3541 \nQ 3525 3141 3298 2862 \nQ 3072 2584 2669 2484 \nQ 3125 2378 3379 2068 \nQ 3634 1759 3634 1313 \nQ 3634 634 3220 271 \nQ 2806 -91 2034 -91 \nQ 1263 -91 848 271 \nQ 434 634 434 1313 \nQ 434 1759 690 2068 \nQ 947 2378 1403 2484 \nz\nM 1172 3481 \nQ 1172 3119 1398 2916 \nQ 1625 2713 2034 2713 \nQ 2441 2713 2670 2916 \nQ 2900 3119 2900 3481 \nQ 2900 3844 2670 4047 \nQ 2441 4250 2034 4250 \nQ 1625 4250 1398 4047 \nQ 1172 3844 1172 3481 \nz\n\" transform=\"scale(0.015625)\"/>\n       </defs>\n       <use xlink:href=\"#DejaVuSans-30\"/>\n       <use xlink:href=\"#DejaVuSans-2e\" x=\"63.623047\"/>\n       <use xlink:href=\"#DejaVuSans-38\" x=\"95.410156\"/>\n      </g>\n     </g>\n    </g>\n    <g id=\"ytick_6\">\n     <g id=\"line2d_15\">\n      <g>\n       <use xlink:href=\"#m5d82db3b77\" x=\"42.78575\" y=\"19.171715\" style=\"fill: #262626; stroke: #262626\"/>\n      </g>\n     </g>\n     <g id=\"text_16\">\n      <!-- 1.0 -->\n      <g style=\"fill: #262626\" transform=\"translate(20.491 22.515028) scale(0.088 -0.088)\">\n       <use xlink:href=\"#DejaVuSans-31\"/>\n       <use xlink:href=\"#DejaVuSans-2e\" x=\"63.623047\"/>\n       <use xlink:href=\"#DejaVuSans-30\" x=\"95.410156\"/>\n      </g>\n     </g>\n    </g>\n    <g id=\"text_17\">\n     <!-- $F(t)=P(T\\leq t)$ -->\n     <g style=\"fill: #262626\" transform=\"translate(14.4945 171.888) rotate(-90) scale(0.096 -0.096)\">\n      <defs>\n       <path id=\"DejaVuSans-Oblique-46\" d=\"M 1081 4666 \nL 3756 4666 \nL 3653 4134 \nL 1606 4134 \nL 1338 2759 \nL 3188 2759 \nL 3084 2228 \nL 1234 2228 \nL 800 0 \nL 172 0 \nL 1081 4666 \nz\n\" transform=\"scale(0.015625)\"/>\n       <path id=\"DejaVuSans-3d\" d=\"M 678 2906 \nL 4684 2906 \nL 4684 2381 \nL 678 2381 \nL 678 2906 \nz\nM 678 1631 \nL 4684 1631 \nL 4684 1100 \nL 678 1100 \nL 678 1631 \nz\n\" transform=\"scale(0.015625)\"/>\n       <path id=\"DejaVuSans-Oblique-50\" d=\"M 1081 4666 \nL 2541 4666 \nQ 3178 4666 3512 4369 \nQ 3847 4072 3847 3500 \nQ 3847 2731 3353 2303 \nQ 2859 1875 1966 1875 \nL 1172 1875 \nL 806 0 \nL 172 0 \nL 1081 4666 \nz\nM 1613 4147 \nL 1275 2394 \nL 2069 2394 \nQ 2606 2394 2893 2669 \nQ 3181 2944 3181 3456 \nQ 3181 3784 2986 3965 \nQ 2791 4147 2438 4147 \nL 1613 4147 \nz\n\" transform=\"scale(0.015625)\"/>\n       <path id=\"DejaVuSans-Oblique-54\" d=\"M 378 4666 \nL 4325 4666 \nL 4225 4134 \nL 2559 4134 \nL 1759 0 \nL 1125 0 \nL 1925 4134 \nL 275 4134 \nL 378 4666 \nz\n\" transform=\"scale(0.015625)\"/>\n       <path id=\"DejaVuSans-2264\" d=\"M 4684 3175 \nL 1684 2309 \nL 4684 1453 \nL 4684 897 \nL 678 2047 \nL 678 2578 \nL 4684 3725 \nL 4684 3175 \nz\nM 678 531 \nL 4684 531 \nL 4684 0 \nL 678 0 \nL 678 531 \nz\n\" transform=\"scale(0.015625)\"/>\n      </defs>\n      <use xlink:href=\"#DejaVuSans-Oblique-46\" transform=\"translate(0 0.125)\"/>\n      <use xlink:href=\"#DejaVuSans-28\" transform=\"translate(57.519531 0.125)\"/>\n      <use xlink:href=\"#DejaVuSans-Oblique-74\" transform=\"translate(96.533203 0.125)\"/>\n      <use xlink:href=\"#DejaVuSans-29\" transform=\"translate(135.742188 0.125)\"/>\n      <use xlink:href=\"#DejaVuSans-3d\" transform=\"translate(194.238281 0.125)\"/>\n      <use xlink:href=\"#DejaVuSans-Oblique-50\" transform=\"translate(297.509766 0.125)\"/>\n      <use xlink:href=\"#DejaVuSans-28\" transform=\"translate(357.8125 0.125)\"/>\n      <use xlink:href=\"#DejaVuSans-Oblique-54\" transform=\"translate(396.826172 0.125)\"/>\n      <use xlink:href=\"#DejaVuSans-2264\" transform=\"translate(477.392578 0.125)\"/>\n      <use xlink:href=\"#DejaVuSans-Oblique-74\" transform=\"translate(580.664062 0.125)\"/>\n      <use xlink:href=\"#DejaVuSans-29\" transform=\"translate(619.873047 0.125)\"/>\n     </g>\n    </g>\n   </g>\n   <g id=\"line2d_16\">\n    <path d=\"M 59.018477 261.216 \nL 62.297816 261.216 \nL 65.577155 261.216 \nL 68.856494 261.216 \nL 72.135833 261.216 \nL 75.415171 261.216 \nL 78.69451 261.216 \nL 81.973849 261.216 \nL 85.253188 261.216 \nL 88.532527 261.216 \nL 91.811866 261.216 \nL 95.091205 261.216 \nL 98.370543 261.216 \nL 101.649882 261.216 \nL 104.929221 261.216 \nL 108.20856 261.216 \nL 111.487899 261.216 \nL 114.767238 261.216 \nL 118.046576 261.216 \nL 121.325915 261.216 \nL 124.605254 261.216 \nL 127.884593 261.216 \nL 131.163932 261.216 \nL 134.443271 261.216 \nL 137.72261 261.216 \nL 141.001948 261.216 \nL 144.281287 261.216 \nL 147.560626 261.216 \nL 150.839965 261.215989 \nL 154.119304 261.215715 \nL 157.398643 261.212348 \nL 160.677981 261.188237 \nL 163.95732 261.075137 \nL 167.236659 260.694787 \nL 170.515998 259.711956 \nL 173.795337 257.652559 \nL 177.074676 254.002895 \nL 180.354014 248.348353 \nL 183.633353 240.486249 \nL 186.912692 230.470064 \nL 190.192031 218.582662 \nL 193.47137 205.264051 \nL 196.750709 191.025848 \nL 200.030048 176.3765 \nL 203.309386 161.768873 \nL 206.588725 147.571681 \nL 209.868064 134.060467 \nL 213.147403 121.42194 \nL 216.426742 109.765829 \nL 219.706081 99.139802 \nL 222.985419 89.544514 \nL 226.264758 80.947142 \nL 229.544097 73.292681 \nL 232.823436 66.512854 \nL 236.102775 60.532816 \nL 239.382114 55.275976 \nL 242.661452 50.667311 \nL 245.940791 46.635501 \nL 249.22013 43.114195 \nL 252.499469 40.042656 \nL 255.778808 37.365963 \nL 259.058147 35.034925 \nL 262.337486 33.005807 \nL 265.616824 31.239958 \nL 268.896163 29.703372 \nL 272.175502 28.366242 \nL 275.454841 27.202515 \nL 278.73418 26.189473 \nL 282.013519 25.307338 \nL 285.292857 24.538915 \nL 288.572196 23.86927 \nL 291.851535 23.285442 \nL 295.130874 22.776186 \nL 298.410213 22.331753 \nL 301.689552 21.943684 \nL 304.96889 21.604647 \nL 308.248229 21.308283 \nL 311.527568 21.049074 \nL 314.806907 20.822233 \nL 318.086246 20.623605 \nL 321.365585 20.449581 \nL 324.644924 20.297027 \nL 327.924262 20.163217 \nL 331.203601 20.045781 \nL 334.48294 19.942659 \nL 337.762279 19.852054 \nL 341.041618 19.772404 \nL 344.320957 19.702345 \nL 347.600295 19.64069 \nL 350.879634 19.586401 \nL 354.158973 19.538573 \nL 357.438312 19.496416 \nL 360.717651 19.459237 \nL 363.99699 19.426432 \nL 367.276329 19.397473 \nL 370.555667 19.371895 \nL 373.835006 19.349294 \nL 377.114345 19.329312 \nL 380.393684 19.311639 \nL 383.673023 19.296 \n\" clip-path=\"url(#p103c96e8d5)\" style=\"fill: none; stroke: #000000; stroke-width: 1.2; stroke-linecap: round\"/>\n   </g>\n   <g id=\"patch_3\">\n    <path d=\"M 42.78575 273.312 \nL 42.78575 7.2 \n\" style=\"fill: none; stroke: #262626; stroke-linejoin: miter; stroke-linecap: square\"/>\n   </g>\n   <g id=\"patch_4\">\n    <path d=\"M 399.90575 273.312 \nL 399.90575 7.2 \n\" style=\"fill: none; stroke: #262626; stroke-linejoin: miter; stroke-linecap: square\"/>\n   </g>\n   <g id=\"patch_5\">\n    <path d=\"M 42.78575 273.312 \nL 399.90575 273.312 \n\" style=\"fill: none; stroke: #262626; stroke-linejoin: miter; stroke-linecap: square\"/>\n   </g>\n   <g id=\"patch_6\">\n    <path d=\"M 42.78575 7.2 \nL 399.90575 7.2 \n\" style=\"fill: none; stroke: #262626; stroke-linejoin: miter; stroke-linecap: square\"/>\n   </g>\n  </g>\n </g>\n <defs>\n  <clipPath id=\"p103c96e8d5\">\n   <rect x=\"42.78575\" y=\"7.2\" width=\"357.12\" height=\"266.112\"/>\n  </clipPath>\n </defs>\n</svg>\n"
          },
          "metadata": {}
        }
      ],
      "source": [
        "# Plotting the Weibull CDF\n",
        "fig , ax = plt . subplots ()\n",
        "ax . plot ( ts , T . cdf ( ts ),color='black')\n",
        "ax . set_xlabel ( '$t$ (years)' )\n",
        "ax . set_ylabel ( '$F(t)=P(T\\leq t)$' );"
      ]
    },
    {
      "cell_type": "markdown",
      "metadata": {
        "id": "tVEg8sefnYor"
      },
      "source": [
        "C. Plot the probability that gear survives for more than $t$ as a function of $t$.\n",
        "That is, plot the function:\n",
        "\n",
        "$$\n",
        "S(t) = p(T > t).\n",
        "$$\n",
        "\n",
        "Hint: First connect $S(t)$ to the cumulative distribution function $F(t)$ of $T$."
      ]
    },
    {
      "cell_type": "code",
      "execution_count": null,
      "metadata": {
        "id": "FOC0tis6nYor",
        "colab": {
          "base_uri": "https://localhost:8080/",
          "height": 436
        },
        "outputId": "166bf214-775b-4633-ea44-b459049d402f"
      },
      "outputs": [
        {
          "output_type": "display_data",
          "data": {
            "text/plain": [
              "<Figure size 640x480 with 1 Axes>"
            ],
            "image/svg+xml": "<?xml version=\"1.0\" encoding=\"utf-8\" standalone=\"no\"?>\n<!DOCTYPE svg PUBLIC \"-//W3C//DTD SVG 1.1//EN\"\n  \"http://www.w3.org/Graphics/SVG/1.1/DTD/svg11.dtd\">\n<svg xmlns:xlink=\"http://www.w3.org/1999/xlink\" width=\"407.12675pt\" height=\"310.64075pt\" viewBox=\"0 0 407.12675 310.64075\" xmlns=\"http://www.w3.org/2000/svg\" version=\"1.1\">\n <metadata>\n  <rdf:RDF xmlns:dc=\"http://purl.org/dc/elements/1.1/\" xmlns:cc=\"http://creativecommons.org/ns#\" xmlns:rdf=\"http://www.w3.org/1999/02/22-rdf-syntax-ns#\">\n   <cc:Work>\n    <dc:type rdf:resource=\"http://purl.org/dc/dcmitype/StillImage\"/>\n    <dc:date>2024-06-18T15:33:36.613774</dc:date>\n    <dc:format>image/svg+xml</dc:format>\n    <dc:creator>\n     <cc:Agent>\n      <dc:title>Matplotlib v3.7.1, https://matplotlib.org/</dc:title>\n     </cc:Agent>\n    </dc:creator>\n   </cc:Work>\n  </rdf:RDF>\n </metadata>\n <defs>\n  <style type=\"text/css\">*{stroke-linejoin: round; stroke-linecap: butt}</style>\n </defs>\n <g id=\"figure_1\">\n  <g id=\"patch_1\">\n   <path d=\"M 0 310.64075 \nL 407.12675 310.64075 \nL 407.12675 0 \nL 0 0 \nz\n\" style=\"fill: #ffffff\"/>\n  </g>\n  <g id=\"axes_1\">\n   <g id=\"patch_2\">\n    <path d=\"M 42.80675 273.312 \nL 399.92675 273.312 \nL 399.92675 7.2 \nL 42.80675 7.2 \nz\n\" style=\"fill: #ffffff\"/>\n   </g>\n   <g id=\"matplotlib.axis_1\">\n    <g id=\"xtick_1\">\n     <g id=\"line2d_1\">\n      <defs>\n       <path id=\"m06c2da4c08\" d=\"M 0 0 \nL 0 4.8 \n\" style=\"stroke: #262626\"/>\n      </defs>\n      <g>\n       <use xlink:href=\"#m06c2da4c08\" x=\"59.039477\" y=\"273.312\" style=\"fill: #262626; stroke: #262626\"/>\n      </g>\n     </g>\n     <g id=\"text_1\">\n      <!-- 0.0 -->\n      <g style=\"fill: #262626\" transform=\"translate(52.042102 288.298625) scale(0.088 -0.088)\">\n       <defs>\n        <path id=\"DejaVuSans-30\" d=\"M 2034 4250 \nQ 1547 4250 1301 3770 \nQ 1056 3291 1056 2328 \nQ 1056 1369 1301 889 \nQ 1547 409 2034 409 \nQ 2525 409 2770 889 \nQ 3016 1369 3016 2328 \nQ 3016 3291 2770 3770 \nQ 2525 4250 2034 4250 \nz\nM 2034 4750 \nQ 2819 4750 3233 4129 \nQ 3647 3509 3647 2328 \nQ 3647 1150 3233 529 \nQ 2819 -91 2034 -91 \nQ 1250 -91 836 529 \nQ 422 1150 422 2328 \nQ 422 3509 836 4129 \nQ 1250 4750 2034 4750 \nz\n\" transform=\"scale(0.015625)\"/>\n        <path id=\"DejaVuSans-2e\" d=\"M 684 794 \nL 1344 794 \nL 1344 0 \nL 684 0 \nL 684 794 \nz\n\" transform=\"scale(0.015625)\"/>\n       </defs>\n       <use xlink:href=\"#DejaVuSans-30\"/>\n       <use xlink:href=\"#DejaVuSans-2e\" x=\"63.623047\"/>\n       <use xlink:href=\"#DejaVuSans-30\" x=\"95.410156\"/>\n      </g>\n     </g>\n    </g>\n    <g id=\"xtick_2\">\n     <g id=\"line2d_2\">\n      <g>\n       <use xlink:href=\"#m06c2da4c08\" x=\"99.621295\" y=\"273.312\" style=\"fill: #262626; stroke: #262626\"/>\n      </g>\n     </g>\n     <g id=\"text_2\">\n      <!-- 2.5 -->\n      <g style=\"fill: #262626\" transform=\"translate(92.62392 288.298625) scale(0.088 -0.088)\">\n       <defs>\n        <path id=\"DejaVuSans-32\" d=\"M 1228 531 \nL 3431 531 \nL 3431 0 \nL 469 0 \nL 469 531 \nQ 828 903 1448 1529 \nQ 2069 2156 2228 2338 \nQ 2531 2678 2651 2914 \nQ 2772 3150 2772 3378 \nQ 2772 3750 2511 3984 \nQ 2250 4219 1831 4219 \nQ 1534 4219 1204 4116 \nQ 875 4013 500 3803 \nL 500 4441 \nQ 881 4594 1212 4672 \nQ 1544 4750 1819 4750 \nQ 2544 4750 2975 4387 \nQ 3406 4025 3406 3419 \nQ 3406 3131 3298 2873 \nQ 3191 2616 2906 2266 \nQ 2828 2175 2409 1742 \nQ 1991 1309 1228 531 \nz\n\" transform=\"scale(0.015625)\"/>\n        <path id=\"DejaVuSans-35\" d=\"M 691 4666 \nL 3169 4666 \nL 3169 4134 \nL 1269 4134 \nL 1269 2991 \nQ 1406 3038 1543 3061 \nQ 1681 3084 1819 3084 \nQ 2600 3084 3056 2656 \nQ 3513 2228 3513 1497 \nQ 3513 744 3044 326 \nQ 2575 -91 1722 -91 \nQ 1428 -91 1123 -41 \nQ 819 9 494 109 \nL 494 744 \nQ 775 591 1075 516 \nQ 1375 441 1709 441 \nQ 2250 441 2565 725 \nQ 2881 1009 2881 1497 \nQ 2881 1984 2565 2268 \nQ 2250 2553 1709 2553 \nQ 1456 2553 1204 2497 \nQ 953 2441 691 2322 \nL 691 4666 \nz\n\" transform=\"scale(0.015625)\"/>\n       </defs>\n       <use xlink:href=\"#DejaVuSans-32\"/>\n       <use xlink:href=\"#DejaVuSans-2e\" x=\"63.623047\"/>\n       <use xlink:href=\"#DejaVuSans-35\" x=\"95.410156\"/>\n      </g>\n     </g>\n    </g>\n    <g id=\"xtick_3\">\n     <g id=\"line2d_3\">\n      <g>\n       <use xlink:href=\"#m06c2da4c08\" x=\"140.203114\" y=\"273.312\" style=\"fill: #262626; stroke: #262626\"/>\n      </g>\n     </g>\n     <g id=\"text_3\">\n      <!-- 5.0 -->\n      <g style=\"fill: #262626\" transform=\"translate(133.205739 288.298625) scale(0.088 -0.088)\">\n       <use xlink:href=\"#DejaVuSans-35\"/>\n       <use xlink:href=\"#DejaVuSans-2e\" x=\"63.623047\"/>\n       <use xlink:href=\"#DejaVuSans-30\" x=\"95.410156\"/>\n      </g>\n     </g>\n    </g>\n    <g id=\"xtick_4\">\n     <g id=\"line2d_4\">\n      <g>\n       <use xlink:href=\"#m06c2da4c08\" x=\"180.784932\" y=\"273.312\" style=\"fill: #262626; stroke: #262626\"/>\n      </g>\n     </g>\n     <g id=\"text_4\">\n      <!-- 7.5 -->\n      <g style=\"fill: #262626\" transform=\"translate(173.787557 288.298625) scale(0.088 -0.088)\">\n       <defs>\n        <path id=\"DejaVuSans-37\" d=\"M 525 4666 \nL 3525 4666 \nL 3525 4397 \nL 1831 0 \nL 1172 0 \nL 2766 4134 \nL 525 4134 \nL 525 4666 \nz\n\" transform=\"scale(0.015625)\"/>\n       </defs>\n       <use xlink:href=\"#DejaVuSans-37\"/>\n       <use xlink:href=\"#DejaVuSans-2e\" x=\"63.623047\"/>\n       <use xlink:href=\"#DejaVuSans-35\" x=\"95.410156\"/>\n      </g>\n     </g>\n    </g>\n    <g id=\"xtick_5\">\n     <g id=\"line2d_5\">\n      <g>\n       <use xlink:href=\"#m06c2da4c08\" x=\"221.36675\" y=\"273.312\" style=\"fill: #262626; stroke: #262626\"/>\n      </g>\n     </g>\n     <g id=\"text_5\">\n      <!-- 10.0 -->\n      <g style=\"fill: #262626\" transform=\"translate(211.569875 288.298625) scale(0.088 -0.088)\">\n       <defs>\n        <path id=\"DejaVuSans-31\" d=\"M 794 531 \nL 1825 531 \nL 1825 4091 \nL 703 3866 \nL 703 4441 \nL 1819 4666 \nL 2450 4666 \nL 2450 531 \nL 3481 531 \nL 3481 0 \nL 794 0 \nL 794 531 \nz\n\" transform=\"scale(0.015625)\"/>\n       </defs>\n       <use xlink:href=\"#DejaVuSans-31\"/>\n       <use xlink:href=\"#DejaVuSans-30\" x=\"63.623047\"/>\n       <use xlink:href=\"#DejaVuSans-2e\" x=\"127.246094\"/>\n       <use xlink:href=\"#DejaVuSans-30\" x=\"159.033203\"/>\n      </g>\n     </g>\n    </g>\n    <g id=\"xtick_6\">\n     <g id=\"line2d_6\">\n      <g>\n       <use xlink:href=\"#m06c2da4c08\" x=\"261.948568\" y=\"273.312\" style=\"fill: #262626; stroke: #262626\"/>\n      </g>\n     </g>\n     <g id=\"text_6\">\n      <!-- 12.5 -->\n      <g style=\"fill: #262626\" transform=\"translate(252.151693 288.298625) scale(0.088 -0.088)\">\n       <use xlink:href=\"#DejaVuSans-31\"/>\n       <use xlink:href=\"#DejaVuSans-32\" x=\"63.623047\"/>\n       <use xlink:href=\"#DejaVuSans-2e\" x=\"127.246094\"/>\n       <use xlink:href=\"#DejaVuSans-35\" x=\"159.033203\"/>\n      </g>\n     </g>\n    </g>\n    <g id=\"xtick_7\">\n     <g id=\"line2d_7\">\n      <g>\n       <use xlink:href=\"#m06c2da4c08\" x=\"302.530386\" y=\"273.312\" style=\"fill: #262626; stroke: #262626\"/>\n      </g>\n     </g>\n     <g id=\"text_7\">\n      <!-- 15.0 -->\n      <g style=\"fill: #262626\" transform=\"translate(292.733511 288.298625) scale(0.088 -0.088)\">\n       <use xlink:href=\"#DejaVuSans-31\"/>\n       <use xlink:href=\"#DejaVuSans-35\" x=\"63.623047\"/>\n       <use xlink:href=\"#DejaVuSans-2e\" x=\"127.246094\"/>\n       <use xlink:href=\"#DejaVuSans-30\" x=\"159.033203\"/>\n      </g>\n     </g>\n    </g>\n    <g id=\"xtick_8\">\n     <g id=\"line2d_8\">\n      <g>\n       <use xlink:href=\"#m06c2da4c08\" x=\"343.112205\" y=\"273.312\" style=\"fill: #262626; stroke: #262626\"/>\n      </g>\n     </g>\n     <g id=\"text_8\">\n      <!-- 17.5 -->\n      <g style=\"fill: #262626\" transform=\"translate(333.31533 288.298625) scale(0.088 -0.088)\">\n       <use xlink:href=\"#DejaVuSans-31\"/>\n       <use xlink:href=\"#DejaVuSans-37\" x=\"63.623047\"/>\n       <use xlink:href=\"#DejaVuSans-2e\" x=\"127.246094\"/>\n       <use xlink:href=\"#DejaVuSans-35\" x=\"159.033203\"/>\n      </g>\n     </g>\n    </g>\n    <g id=\"xtick_9\">\n     <g id=\"line2d_9\">\n      <g>\n       <use xlink:href=\"#m06c2da4c08\" x=\"383.694023\" y=\"273.312\" style=\"fill: #262626; stroke: #262626\"/>\n      </g>\n     </g>\n     <g id=\"text_9\">\n      <!-- 20.0 -->\n      <g style=\"fill: #262626\" transform=\"translate(373.897148 288.298625) scale(0.088 -0.088)\">\n       <use xlink:href=\"#DejaVuSans-32\"/>\n       <use xlink:href=\"#DejaVuSans-30\" x=\"63.623047\"/>\n       <use xlink:href=\"#DejaVuSans-2e\" x=\"127.246094\"/>\n       <use xlink:href=\"#DejaVuSans-30\" x=\"159.033203\"/>\n      </g>\n     </g>\n    </g>\n    <g id=\"text_10\">\n     <!-- $t$ (years) -->\n     <g style=\"fill: #262626\" transform=\"translate(200.96675 301.42475) scale(0.096 -0.096)\">\n      <defs>\n       <path id=\"DejaVuSans-Oblique-74\" d=\"M 2706 3500 \nL 2619 3053 \nL 1472 3053 \nL 1100 1153 \nQ 1081 1047 1072 975 \nQ 1063 903 1063 863 \nQ 1063 663 1183 572 \nQ 1303 481 1569 481 \nL 2150 481 \nL 2053 0 \nL 1503 0 \nQ 991 0 739 200 \nQ 488 400 488 806 \nQ 488 878 497 964 \nQ 506 1050 525 1153 \nL 897 3053 \nL 409 3053 \nL 500 3500 \nL 978 3500 \nL 1172 4494 \nL 1747 4494 \nL 1556 3500 \nL 2706 3500 \nz\n\" transform=\"scale(0.015625)\"/>\n       <path id=\"DejaVuSans-20\" transform=\"scale(0.015625)\"/>\n       <path id=\"DejaVuSans-28\" d=\"M 1984 4856 \nQ 1566 4138 1362 3434 \nQ 1159 2731 1159 2009 \nQ 1159 1288 1364 580 \nQ 1569 -128 1984 -844 \nL 1484 -844 \nQ 1016 -109 783 600 \nQ 550 1309 550 2009 \nQ 550 2706 781 3412 \nQ 1013 4119 1484 4856 \nL 1984 4856 \nz\n\" transform=\"scale(0.015625)\"/>\n       <path id=\"DejaVuSans-79\" d=\"M 2059 -325 \nQ 1816 -950 1584 -1140 \nQ 1353 -1331 966 -1331 \nL 506 -1331 \nL 506 -850 \nL 844 -850 \nQ 1081 -850 1212 -737 \nQ 1344 -625 1503 -206 \nL 1606 56 \nL 191 3500 \nL 800 3500 \nL 1894 763 \nL 2988 3500 \nL 3597 3500 \nL 2059 -325 \nz\n\" transform=\"scale(0.015625)\"/>\n       <path id=\"DejaVuSans-65\" d=\"M 3597 1894 \nL 3597 1613 \nL 953 1613 \nQ 991 1019 1311 708 \nQ 1631 397 2203 397 \nQ 2534 397 2845 478 \nQ 3156 559 3463 722 \nL 3463 178 \nQ 3153 47 2828 -22 \nQ 2503 -91 2169 -91 \nQ 1331 -91 842 396 \nQ 353 884 353 1716 \nQ 353 2575 817 3079 \nQ 1281 3584 2069 3584 \nQ 2775 3584 3186 3129 \nQ 3597 2675 3597 1894 \nz\nM 3022 2063 \nQ 3016 2534 2758 2815 \nQ 2500 3097 2075 3097 \nQ 1594 3097 1305 2825 \nQ 1016 2553 972 2059 \nL 3022 2063 \nz\n\" transform=\"scale(0.015625)\"/>\n       <path id=\"DejaVuSans-61\" d=\"M 2194 1759 \nQ 1497 1759 1228 1600 \nQ 959 1441 959 1056 \nQ 959 750 1161 570 \nQ 1363 391 1709 391 \nQ 2188 391 2477 730 \nQ 2766 1069 2766 1631 \nL 2766 1759 \nL 2194 1759 \nz\nM 3341 1997 \nL 3341 0 \nL 2766 0 \nL 2766 531 \nQ 2569 213 2275 61 \nQ 1981 -91 1556 -91 \nQ 1019 -91 701 211 \nQ 384 513 384 1019 \nQ 384 1609 779 1909 \nQ 1175 2209 1959 2209 \nL 2766 2209 \nL 2766 2266 \nQ 2766 2663 2505 2880 \nQ 2244 3097 1772 3097 \nQ 1472 3097 1187 3025 \nQ 903 2953 641 2809 \nL 641 3341 \nQ 956 3463 1253 3523 \nQ 1550 3584 1831 3584 \nQ 2591 3584 2966 3190 \nQ 3341 2797 3341 1997 \nz\n\" transform=\"scale(0.015625)\"/>\n       <path id=\"DejaVuSans-72\" d=\"M 2631 2963 \nQ 2534 3019 2420 3045 \nQ 2306 3072 2169 3072 \nQ 1681 3072 1420 2755 \nQ 1159 2438 1159 1844 \nL 1159 0 \nL 581 0 \nL 581 3500 \nL 1159 3500 \nL 1159 2956 \nQ 1341 3275 1631 3429 \nQ 1922 3584 2338 3584 \nQ 2397 3584 2469 3576 \nQ 2541 3569 2628 3553 \nL 2631 2963 \nz\n\" transform=\"scale(0.015625)\"/>\n       <path id=\"DejaVuSans-73\" d=\"M 2834 3397 \nL 2834 2853 \nQ 2591 2978 2328 3040 \nQ 2066 3103 1784 3103 \nQ 1356 3103 1142 2972 \nQ 928 2841 928 2578 \nQ 928 2378 1081 2264 \nQ 1234 2150 1697 2047 \nL 1894 2003 \nQ 2506 1872 2764 1633 \nQ 3022 1394 3022 966 \nQ 3022 478 2636 193 \nQ 2250 -91 1575 -91 \nQ 1294 -91 989 -36 \nQ 684 19 347 128 \nL 347 722 \nQ 666 556 975 473 \nQ 1284 391 1588 391 \nQ 1994 391 2212 530 \nQ 2431 669 2431 922 \nQ 2431 1156 2273 1281 \nQ 2116 1406 1581 1522 \nL 1381 1569 \nQ 847 1681 609 1914 \nQ 372 2147 372 2553 \nQ 372 3047 722 3315 \nQ 1072 3584 1716 3584 \nQ 2034 3584 2315 3537 \nQ 2597 3491 2834 3397 \nz\n\" transform=\"scale(0.015625)\"/>\n       <path id=\"DejaVuSans-29\" d=\"M 513 4856 \nL 1013 4856 \nQ 1481 4119 1714 3412 \nQ 1947 2706 1947 2009 \nQ 1947 1309 1714 600 \nQ 1481 -109 1013 -844 \nL 513 -844 \nQ 928 -128 1133 580 \nQ 1338 1288 1338 2009 \nQ 1338 2731 1133 3434 \nQ 928 4138 513 4856 \nz\n\" transform=\"scale(0.015625)\"/>\n      </defs>\n      <use xlink:href=\"#DejaVuSans-Oblique-74\" transform=\"translate(0 0.125)\"/>\n      <use xlink:href=\"#DejaVuSans-20\" transform=\"translate(39.208984 0.125)\"/>\n      <use xlink:href=\"#DejaVuSans-28\" transform=\"translate(70.996094 0.125)\"/>\n      <use xlink:href=\"#DejaVuSans-79\" transform=\"translate(110.009766 0.125)\"/>\n      <use xlink:href=\"#DejaVuSans-65\" transform=\"translate(169.189453 0.125)\"/>\n      <use xlink:href=\"#DejaVuSans-61\" transform=\"translate(230.712891 0.125)\"/>\n      <use xlink:href=\"#DejaVuSans-72\" transform=\"translate(291.992188 0.125)\"/>\n      <use xlink:href=\"#DejaVuSans-73\" transform=\"translate(333.105469 0.125)\"/>\n      <use xlink:href=\"#DejaVuSans-29\" transform=\"translate(385.205078 0.125)\"/>\n     </g>\n    </g>\n   </g>\n   <g id=\"matplotlib.axis_2\">\n    <g id=\"ytick_1\">\n     <g id=\"line2d_10\">\n      <defs>\n       <path id=\"mde3943ed18\" d=\"M 0 0 \nL -4.8 0 \n\" style=\"stroke: #262626\"/>\n      </defs>\n      <g>\n       <use xlink:href=\"#mde3943ed18\" x=\"42.80675\" y=\"261.340285\" style=\"fill: #262626; stroke: #262626\"/>\n      </g>\n     </g>\n     <g id=\"text_11\">\n      <!-- 0.0 -->\n      <g style=\"fill: #262626\" transform=\"translate(20.512 264.683597) scale(0.088 -0.088)\">\n       <use xlink:href=\"#DejaVuSans-30\"/>\n       <use xlink:href=\"#DejaVuSans-2e\" x=\"63.623047\"/>\n       <use xlink:href=\"#DejaVuSans-30\" x=\"95.410156\"/>\n      </g>\n     </g>\n    </g>\n    <g id=\"ytick_2\">\n     <g id=\"line2d_11\">\n      <g>\n       <use xlink:href=\"#mde3943ed18\" x=\"42.80675\" y=\"212.931428\" style=\"fill: #262626; stroke: #262626\"/>\n      </g>\n     </g>\n     <g id=\"text_12\">\n      <!-- 0.2 -->\n      <g style=\"fill: #262626\" transform=\"translate(20.512 216.27474) scale(0.088 -0.088)\">\n       <use xlink:href=\"#DejaVuSans-30\"/>\n       <use xlink:href=\"#DejaVuSans-2e\" x=\"63.623047\"/>\n       <use xlink:href=\"#DejaVuSans-32\" x=\"95.410156\"/>\n      </g>\n     </g>\n    </g>\n    <g id=\"ytick_3\">\n     <g id=\"line2d_12\">\n      <g>\n       <use xlink:href=\"#mde3943ed18\" x=\"42.80675\" y=\"164.522571\" style=\"fill: #262626; stroke: #262626\"/>\n      </g>\n     </g>\n     <g id=\"text_13\">\n      <!-- 0.4 -->\n      <g style=\"fill: #262626\" transform=\"translate(20.512 167.865883) scale(0.088 -0.088)\">\n       <defs>\n        <path id=\"DejaVuSans-34\" d=\"M 2419 4116 \nL 825 1625 \nL 2419 1625 \nL 2419 4116 \nz\nM 2253 4666 \nL 3047 4666 \nL 3047 1625 \nL 3713 1625 \nL 3713 1100 \nL 3047 1100 \nL 3047 0 \nL 2419 0 \nL 2419 1100 \nL 313 1100 \nL 313 1709 \nL 2253 4666 \nz\n\" transform=\"scale(0.015625)\"/>\n       </defs>\n       <use xlink:href=\"#DejaVuSans-30\"/>\n       <use xlink:href=\"#DejaVuSans-2e\" x=\"63.623047\"/>\n       <use xlink:href=\"#DejaVuSans-34\" x=\"95.410156\"/>\n      </g>\n     </g>\n    </g>\n    <g id=\"ytick_4\">\n     <g id=\"line2d_13\">\n      <g>\n       <use xlink:href=\"#mde3943ed18\" x=\"42.80675\" y=\"116.113714\" style=\"fill: #262626; stroke: #262626\"/>\n      </g>\n     </g>\n     <g id=\"text_14\">\n      <!-- 0.6 -->\n      <g style=\"fill: #262626\" transform=\"translate(20.512 119.457026) scale(0.088 -0.088)\">\n       <defs>\n        <path id=\"DejaVuSans-36\" d=\"M 2113 2584 \nQ 1688 2584 1439 2293 \nQ 1191 2003 1191 1497 \nQ 1191 994 1439 701 \nQ 1688 409 2113 409 \nQ 2538 409 2786 701 \nQ 3034 994 3034 1497 \nQ 3034 2003 2786 2293 \nQ 2538 2584 2113 2584 \nz\nM 3366 4563 \nL 3366 3988 \nQ 3128 4100 2886 4159 \nQ 2644 4219 2406 4219 \nQ 1781 4219 1451 3797 \nQ 1122 3375 1075 2522 \nQ 1259 2794 1537 2939 \nQ 1816 3084 2150 3084 \nQ 2853 3084 3261 2657 \nQ 3669 2231 3669 1497 \nQ 3669 778 3244 343 \nQ 2819 -91 2113 -91 \nQ 1303 -91 875 529 \nQ 447 1150 447 2328 \nQ 447 3434 972 4092 \nQ 1497 4750 2381 4750 \nQ 2619 4750 2861 4703 \nQ 3103 4656 3366 4563 \nz\n\" transform=\"scale(0.015625)\"/>\n       </defs>\n       <use xlink:href=\"#DejaVuSans-30\"/>\n       <use xlink:href=\"#DejaVuSans-2e\" x=\"63.623047\"/>\n       <use xlink:href=\"#DejaVuSans-36\" x=\"95.410156\"/>\n      </g>\n     </g>\n    </g>\n    <g id=\"ytick_5\">\n     <g id=\"line2d_14\">\n      <g>\n       <use xlink:href=\"#mde3943ed18\" x=\"42.80675\" y=\"67.704857\" style=\"fill: #262626; stroke: #262626\"/>\n      </g>\n     </g>\n     <g id=\"text_15\">\n      <!-- 0.8 -->\n      <g style=\"fill: #262626\" transform=\"translate(20.512 71.048169) scale(0.088 -0.088)\">\n       <defs>\n        <path id=\"DejaVuSans-38\" d=\"M 2034 2216 \nQ 1584 2216 1326 1975 \nQ 1069 1734 1069 1313 \nQ 1069 891 1326 650 \nQ 1584 409 2034 409 \nQ 2484 409 2743 651 \nQ 3003 894 3003 1313 \nQ 3003 1734 2745 1975 \nQ 2488 2216 2034 2216 \nz\nM 1403 2484 \nQ 997 2584 770 2862 \nQ 544 3141 544 3541 \nQ 544 4100 942 4425 \nQ 1341 4750 2034 4750 \nQ 2731 4750 3128 4425 \nQ 3525 4100 3525 3541 \nQ 3525 3141 3298 2862 \nQ 3072 2584 2669 2484 \nQ 3125 2378 3379 2068 \nQ 3634 1759 3634 1313 \nQ 3634 634 3220 271 \nQ 2806 -91 2034 -91 \nQ 1263 -91 848 271 \nQ 434 634 434 1313 \nQ 434 1759 690 2068 \nQ 947 2378 1403 2484 \nz\nM 1172 3481 \nQ 1172 3119 1398 2916 \nQ 1625 2713 2034 2713 \nQ 2441 2713 2670 2916 \nQ 2900 3119 2900 3481 \nQ 2900 3844 2670 4047 \nQ 2441 4250 2034 4250 \nQ 1625 4250 1398 4047 \nQ 1172 3844 1172 3481 \nz\n\" transform=\"scale(0.015625)\"/>\n       </defs>\n       <use xlink:href=\"#DejaVuSans-30\"/>\n       <use xlink:href=\"#DejaVuSans-2e\" x=\"63.623047\"/>\n       <use xlink:href=\"#DejaVuSans-38\" x=\"95.410156\"/>\n      </g>\n     </g>\n    </g>\n    <g id=\"ytick_6\">\n     <g id=\"line2d_15\">\n      <g>\n       <use xlink:href=\"#mde3943ed18\" x=\"42.80675\" y=\"19.296\" style=\"fill: #262626; stroke: #262626\"/>\n      </g>\n     </g>\n     <g id=\"text_16\">\n      <!-- 1.0 -->\n      <g style=\"fill: #262626\" transform=\"translate(20.512 22.639312) scale(0.088 -0.088)\">\n       <use xlink:href=\"#DejaVuSans-31\"/>\n       <use xlink:href=\"#DejaVuSans-2e\" x=\"63.623047\"/>\n       <use xlink:href=\"#DejaVuSans-30\" x=\"95.410156\"/>\n      </g>\n     </g>\n    </g>\n    <g id=\"text_17\">\n     <!-- $S(t) = p(T&gt;t)$ -->\n     <g style=\"fill: #262626\" transform=\"translate(14.496 172.368) rotate(-90) scale(0.096 -0.096)\">\n      <defs>\n       <path id=\"DejaVuSans-Oblique-53\" d=\"M 3859 4513 \nL 3738 3897 \nQ 3422 4066 3111 4152 \nQ 2800 4238 2509 4238 \nQ 1944 4238 1609 3991 \nQ 1275 3744 1275 3334 \nQ 1275 3109 1398 2989 \nQ 1522 2869 2034 2731 \nL 2413 2638 \nQ 3053 2472 3303 2217 \nQ 3553 1963 3553 1503 \nQ 3553 797 2998 353 \nQ 2444 -91 1538 -91 \nQ 1166 -91 791 -17 \nQ 416 56 38 206 \nL 166 856 \nQ 513 641 861 531 \nQ 1209 422 1556 422 \nQ 2147 422 2503 684 \nQ 2859 947 2859 1369 \nQ 2859 1650 2717 1795 \nQ 2575 1941 2106 2059 \nL 1728 2156 \nQ 1081 2325 845 2545 \nQ 609 2766 609 3163 \nQ 609 3859 1145 4304 \nQ 1681 4750 2541 4750 \nQ 2875 4750 3203 4690 \nQ 3531 4631 3859 4513 \nz\n\" transform=\"scale(0.015625)\"/>\n       <path id=\"DejaVuSans-3d\" d=\"M 678 2906 \nL 4684 2906 \nL 4684 2381 \nL 678 2381 \nL 678 2906 \nz\nM 678 1631 \nL 4684 1631 \nL 4684 1100 \nL 678 1100 \nL 678 1631 \nz\n\" transform=\"scale(0.015625)\"/>\n       <path id=\"DejaVuSans-Oblique-70\" d=\"M 3175 2156 \nQ 3175 2616 2975 2859 \nQ 2775 3103 2400 3103 \nQ 2144 3103 1911 2972 \nQ 1678 2841 1497 2591 \nQ 1319 2344 1212 1994 \nQ 1106 1644 1106 1300 \nQ 1106 863 1306 627 \nQ 1506 391 1875 391 \nQ 2147 391 2380 519 \nQ 2613 647 2778 891 \nQ 2956 1147 3065 1494 \nQ 3175 1841 3175 2156 \nz\nM 1394 2969 \nQ 1625 3272 1939 3428 \nQ 2253 3584 2638 3584 \nQ 3175 3584 3472 3232 \nQ 3769 2881 3769 2247 \nQ 3769 1728 3584 1258 \nQ 3400 788 3053 416 \nQ 2822 169 2531 39 \nQ 2241 -91 1919 -91 \nQ 1547 -91 1294 64 \nQ 1041 219 916 525 \nL 556 -1331 \nL -19 -1331 \nL 922 3500 \nL 1497 3500 \nL 1394 2969 \nz\n\" transform=\"scale(0.015625)\"/>\n       <path id=\"DejaVuSans-Oblique-54\" d=\"M 378 4666 \nL 4325 4666 \nL 4225 4134 \nL 2559 4134 \nL 1759 0 \nL 1125 0 \nL 1925 4134 \nL 275 4134 \nL 378 4666 \nz\n\" transform=\"scale(0.015625)\"/>\n       <path id=\"DejaVuSans-3e\" d=\"M 678 3150 \nL 678 3719 \nL 4684 2266 \nL 4684 1747 \nL 678 294 \nL 678 863 \nL 3897 2003 \nL 678 3150 \nz\n\" transform=\"scale(0.015625)\"/>\n      </defs>\n      <use xlink:href=\"#DejaVuSans-Oblique-53\" transform=\"translate(0 0.125)\"/>\n      <use xlink:href=\"#DejaVuSans-28\" transform=\"translate(63.476562 0.125)\"/>\n      <use xlink:href=\"#DejaVuSans-Oblique-74\" transform=\"translate(102.490234 0.125)\"/>\n      <use xlink:href=\"#DejaVuSans-29\" transform=\"translate(141.699219 0.125)\"/>\n      <use xlink:href=\"#DejaVuSans-3d\" transform=\"translate(200.195312 0.125)\"/>\n      <use xlink:href=\"#DejaVuSans-Oblique-70\" transform=\"translate(303.466797 0.125)\"/>\n      <use xlink:href=\"#DejaVuSans-28\" transform=\"translate(366.943359 0.125)\"/>\n      <use xlink:href=\"#DejaVuSans-Oblique-54\" transform=\"translate(405.957031 0.125)\"/>\n      <use xlink:href=\"#DejaVuSans-3e\" transform=\"translate(486.523438 0.125)\"/>\n      <use xlink:href=\"#DejaVuSans-Oblique-74\" transform=\"translate(589.794922 0.125)\"/>\n      <use xlink:href=\"#DejaVuSans-29\" transform=\"translate(629.003906 0.125)\"/>\n     </g>\n    </g>\n   </g>\n   <g id=\"line2d_16\">\n    <path d=\"M 59.039477 19.296 \nL 62.318816 19.296 \nL 65.598155 19.296 \nL 68.877494 19.296 \nL 72.156833 19.296 \nL 75.436171 19.296 \nL 78.71551 19.296 \nL 81.994849 19.296 \nL 85.274188 19.296 \nL 88.553527 19.296 \nL 91.832866 19.296 \nL 95.112205 19.296 \nL 98.391543 19.296 \nL 101.670882 19.296 \nL 104.950221 19.296 \nL 108.22956 19.296 \nL 111.508899 19.296 \nL 114.788238 19.296 \nL 118.067576 19.296 \nL 121.346915 19.296 \nL 124.626254 19.296 \nL 127.905593 19.296 \nL 131.184932 19.296 \nL 134.464271 19.296 \nL 137.74361 19.296 \nL 141.022948 19.296 \nL 144.302287 19.296 \nL 147.581626 19.296 \nL 150.860965 19.296011 \nL 154.140304 19.296285 \nL 157.419643 19.299652 \nL 160.698981 19.323763 \nL 163.97832 19.436863 \nL 167.257659 19.817213 \nL 170.536998 20.800044 \nL 173.816337 22.859441 \nL 177.095676 26.509105 \nL 180.375014 32.163647 \nL 183.654353 40.025751 \nL 186.933692 50.041936 \nL 190.213031 61.929338 \nL 193.49237 75.247949 \nL 196.771709 89.486152 \nL 200.051048 104.1355 \nL 203.330386 118.743127 \nL 206.609725 132.940319 \nL 209.889064 146.451533 \nL 213.168403 159.09006 \nL 216.447742 170.746171 \nL 219.727081 181.372198 \nL 223.006419 190.967486 \nL 226.285758 199.564858 \nL 229.565097 207.219319 \nL 232.844436 213.999146 \nL 236.123775 219.979184 \nL 239.403114 225.236024 \nL 242.682452 229.844689 \nL 245.961791 233.876499 \nL 249.24113 237.397805 \nL 252.520469 240.469344 \nL 255.799808 243.146037 \nL 259.079147 245.477075 \nL 262.358486 247.506193 \nL 265.637824 249.272042 \nL 268.917163 250.808628 \nL 272.196502 252.145758 \nL 275.475841 253.309485 \nL 278.75518 254.322527 \nL 282.034519 255.204662 \nL 285.313857 255.973085 \nL 288.593196 256.64273 \nL 291.872535 257.226558 \nL 295.151874 257.735814 \nL 298.431213 258.180247 \nL 301.710552 258.568316 \nL 304.98989 258.907353 \nL 308.269229 259.203717 \nL 311.548568 259.462926 \nL 314.827907 259.689767 \nL 318.107246 259.888395 \nL 321.386585 260.062419 \nL 324.665924 260.214973 \nL 327.945262 260.348783 \nL 331.224601 260.466219 \nL 334.50394 260.569341 \nL 337.783279 260.659946 \nL 341.062618 260.739596 \nL 344.341957 260.809655 \nL 347.621295 260.87131 \nL 350.900634 260.925599 \nL 354.179973 260.973427 \nL 357.459312 261.015584 \nL 360.738651 261.052763 \nL 364.01799 261.085568 \nL 367.297329 261.114527 \nL 370.576667 261.140105 \nL 373.856006 261.162706 \nL 377.135345 261.182688 \nL 380.414684 261.200361 \nL 383.694023 261.216 \n\" clip-path=\"url(#p7e7497f188)\" style=\"fill: none; stroke: #1f77b4; stroke-width: 1.2; stroke-linecap: round\"/>\n   </g>\n   <g id=\"patch_3\">\n    <path d=\"M 42.80675 261.340285 \nL 42.80675 19.296 \n\" style=\"fill: none; stroke: #262626; stroke-linejoin: miter; stroke-linecap: square\"/>\n   </g>\n   <g id=\"patch_4\">\n    <path d=\"M 59.039477 273.312 \nL 383.694023 273.312 \n\" style=\"fill: none; stroke: #262626; stroke-linejoin: miter; stroke-linecap: square\"/>\n   </g>\n  </g>\n </g>\n <defs>\n  <clipPath id=\"p7e7497f188\">\n   <rect x=\"42.80675\" y=\"7.2\" width=\"357.12\" height=\"266.112\"/>\n  </clipPath>\n </defs>\n</svg>\n"
          },
          "metadata": {}
        }
      ],
      "source": [
        "# Probability of survival function\n",
        "\n",
        "def survival_function(t):\n",
        "    return 1 - T.cdf(t)\n",
        "\n",
        "# Plotting the survival function\n",
        "ts = np.linspace(0.0, 20.0, 100) # Given earlier\n",
        "survival_values = survival_function(ts)\n",
        "# print(survival_values)\n",
        "\n",
        "# Plot settings below\n",
        "fig, ax = plt.subplots()\n",
        "ax.plot(ts, survival_values, label=\"Survival Function\")\n",
        "ax.set_xlabel(r\"$t$ (years)\")\n",
        "ax.set_ylabel(r\"$S(t) = p(T>t)$\")\n",
        "sns.despine(trim=True)\n",
        "plt.show()\n"
      ]
    },
    {
      "cell_type": "markdown",
      "metadata": {
        "id": "YsAmSrjVnYor"
      },
      "source": [
        "D. Find the probability that the gear lasts anywhere between 8 and 10 years."
      ]
    },
    {
      "cell_type": "code",
      "execution_count": null,
      "metadata": {
        "id": "kzBUMnhznYos",
        "colab": {
          "base_uri": "https://localhost:8080/"
        },
        "outputId": "0b9c0ab7-1045-4f3a-b7ef-1ec9b014ef11"
      },
      "outputs": [
        {
          "output_type": "stream",
          "name": "stdout",
          "text": [
            "Probability the gear lasts b/w 8 & 10 years: 0.5343\n"
          ]
        }
      ],
      "source": [
        "# Calculate the probability\n",
        "prob_less_than_8 = T.cdf(8)\n",
        "prob_less_than_10 = T.cdf(10)\n",
        "\n",
        "# Probability that the gear lasts between 8 and 10 years\n",
        "prob_between_8_and_10 = prob_less_than_10 - prob_less_than_8\n",
        "\n",
        "print(f\"Probability the gear lasts b/w 8 & 10 years: {prob_between_8_and_10:.4f}\")"
      ]
    },
    {
      "cell_type": "markdown",
      "metadata": {
        "id": "_8eHTByZnYos"
      },
      "source": [
        "E. Find the time $t^*$ such that the probability that the gear fails before $t^*$ is $0.01$."
      ]
    },
    {
      "cell_type": "code",
      "execution_count": null,
      "metadata": {
        "id": "RLGTyf40nYos",
        "colab": {
          "base_uri": "https://localhost:8080/"
        },
        "outputId": "442e732a-efce-499c-ea68-fad719f7b041"
      },
      "outputs": [
        {
          "output_type": "stream",
          "name": "stdout",
          "text": [
            "Probability the gear fails before t* is: 6.975\n"
          ]
        }
      ],
      "source": [
        "prob_fail = 0.01 # Given\n",
        "time_to_fail = T.ppf(prob_fail)\n",
        "print(f\"Probability the gear fails before t* is: {time_to_fail:.3f}\")"
      ]
    },
    {
      "cell_type": "markdown",
      "source": [
        "**End of homework1!**"
      ],
      "metadata": {
        "id": "mspSvU-Xiwlm"
      }
    },
    {
      "cell_type": "code",
      "source": [
        "from google.colab import drive\n",
        "drive.mount('/content/drive')"
      ],
      "metadata": {
        "colab": {
          "base_uri": "https://localhost:8080/"
        },
        "id": "tm2fp5xrjnsx",
        "outputId": "d75cf445-32a6-4af3-8f95-b3ad692e70db"
      },
      "execution_count": null,
      "outputs": [
        {
          "output_type": "stream",
          "name": "stdout",
          "text": [
            "Drive already mounted at /content/drive; to attempt to forcibly remount, call drive.mount(\"/content/drive\", force_remount=True).\n"
          ]
        }
      ]
    },
    {
      "cell_type": "code",
      "source": [
        "!jupyter nbconvert --to PDF '/content/drive/MyDrive/Colab Notebooks/Shaunak_Mukherjee_ME539_homework-01_final.ipynb'"
      ],
      "metadata": {
        "colab": {
          "base_uri": "https://localhost:8080/"
        },
        "id": "5dz3dGBXkU_U",
        "outputId": "1f0d52df-9c9d-4b1b-8ca2-f5dd9e492c08"
      },
      "execution_count": null,
      "outputs": [
        {
          "output_type": "stream",
          "name": "stdout",
          "text": [
            "[NbConvertApp] Converting notebook /content/drive/MyDrive/Colab Notebooks/Shaunak_Mukherjee_ME539_homework-01_final.ipynb to PDF\n",
            "Failed to get connection\n",
            "** (inkscape:35922): \u001b[1;35mCRITICAL\u001b[0m **: \u001b[34m15:33:40.987\u001b[0m: dbus_g_proxy_new_for_name: assertion 'connection != NULL' failed\n",
            "\n",
            "** (inkscape:35922): \u001b[1;35mCRITICAL\u001b[0m **: \u001b[34m15:33:40.987\u001b[0m: dbus_g_proxy_call: assertion 'DBUS_IS_G_PROXY (proxy)' failed\n",
            "\n",
            "** (inkscape:35922): \u001b[1;35mCRITICAL\u001b[0m **: \u001b[34m15:33:40.987\u001b[0m: dbus_g_connection_register_g_object: assertion 'connection != NULL' failed\n",
            "Failed to get connection\n",
            "** (inkscape:35926): \u001b[1;35mCRITICAL\u001b[0m **: \u001b[34m15:33:41.327\u001b[0m: dbus_g_proxy_new_for_name: assertion 'connection != NULL' failed\n",
            "\n",
            "** (inkscape:35926): \u001b[1;35mCRITICAL\u001b[0m **: \u001b[34m15:33:41.327\u001b[0m: dbus_g_proxy_call: assertion 'DBUS_IS_G_PROXY (proxy)' failed\n",
            "\n",
            "** (inkscape:35926): \u001b[1;35mCRITICAL\u001b[0m **: \u001b[34m15:33:41.327\u001b[0m: dbus_g_connection_register_g_object: assertion 'connection != NULL' failed\n",
            "Failed to get connection\n",
            "** (inkscape:35930): \u001b[1;35mCRITICAL\u001b[0m **: \u001b[34m15:33:41.649\u001b[0m: dbus_g_proxy_new_for_name: assertion 'connection != NULL' failed\n",
            "\n",
            "** (inkscape:35930): \u001b[1;35mCRITICAL\u001b[0m **: \u001b[34m15:33:41.649\u001b[0m: dbus_g_proxy_call: assertion 'DBUS_IS_G_PROXY (proxy)' failed\n",
            "\n",
            "** (inkscape:35930): \u001b[1;35mCRITICAL\u001b[0m **: \u001b[34m15:33:41.649\u001b[0m: dbus_g_connection_register_g_object: assertion 'connection != NULL' failed\n",
            "Failed to get connection\n",
            "** (inkscape:35934): \u001b[1;35mCRITICAL\u001b[0m **: \u001b[34m15:33:41.970\u001b[0m: dbus_g_proxy_new_for_name: assertion 'connection != NULL' failed\n",
            "\n",
            "** (inkscape:35934): \u001b[1;35mCRITICAL\u001b[0m **: \u001b[34m15:33:41.970\u001b[0m: dbus_g_proxy_call: assertion 'DBUS_IS_G_PROXY (proxy)' failed\n",
            "\n",
            "** (inkscape:35934): \u001b[1;35mCRITICAL\u001b[0m **: \u001b[34m15:33:41.970\u001b[0m: dbus_g_connection_register_g_object: assertion 'connection != NULL' failed\n",
            "Failed to get connection\n",
            "** (inkscape:35942): \u001b[1;35mCRITICAL\u001b[0m **: \u001b[34m15:33:42.285\u001b[0m: dbus_g_proxy_new_for_name: assertion 'connection != NULL' failed\n",
            "\n",
            "** (inkscape:35942): \u001b[1;35mCRITICAL\u001b[0m **: \u001b[34m15:33:42.285\u001b[0m: dbus_g_proxy_call: assertion 'DBUS_IS_G_PROXY (proxy)' failed\n",
            "\n",
            "** (inkscape:35942): \u001b[1;35mCRITICAL\u001b[0m **: \u001b[34m15:33:42.285\u001b[0m: dbus_g_connection_register_g_object: assertion 'connection != NULL' failed\n",
            "Failed to get connection\n",
            "** (inkscape:35946): \u001b[1;35mCRITICAL\u001b[0m **: \u001b[34m15:33:42.587\u001b[0m: dbus_g_proxy_new_for_name: assertion 'connection != NULL' failed\n",
            "\n",
            "** (inkscape:35946): \u001b[1;35mCRITICAL\u001b[0m **: \u001b[34m15:33:42.587\u001b[0m: dbus_g_proxy_call: assertion 'DBUS_IS_G_PROXY (proxy)' failed\n",
            "\n",
            "** (inkscape:35946): \u001b[1;35mCRITICAL\u001b[0m **: \u001b[34m15:33:42.587\u001b[0m: dbus_g_connection_register_g_object: assertion 'connection != NULL' failed\n",
            "[NbConvertApp] Support files will be in Shaunak_Mukherjee_ME539_homework-01_final_files/\n",
            "[NbConvertApp] Making directory ./Shaunak_Mukherjee_ME539_homework-01_final_files\n",
            "[NbConvertApp] Making directory ./Shaunak_Mukherjee_ME539_homework-01_final_files\n",
            "[NbConvertApp] Making directory ./Shaunak_Mukherjee_ME539_homework-01_final_files\n",
            "[NbConvertApp] Making directory ./Shaunak_Mukherjee_ME539_homework-01_final_files\n",
            "[NbConvertApp] Making directory ./Shaunak_Mukherjee_ME539_homework-01_final_files\n",
            "[NbConvertApp] Making directory ./Shaunak_Mukherjee_ME539_homework-01_final_files\n",
            "[NbConvertApp] Making directory ./Shaunak_Mukherjee_ME539_homework-01_final_files\n",
            "[NbConvertApp] Making directory ./Shaunak_Mukherjee_ME539_homework-01_final_files\n",
            "[NbConvertApp] Making directory ./Shaunak_Mukherjee_ME539_homework-01_final_files\n",
            "[NbConvertApp] Making directory ./Shaunak_Mukherjee_ME539_homework-01_final_files\n",
            "[NbConvertApp] Making directory ./Shaunak_Mukherjee_ME539_homework-01_final_files\n",
            "[NbConvertApp] Making directory ./Shaunak_Mukherjee_ME539_homework-01_final_files\n",
            "[NbConvertApp] Writing 74038 bytes to notebook.tex\n",
            "[NbConvertApp] Building PDF\n",
            "[NbConvertApp] Running xelatex 3 times: ['xelatex', 'notebook.tex', '-quiet']\n",
            "[NbConvertApp] Running bibtex 1 time: ['bibtex', 'notebook']\n",
            "[NbConvertApp] WARNING | bibtex had problems, most likely because there were no citations\n",
            "[NbConvertApp] PDF successfully created\n",
            "[NbConvertApp] Writing 211444 bytes to /content/drive/MyDrive/Colab Notebooks/Shaunak_Mukherjee_ME539_homework-01_final.pdf\n"
          ]
        }
      ]
    },
    {
      "cell_type": "markdown",
      "source": [
        "<br>\n",
        "<br>\n",
        "<br>\n",
        "<br>\n",
        "<br>\n",
        "<br>\n",
        "<br>\n"
      ],
      "metadata": {
        "id": "rnUbvlm-6ioS"
      }
    }
  ],
  "metadata": {
    "celltoolbar": "Tags",
    "kernelspec": {
      "display_name": "Python 3 (ipykernel)",
      "language": "python",
      "name": "python3"
    },
    "language_info": {
      "codemirror_mode": {
        "name": "ipython",
        "version": 3
      },
      "file_extension": ".py",
      "mimetype": "text/x-python",
      "name": "python",
      "nbconvert_exporter": "python",
      "pygments_lexer": "ipython3",
      "version": "3.11.3"
    },
    "colab": {
      "provenance": [],
      "include_colab_link": true
    }
  },
  "nbformat": 4,
  "nbformat_minor": 0
}
